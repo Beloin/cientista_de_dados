{
 "metadata": {
  "language_info": {
   "codemirror_mode": {
    "name": "ipython",
    "version": 3
   },
   "file_extension": ".py",
   "mimetype": "text/x-python",
   "name": "python",
   "nbconvert_exporter": "python",
   "pygments_lexer": "ipython3",
   "version": "3.8.3-final"
  },
  "orig_nbformat": 2,
  "kernelspec": {
   "name": "python38364bitbasecondaa0f14daa8e6c4b25a9b490fc62b49355",
   "display_name": "Python 3.8.3 64-bit ('base': conda)"
  }
 },
 "nbformat": 4,
 "nbformat_minor": 2,
 "cells": [
  {
   "source": [
    "# Regressão Linear Mútipla\n",
    "Aqui aplicaremos um modelo de regressão linear Multipla"
   ],
   "cell_type": "markdown",
   "metadata": {}
  },
  {
   "cell_type": "code",
   "execution_count": 17,
   "metadata": {},
   "outputs": [],
   "source": [
    "import pandas as pd\n",
    "import numpy as np\n",
    "import matplotlib.pyplot as plt\n",
    "from sklearn.linear_model import LinearRegression\n",
    "import statsmodels.formula.api as sm \n",
    "\n",
    "# Warning:\n",
    "from yellowbrick.regressor import ResidualsPlot"
   ]
  },
  {
   "cell_type": "code",
   "execution_count": 6,
   "metadata": {},
   "outputs": [
    {
     "output_type": "execute_result",
     "data": {
      "text/plain": [
       "(32, 12)"
      ]
     },
     "metadata": {},
     "execution_count": 6
    }
   ],
   "source": [
    "base = pd.read_csv('./dados/mt_cars.csv')\n",
    "base.shape"
   ]
  },
  {
   "cell_type": "code",
   "execution_count": 3,
   "metadata": {},
   "outputs": [
    {
     "output_type": "execute_result",
     "data": {
      "text/plain": [
       "          Unnamed: 0   mpg  cyl   disp   hp  drat     wt   qsec  vs  am  gear  \\\n",
       "0          Mazda RX4  21.0    6  160.0  110  3.90  2.620  16.46   0   1     4   \n",
       "1      Mazda RX4 Wag  21.0    6  160.0  110  3.90  2.875  17.02   0   1     4   \n",
       "2         Datsun 710  22.8    4  108.0   93  3.85  2.320  18.61   1   1     4   \n",
       "3     Hornet 4 Drive  21.4    6  258.0  110  3.08  3.215  19.44   1   0     3   \n",
       "4  Hornet Sportabout  18.7    8  360.0  175  3.15  3.440  17.02   0   0     3   \n",
       "\n",
       "   carb  \n",
       "0     4  \n",
       "1     4  \n",
       "2     1  \n",
       "3     1  \n",
       "4     2  "
      ],
      "text/html": "<div>\n<style scoped>\n    .dataframe tbody tr th:only-of-type {\n        vertical-align: middle;\n    }\n\n    .dataframe tbody tr th {\n        vertical-align: top;\n    }\n\n    .dataframe thead th {\n        text-align: right;\n    }\n</style>\n<table border=\"1\" class=\"dataframe\">\n  <thead>\n    <tr style=\"text-align: right;\">\n      <th></th>\n      <th>Unnamed: 0</th>\n      <th>mpg</th>\n      <th>cyl</th>\n      <th>disp</th>\n      <th>hp</th>\n      <th>drat</th>\n      <th>wt</th>\n      <th>qsec</th>\n      <th>vs</th>\n      <th>am</th>\n      <th>gear</th>\n      <th>carb</th>\n    </tr>\n  </thead>\n  <tbody>\n    <tr>\n      <th>0</th>\n      <td>Mazda RX4</td>\n      <td>21.0</td>\n      <td>6</td>\n      <td>160.0</td>\n      <td>110</td>\n      <td>3.90</td>\n      <td>2.620</td>\n      <td>16.46</td>\n      <td>0</td>\n      <td>1</td>\n      <td>4</td>\n      <td>4</td>\n    </tr>\n    <tr>\n      <th>1</th>\n      <td>Mazda RX4 Wag</td>\n      <td>21.0</td>\n      <td>6</td>\n      <td>160.0</td>\n      <td>110</td>\n      <td>3.90</td>\n      <td>2.875</td>\n      <td>17.02</td>\n      <td>0</td>\n      <td>1</td>\n      <td>4</td>\n      <td>4</td>\n    </tr>\n    <tr>\n      <th>2</th>\n      <td>Datsun 710</td>\n      <td>22.8</td>\n      <td>4</td>\n      <td>108.0</td>\n      <td>93</td>\n      <td>3.85</td>\n      <td>2.320</td>\n      <td>18.61</td>\n      <td>1</td>\n      <td>1</td>\n      <td>4</td>\n      <td>1</td>\n    </tr>\n    <tr>\n      <th>3</th>\n      <td>Hornet 4 Drive</td>\n      <td>21.4</td>\n      <td>6</td>\n      <td>258.0</td>\n      <td>110</td>\n      <td>3.08</td>\n      <td>3.215</td>\n      <td>19.44</td>\n      <td>1</td>\n      <td>0</td>\n      <td>3</td>\n      <td>1</td>\n    </tr>\n    <tr>\n      <th>4</th>\n      <td>Hornet Sportabout</td>\n      <td>18.7</td>\n      <td>8</td>\n      <td>360.0</td>\n      <td>175</td>\n      <td>3.15</td>\n      <td>3.440</td>\n      <td>17.02</td>\n      <td>0</td>\n      <td>0</td>\n      <td>3</td>\n      <td>2</td>\n    </tr>\n  </tbody>\n</table>\n</div>"
     },
     "metadata": {},
     "execution_count": 3
    }
   ],
   "source": [
    "base.head()"
   ]
  },
  {
   "cell_type": "code",
   "execution_count": 7,
   "metadata": {},
   "outputs": [
    {
     "output_type": "execute_result",
     "data": {
      "text/plain": [
       "    mpg  cyl   disp   hp  drat     wt   qsec  vs  am  gear  carb\n",
       "0  21.0    6  160.0  110  3.90  2.620  16.46   0   1     4     4\n",
       "1  21.0    6  160.0  110  3.90  2.875  17.02   0   1     4     4\n",
       "2  22.8    4  108.0   93  3.85  2.320  18.61   1   1     4     1\n",
       "3  21.4    6  258.0  110  3.08  3.215  19.44   1   0     3     1\n",
       "4  18.7    8  360.0  175  3.15  3.440  17.02   0   0     3     2"
      ],
      "text/html": "<div>\n<style scoped>\n    .dataframe tbody tr th:only-of-type {\n        vertical-align: middle;\n    }\n\n    .dataframe tbody tr th {\n        vertical-align: top;\n    }\n\n    .dataframe thead th {\n        text-align: right;\n    }\n</style>\n<table border=\"1\" class=\"dataframe\">\n  <thead>\n    <tr style=\"text-align: right;\">\n      <th></th>\n      <th>mpg</th>\n      <th>cyl</th>\n      <th>disp</th>\n      <th>hp</th>\n      <th>drat</th>\n      <th>wt</th>\n      <th>qsec</th>\n      <th>vs</th>\n      <th>am</th>\n      <th>gear</th>\n      <th>carb</th>\n    </tr>\n  </thead>\n  <tbody>\n    <tr>\n      <th>0</th>\n      <td>21.0</td>\n      <td>6</td>\n      <td>160.0</td>\n      <td>110</td>\n      <td>3.90</td>\n      <td>2.620</td>\n      <td>16.46</td>\n      <td>0</td>\n      <td>1</td>\n      <td>4</td>\n      <td>4</td>\n    </tr>\n    <tr>\n      <th>1</th>\n      <td>21.0</td>\n      <td>6</td>\n      <td>160.0</td>\n      <td>110</td>\n      <td>3.90</td>\n      <td>2.875</td>\n      <td>17.02</td>\n      <td>0</td>\n      <td>1</td>\n      <td>4</td>\n      <td>4</td>\n    </tr>\n    <tr>\n      <th>2</th>\n      <td>22.8</td>\n      <td>4</td>\n      <td>108.0</td>\n      <td>93</td>\n      <td>3.85</td>\n      <td>2.320</td>\n      <td>18.61</td>\n      <td>1</td>\n      <td>1</td>\n      <td>4</td>\n      <td>1</td>\n    </tr>\n    <tr>\n      <th>3</th>\n      <td>21.4</td>\n      <td>6</td>\n      <td>258.0</td>\n      <td>110</td>\n      <td>3.08</td>\n      <td>3.215</td>\n      <td>19.44</td>\n      <td>1</td>\n      <td>0</td>\n      <td>3</td>\n      <td>1</td>\n    </tr>\n    <tr>\n      <th>4</th>\n      <td>18.7</td>\n      <td>8</td>\n      <td>360.0</td>\n      <td>175</td>\n      <td>3.15</td>\n      <td>3.440</td>\n      <td>17.02</td>\n      <td>0</td>\n      <td>0</td>\n      <td>3</td>\n      <td>2</td>\n    </tr>\n  </tbody>\n</table>\n</div>"
     },
     "metadata": {},
     "execution_count": 7
    }
   ],
   "source": [
    "# Excluimos coluna com nome de carros, dispensável para nosso modelo\n",
    "base.drop(['Unnamed: 0'], axis=1, inplace=True)\n",
    "base.head()"
   ]
  },
  {
   "source": [
    "Agora pegamos e atribuimos as variáveis dependentes às indepentes"
   ],
   "cell_type": "markdown",
   "metadata": {}
  },
  {
   "cell_type": "code",
   "execution_count": 8,
   "metadata": {},
   "outputs": [
    {
     "output_type": "execute_result",
     "data": {
      "text/plain": [
       "array([[ 1.        , -0.84755138],\n",
       "       [-0.84755138,  1.        ]])"
      ]
     },
     "metadata": {},
     "execution_count": 8
    }
   ],
   "source": [
    "X = base.iloc[:, 2].values # Coluna disp\n",
    "y = base.iloc[:, 0].values # Coluna mpg\n",
    "\n",
    "correlation = np.corrcoef(X, y)\n",
    "correlation"
   ]
  },
  {
   "cell_type": "code",
   "execution_count": 9,
   "metadata": {},
   "outputs": [],
   "source": [
    "# Formato de matriz para usar no Model\n",
    "X = X.reshape(-1, 1)"
   ]
  },
  {
   "cell_type": "code",
   "execution_count": 10,
   "metadata": {},
   "outputs": [
    {
     "output_type": "execute_result",
     "data": {
      "text/plain": [
       "LinearRegression()"
      ]
     },
     "metadata": {},
     "execution_count": 10
    }
   ],
   "source": [
    "model = LinearRegression()\n",
    "model.fit(X, y)"
   ]
  },
  {
   "cell_type": "code",
   "execution_count": 11,
   "metadata": {},
   "outputs": [
    {
     "output_type": "execute_result",
     "data": {
      "text/plain": [
       "29.59985475616395"
      ]
     },
     "metadata": {},
     "execution_count": 11
    }
   ],
   "source": [
    "# Interceptação\n",
    "model.intercept_"
   ]
  },
  {
   "cell_type": "code",
   "execution_count": 12,
   "metadata": {},
   "outputs": [
    {
     "output_type": "execute_result",
     "data": {
      "text/plain": [
       "array([-0.04121512])"
      ]
     },
     "metadata": {},
     "execution_count": 12
    }
   ],
   "source": [
    "# Inclinação\n",
    "model.coef_"
   ]
  },
  {
   "cell_type": "code",
   "execution_count": 13,
   "metadata": {},
   "outputs": [
    {
     "output_type": "execute_result",
     "data": {
      "text/plain": [
       "0.7183433404897299"
      ]
     },
     "metadata": {},
     "execution_count": 13
    }
   ],
   "source": [
    "# Score R²\n",
    "model.score(X, y)"
   ]
  },
  {
   "cell_type": "code",
   "execution_count": 14,
   "metadata": {},
   "outputs": [
    {
     "output_type": "execute_result",
     "data": {
      "text/plain": [
       "array([23.00543556, 23.00543556, 25.1486218 , 18.96635381, 14.76241157,\n",
       "       20.32645276, 14.76241157, 23.55359666, 23.79676587, 22.69220065,\n",
       "       22.69220065, 18.23272467, 18.23272467, 18.23272467, 10.14631813,\n",
       "       10.64089957, 11.46520197, 26.35622482, 26.47987017, 26.66945973,\n",
       "       24.64991885, 16.49344661, 17.07045829, 15.17456277, 13.11380677,\n",
       "       26.34386028, 24.64167582, 25.68029685, 15.13334765, 23.62366236,\n",
       "       17.19410365, 24.61282524])"
      ]
     },
     "metadata": {},
     "execution_count": 14
    }
   ],
   "source": [
    "prev = model.predict(X)\n",
    "prev"
   ]
  },
  {
   "source": [
    "Criação do modelo utilizando a biblioteca statsModel"
   ],
   "cell_type": "markdown",
   "metadata": {}
  },
  {
   "cell_type": "code",
   "execution_count": 15,
   "metadata": {},
   "outputs": [
    {
     "output_type": "execute_result",
     "data": {
      "text/plain": [
       "<class 'statsmodels.iolib.summary.Summary'>\n",
       "\"\"\"\n",
       "                            OLS Regression Results                            \n",
       "==============================================================================\n",
       "Dep. Variable:                    mpg   R-squared:                       0.718\n",
       "Model:                            OLS   Adj. R-squared:                  0.709\n",
       "Method:                 Least Squares   F-statistic:                     76.51\n",
       "Date:                Sun, 06 Dec 2020   Prob (F-statistic):           9.38e-10\n",
       "Time:                        15:18:01   Log-Likelihood:                -82.105\n",
       "No. Observations:                  32   AIC:                             168.2\n",
       "Df Residuals:                      30   BIC:                             171.1\n",
       "Df Model:                           1                                         \n",
       "Covariance Type:            nonrobust                                         \n",
       "==============================================================================\n",
       "                 coef    std err          t      P>|t|      [0.025      0.975]\n",
       "------------------------------------------------------------------------------\n",
       "Intercept     29.5999      1.230     24.070      0.000      27.088      32.111\n",
       "disp          -0.0412      0.005     -8.747      0.000      -0.051      -0.032\n",
       "==============================================================================\n",
       "Omnibus:                        3.368   Durbin-Watson:                   1.250\n",
       "Prob(Omnibus):                  0.186   Jarque-Bera (JB):                3.049\n",
       "Skew:                           0.719   Prob(JB):                        0.218\n",
       "Kurtosis:                       2.532   Cond. No.                         558.\n",
       "==============================================================================\n",
       "\n",
       "Warnings:\n",
       "[1] Standard Errors assume that the covariance matrix of the errors is correctly specified.\n",
       "\"\"\""
      ],
      "text/html": "<table class=\"simpletable\">\n<caption>OLS Regression Results</caption>\n<tr>\n  <th>Dep. Variable:</th>           <td>mpg</td>       <th>  R-squared:         </th> <td>   0.718</td>\n</tr>\n<tr>\n  <th>Model:</th>                   <td>OLS</td>       <th>  Adj. R-squared:    </th> <td>   0.709</td>\n</tr>\n<tr>\n  <th>Method:</th>             <td>Least Squares</td>  <th>  F-statistic:       </th> <td>   76.51</td>\n</tr>\n<tr>\n  <th>Date:</th>             <td>Sun, 06 Dec 2020</td> <th>  Prob (F-statistic):</th> <td>9.38e-10</td>\n</tr>\n<tr>\n  <th>Time:</th>                 <td>15:18:01</td>     <th>  Log-Likelihood:    </th> <td> -82.105</td>\n</tr>\n<tr>\n  <th>No. Observations:</th>      <td>    32</td>      <th>  AIC:               </th> <td>   168.2</td>\n</tr>\n<tr>\n  <th>Df Residuals:</th>          <td>    30</td>      <th>  BIC:               </th> <td>   171.1</td>\n</tr>\n<tr>\n  <th>Df Model:</th>              <td>     1</td>      <th>                     </th>     <td> </td>   \n</tr>\n<tr>\n  <th>Covariance Type:</th>      <td>nonrobust</td>    <th>                     </th>     <td> </td>   \n</tr>\n</table>\n<table class=\"simpletable\">\n<tr>\n      <td></td>         <th>coef</th>     <th>std err</th>      <th>t</th>      <th>P>|t|</th>  <th>[0.025</th>    <th>0.975]</th>  \n</tr>\n<tr>\n  <th>Intercept</th> <td>   29.5999</td> <td>    1.230</td> <td>   24.070</td> <td> 0.000</td> <td>   27.088</td> <td>   32.111</td>\n</tr>\n<tr>\n  <th>disp</th>      <td>   -0.0412</td> <td>    0.005</td> <td>   -8.747</td> <td> 0.000</td> <td>   -0.051</td> <td>   -0.032</td>\n</tr>\n</table>\n<table class=\"simpletable\">\n<tr>\n  <th>Omnibus:</th>       <td> 3.368</td> <th>  Durbin-Watson:     </th> <td>   1.250</td>\n</tr>\n<tr>\n  <th>Prob(Omnibus):</th> <td> 0.186</td> <th>  Jarque-Bera (JB):  </th> <td>   3.049</td>\n</tr>\n<tr>\n  <th>Skew:</th>          <td> 0.719</td> <th>  Prob(JB):          </th> <td>   0.218</td>\n</tr>\n<tr>\n  <th>Kurtosis:</th>      <td> 2.532</td> <th>  Cond. No.          </th> <td>    558.</td>\n</tr>\n</table><br/><br/>Warnings:<br/>[1] Standard Errors assume that the covariance matrix of the errors is correctly specified."
     },
     "metadata": {},
     "execution_count": 15
    }
   ],
   "source": [
    "# Podemos ver o r ajustado r²\n",
    "model_ajustado = sm.ols(formula='mpg ~ disp', data=base)\n",
    "model_treinado = model_ajustado.fit()\n",
    "model_treinado.summary()"
   ]
  },
  {
   "cell_type": "code",
   "execution_count": 16,
   "metadata": {},
   "outputs": [
    {
     "output_type": "execute_result",
     "data": {
      "text/plain": [
       "[<matplotlib.lines.Line2D at 0x7f7ad3ac2f10>]"
      ]
     },
     "metadata": {},
     "execution_count": 16
    },
    {
     "output_type": "display_data",
     "data": {
      "text/plain": "<Figure size 432x288 with 1 Axes>",
      "image/svg+xml": "<?xml version=\"1.0\" encoding=\"utf-8\" standalone=\"no\"?>\n<!DOCTYPE svg PUBLIC \"-//W3C//DTD SVG 1.1//EN\"\n  \"http://www.w3.org/Graphics/SVG/1.1/DTD/svg11.dtd\">\n<!-- Created with matplotlib (https://matplotlib.org/) -->\n<svg height=\"251.587657pt\" version=\"1.1\" viewBox=\"0 0 368.925 251.587657\" width=\"368.925pt\" xmlns=\"http://www.w3.org/2000/svg\" xmlns:xlink=\"http://www.w3.org/1999/xlink\">\n <defs>\n  <style type=\"text/css\">\n*{stroke-linecap:butt;stroke-linejoin:round;}\n  </style>\n </defs>\n <g id=\"figure_1\">\n  <g id=\"patch_1\">\n   <path d=\"M -0 251.587657 \nL 368.925 251.587657 \nL 368.925 0 \nL -0 0 \nz\n\" style=\"fill:none;\"/>\n  </g>\n  <g id=\"axes_1\">\n   <g id=\"patch_2\">\n    <path d=\"M 26.925 227.709532 \nL 361.725 227.709532 \nL 361.725 10.269532 \nL 26.925 10.269532 \nz\n\" style=\"fill:#ffffff;\"/>\n   </g>\n   <g id=\"PathCollection_1\">\n    <defs>\n     <path d=\"M 0 3 \nC 0.795609 3 1.55874 2.683901 2.12132 2.12132 \nC 2.683901 1.55874 3 0.795609 3 0 \nC 3 -0.795609 2.683901 -1.55874 2.12132 -2.12132 \nC 1.55874 -2.683901 0.795609 -3 0 -3 \nC -0.795609 -3 -1.55874 -2.683901 -2.12132 -2.12132 \nC -2.683901 -1.55874 -3 -0.795609 -3 0 \nC -3 0.795609 -2.683901 1.55874 -2.12132 2.12132 \nC -1.55874 2.683901 -0.795609 3 0 3 \nz\n\" id=\"m023f0f1061\" style=\"stroke:#1f77b4;\"/>\n    </defs>\n    <g clip-path=\"url(#p5462926bd3)\">\n     <use style=\"fill:#1f77b4;stroke:#1f77b4;\" x=\"109.636141\" xlink:href=\"#m023f0f1061\" y=\"127.504028\"/>\n     <use style=\"fill:#1f77b4;stroke:#1f77b4;\" x=\"109.636141\" xlink:href=\"#m023f0f1061\" y=\"127.504028\"/>\n     <use style=\"fill:#1f77b4;stroke:#1f77b4;\" x=\"70.157695\" xlink:href=\"#m023f0f1061\" y=\"112.524838\"/>\n     <use style=\"fill:#1f77b4;stroke:#1f77b4;\" x=\"184.037828\" xlink:href=\"#m023f0f1061\" y=\"124.175319\"/>\n     <use style=\"fill:#1f77b4;stroke:#1f77b4;\" x=\"261.476319\" xlink:href=\"#m023f0f1061\" y=\"146.644104\"/>\n     <use style=\"fill:#1f77b4;stroke:#1f77b4;\" x=\"158.984199\" xlink:href=\"#m023f0f1061\" y=\"151.637167\"/>\n     <use style=\"fill:#1f77b4;stroke:#1f77b4;\" x=\"261.476319\" xlink:href=\"#m023f0f1061\" y=\"183.259901\"/>\n     <use style=\"fill:#1f77b4;stroke:#1f77b4;\" x=\"99.538769\" xlink:href=\"#m023f0f1061\" y=\"99.210003\"/>\n     <use style=\"fill:#1f77b4;stroke:#1f77b4;\" x=\"95.059484\" xlink:href=\"#m023f0f1061\" y=\"112.524838\"/>\n     <use style=\"fill:#1f77b4;stroke:#1f77b4;\" x=\"115.406068\" xlink:href=\"#m023f0f1061\" y=\"142.483218\"/>\n     <use style=\"fill:#1f77b4;stroke:#1f77b4;\" x=\"115.406068\" xlink:href=\"#m023f0f1061\" y=\"154.133699\"/>\n     <use style=\"fill:#1f77b4;stroke:#1f77b4;\" x=\"197.551604\" xlink:href=\"#m023f0f1061\" y=\"165.78418\"/>\n     <use style=\"fill:#1f77b4;stroke:#1f77b4;\" x=\"197.551604\" xlink:href=\"#m023f0f1061\" y=\"158.294585\"/>\n     <use style=\"fill:#1f77b4;stroke:#1f77b4;\" x=\"197.551604\" xlink:href=\"#m023f0f1061\" y=\"175.770307\"/>\n     <use style=\"fill:#1f77b4;stroke:#1f77b4;\" x=\"346.506818\" xlink:href=\"#m023f0f1061\" y=\"215.714813\"/>\n     <use style=\"fill:#1f77b4;stroke:#1f77b4;\" x=\"337.396408\" xlink:href=\"#m023f0f1061\" y=\"215.714813\"/>\n     <use style=\"fill:#1f77b4;stroke:#1f77b4;\" x=\"322.21239\" xlink:href=\"#m023f0f1061\" y=\"179.931193\"/>\n     <use style=\"fill:#1f77b4;stroke:#1f77b4;\" x=\"47.913109\" xlink:href=\"#m023f0f1061\" y=\"32.635826\"/>\n     <use style=\"fill:#1f77b4;stroke:#1f77b4;\" x=\"45.635506\" xlink:href=\"#m023f0f1061\" y=\"49.27937\"/>\n     <use style=\"fill:#1f77b4;stroke:#1f77b4;\" x=\"42.143182\" xlink:href=\"#m023f0f1061\" y=\"20.153168\"/>\n     <use style=\"fill:#1f77b4;stroke:#1f77b4;\" x=\"79.344025\" xlink:href=\"#m023f0f1061\" y=\"123.343142\"/>\n     <use style=\"fill:#1f77b4;stroke:#1f77b4;\" x=\"229.589881\" xlink:href=\"#m023f0f1061\" y=\"173.273775\"/>\n     <use style=\"fill:#1f77b4;stroke:#1f77b4;\" x=\"218.961069\" xlink:href=\"#m023f0f1061\" y=\"175.770307\"/>\n     <use style=\"fill:#1f77b4;stroke:#1f77b4;\" x=\"253.88431\" xlink:href=\"#m023f0f1061\" y=\"191.581674\"/>\n     <use style=\"fill:#1f77b4;stroke:#1f77b4;\" x=\"291.844354\" xlink:href=\"#m023f0f1061\" y=\"142.483218\"/>\n     <use style=\"fill:#1f77b4;stroke:#1f77b4;\" x=\"48.140869\" xlink:href=\"#m023f0f1061\" y=\"75.076864\"/>\n     <use style=\"fill:#1f77b4;stroke:#1f77b4;\" x=\"79.495866\" xlink:href=\"#m023f0f1061\" y=\"85.895168\"/>\n     <use style=\"fill:#1f77b4;stroke:#1f77b4;\" x=\"60.364003\" xlink:href=\"#m023f0f1061\" y=\"49.27937\"/>\n     <use style=\"fill:#1f77b4;stroke:#1f77b4;\" x=\"254.643511\" xlink:href=\"#m023f0f1061\" y=\"170.777243\"/>\n     <use style=\"fill:#1f77b4;stroke:#1f77b4;\" x=\"98.248128\" xlink:href=\"#m023f0f1061\" y=\"138.322332\"/>\n     <use style=\"fill:#1f77b4;stroke:#1f77b4;\" x=\"216.683466\" xlink:href=\"#m023f0f1061\" y=\"177.434661\"/>\n     <use style=\"fill:#1f77b4;stroke:#1f77b4;\" x=\"80.027306\" xlink:href=\"#m023f0f1061\" y=\"124.175319\"/>\n    </g>\n   </g>\n   <g id=\"matplotlib.axis_1\">\n    <g id=\"xtick_1\">\n     <g id=\"line2d_1\">\n      <defs>\n       <path d=\"M 0 0 \nL 0 3.5 \n\" id=\"mfac89de26c\" style=\"stroke:#000000;stroke-width:0.8;\"/>\n      </defs>\n      <g>\n       <use style=\"stroke:#000000;stroke-width:0.8;\" x=\"64.084088\" xlink:href=\"#mfac89de26c\" y=\"227.709532\"/>\n      </g>\n     </g>\n     <g id=\"text_1\">\n      <!-- 100 -->\n      <defs>\n       <path d=\"M 12.40625 8.296875 \nL 28.515625 8.296875 \nL 28.515625 63.921875 \nL 10.984375 60.40625 \nL 10.984375 69.390625 \nL 28.421875 72.90625 \nL 38.28125 72.90625 \nL 38.28125 8.296875 \nL 54.390625 8.296875 \nL 54.390625 0 \nL 12.40625 0 \nz\n\" id=\"DejaVuSans-49\"/>\n       <path d=\"M 31.78125 66.40625 \nQ 24.171875 66.40625 20.328125 58.90625 \nQ 16.5 51.421875 16.5 36.375 \nQ 16.5 21.390625 20.328125 13.890625 \nQ 24.171875 6.390625 31.78125 6.390625 \nQ 39.453125 6.390625 43.28125 13.890625 \nQ 47.125 21.390625 47.125 36.375 \nQ 47.125 51.421875 43.28125 58.90625 \nQ 39.453125 66.40625 31.78125 66.40625 \nz\nM 31.78125 74.21875 \nQ 44.046875 74.21875 50.515625 64.515625 \nQ 56.984375 54.828125 56.984375 36.375 \nQ 56.984375 17.96875 50.515625 8.265625 \nQ 44.046875 -1.421875 31.78125 -1.421875 \nQ 19.53125 -1.421875 13.0625 8.265625 \nQ 6.59375 17.96875 6.59375 36.375 \nQ 6.59375 54.828125 13.0625 64.515625 \nQ 19.53125 74.21875 31.78125 74.21875 \nz\n\" id=\"DejaVuSans-48\"/>\n      </defs>\n      <g transform=\"translate(54.540338 242.307969)scale(0.1 -0.1)\">\n       <use xlink:href=\"#DejaVuSans-49\"/>\n       <use x=\"63.623047\" xlink:href=\"#DejaVuSans-48\"/>\n       <use x=\"127.246094\" xlink:href=\"#DejaVuSans-48\"/>\n      </g>\n     </g>\n    </g>\n    <g id=\"xtick_2\">\n     <g id=\"line2d_2\">\n      <g>\n       <use style=\"stroke:#000000;stroke-width:0.8;\" x=\"102.044132\" xlink:href=\"#mfac89de26c\" y=\"227.709532\"/>\n      </g>\n     </g>\n     <g id=\"text_2\">\n      <!-- 150 -->\n      <defs>\n       <path d=\"M 10.796875 72.90625 \nL 49.515625 72.90625 \nL 49.515625 64.59375 \nL 19.828125 64.59375 \nL 19.828125 46.734375 \nQ 21.96875 47.46875 24.109375 47.828125 \nQ 26.265625 48.1875 28.421875 48.1875 \nQ 40.625 48.1875 47.75 41.5 \nQ 54.890625 34.8125 54.890625 23.390625 \nQ 54.890625 11.625 47.5625 5.09375 \nQ 40.234375 -1.421875 26.90625 -1.421875 \nQ 22.3125 -1.421875 17.546875 -0.640625 \nQ 12.796875 0.140625 7.71875 1.703125 \nL 7.71875 11.625 \nQ 12.109375 9.234375 16.796875 8.0625 \nQ 21.484375 6.890625 26.703125 6.890625 \nQ 35.15625 6.890625 40.078125 11.328125 \nQ 45.015625 15.765625 45.015625 23.390625 \nQ 45.015625 31 40.078125 35.4375 \nQ 35.15625 39.890625 26.703125 39.890625 \nQ 22.75 39.890625 18.8125 39.015625 \nQ 14.890625 38.140625 10.796875 36.28125 \nz\n\" id=\"DejaVuSans-53\"/>\n      </defs>\n      <g transform=\"translate(92.500382 242.307969)scale(0.1 -0.1)\">\n       <use xlink:href=\"#DejaVuSans-49\"/>\n       <use x=\"63.623047\" xlink:href=\"#DejaVuSans-53\"/>\n       <use x=\"127.246094\" xlink:href=\"#DejaVuSans-48\"/>\n      </g>\n     </g>\n    </g>\n    <g id=\"xtick_3\">\n     <g id=\"line2d_3\">\n      <g>\n       <use style=\"stroke:#000000;stroke-width:0.8;\" x=\"140.004176\" xlink:href=\"#mfac89de26c\" y=\"227.709532\"/>\n      </g>\n     </g>\n     <g id=\"text_3\">\n      <!-- 200 -->\n      <defs>\n       <path d=\"M 19.1875 8.296875 \nL 53.609375 8.296875 \nL 53.609375 0 \nL 7.328125 0 \nL 7.328125 8.296875 \nQ 12.9375 14.109375 22.625 23.890625 \nQ 32.328125 33.6875 34.8125 36.53125 \nQ 39.546875 41.84375 41.421875 45.53125 \nQ 43.3125 49.21875 43.3125 52.78125 \nQ 43.3125 58.59375 39.234375 62.25 \nQ 35.15625 65.921875 28.609375 65.921875 \nQ 23.96875 65.921875 18.8125 64.3125 \nQ 13.671875 62.703125 7.8125 59.421875 \nL 7.8125 69.390625 \nQ 13.765625 71.78125 18.9375 73 \nQ 24.125 74.21875 28.421875 74.21875 \nQ 39.75 74.21875 46.484375 68.546875 \nQ 53.21875 62.890625 53.21875 53.421875 \nQ 53.21875 48.921875 51.53125 44.890625 \nQ 49.859375 40.875 45.40625 35.40625 \nQ 44.1875 33.984375 37.640625 27.21875 \nQ 31.109375 20.453125 19.1875 8.296875 \nz\n\" id=\"DejaVuSans-50\"/>\n      </defs>\n      <g transform=\"translate(130.460426 242.307969)scale(0.1 -0.1)\">\n       <use xlink:href=\"#DejaVuSans-50\"/>\n       <use x=\"63.623047\" xlink:href=\"#DejaVuSans-48\"/>\n       <use x=\"127.246094\" xlink:href=\"#DejaVuSans-48\"/>\n      </g>\n     </g>\n    </g>\n    <g id=\"xtick_4\">\n     <g id=\"line2d_4\">\n      <g>\n       <use style=\"stroke:#000000;stroke-width:0.8;\" x=\"177.964221\" xlink:href=\"#mfac89de26c\" y=\"227.709532\"/>\n      </g>\n     </g>\n     <g id=\"text_4\">\n      <!-- 250 -->\n      <g transform=\"translate(168.420471 242.307969)scale(0.1 -0.1)\">\n       <use xlink:href=\"#DejaVuSans-50\"/>\n       <use x=\"63.623047\" xlink:href=\"#DejaVuSans-53\"/>\n       <use x=\"127.246094\" xlink:href=\"#DejaVuSans-48\"/>\n      </g>\n     </g>\n    </g>\n    <g id=\"xtick_5\">\n     <g id=\"line2d_5\">\n      <g>\n       <use style=\"stroke:#000000;stroke-width:0.8;\" x=\"215.924265\" xlink:href=\"#mfac89de26c\" y=\"227.709532\"/>\n      </g>\n     </g>\n     <g id=\"text_5\">\n      <!-- 300 -->\n      <defs>\n       <path d=\"M 40.578125 39.3125 \nQ 47.65625 37.796875 51.625 33 \nQ 55.609375 28.21875 55.609375 21.1875 \nQ 55.609375 10.40625 48.1875 4.484375 \nQ 40.765625 -1.421875 27.09375 -1.421875 \nQ 22.515625 -1.421875 17.65625 -0.515625 \nQ 12.796875 0.390625 7.625 2.203125 \nL 7.625 11.71875 \nQ 11.71875 9.328125 16.59375 8.109375 \nQ 21.484375 6.890625 26.8125 6.890625 \nQ 36.078125 6.890625 40.9375 10.546875 \nQ 45.796875 14.203125 45.796875 21.1875 \nQ 45.796875 27.640625 41.28125 31.265625 \nQ 36.765625 34.90625 28.71875 34.90625 \nL 20.21875 34.90625 \nL 20.21875 43.015625 \nL 29.109375 43.015625 \nQ 36.375 43.015625 40.234375 45.921875 \nQ 44.09375 48.828125 44.09375 54.296875 \nQ 44.09375 59.90625 40.109375 62.90625 \nQ 36.140625 65.921875 28.71875 65.921875 \nQ 24.65625 65.921875 20.015625 65.03125 \nQ 15.375 64.15625 9.8125 62.3125 \nL 9.8125 71.09375 \nQ 15.4375 72.65625 20.34375 73.4375 \nQ 25.25 74.21875 29.59375 74.21875 \nQ 40.828125 74.21875 47.359375 69.109375 \nQ 53.90625 64.015625 53.90625 55.328125 \nQ 53.90625 49.265625 50.4375 45.09375 \nQ 46.96875 40.921875 40.578125 39.3125 \nz\n\" id=\"DejaVuSans-51\"/>\n      </defs>\n      <g transform=\"translate(206.380515 242.307969)scale(0.1 -0.1)\">\n       <use xlink:href=\"#DejaVuSans-51\"/>\n       <use x=\"63.623047\" xlink:href=\"#DejaVuSans-48\"/>\n       <use x=\"127.246094\" xlink:href=\"#DejaVuSans-48\"/>\n      </g>\n     </g>\n    </g>\n    <g id=\"xtick_6\">\n     <g id=\"line2d_6\">\n      <g>\n       <use style=\"stroke:#000000;stroke-width:0.8;\" x=\"253.88431\" xlink:href=\"#mfac89de26c\" y=\"227.709532\"/>\n      </g>\n     </g>\n     <g id=\"text_6\">\n      <!-- 350 -->\n      <g transform=\"translate(244.34056 242.307969)scale(0.1 -0.1)\">\n       <use xlink:href=\"#DejaVuSans-51\"/>\n       <use x=\"63.623047\" xlink:href=\"#DejaVuSans-53\"/>\n       <use x=\"127.246094\" xlink:href=\"#DejaVuSans-48\"/>\n      </g>\n     </g>\n    </g>\n    <g id=\"xtick_7\">\n     <g id=\"line2d_7\">\n      <g>\n       <use style=\"stroke:#000000;stroke-width:0.8;\" x=\"291.844354\" xlink:href=\"#mfac89de26c\" y=\"227.709532\"/>\n      </g>\n     </g>\n     <g id=\"text_7\">\n      <!-- 400 -->\n      <defs>\n       <path d=\"M 37.796875 64.3125 \nL 12.890625 25.390625 \nL 37.796875 25.390625 \nz\nM 35.203125 72.90625 \nL 47.609375 72.90625 \nL 47.609375 25.390625 \nL 58.015625 25.390625 \nL 58.015625 17.1875 \nL 47.609375 17.1875 \nL 47.609375 0 \nL 37.796875 0 \nL 37.796875 17.1875 \nL 4.890625 17.1875 \nL 4.890625 26.703125 \nz\n\" id=\"DejaVuSans-52\"/>\n      </defs>\n      <g transform=\"translate(282.300604 242.307969)scale(0.1 -0.1)\">\n       <use xlink:href=\"#DejaVuSans-52\"/>\n       <use x=\"63.623047\" xlink:href=\"#DejaVuSans-48\"/>\n       <use x=\"127.246094\" xlink:href=\"#DejaVuSans-48\"/>\n      </g>\n     </g>\n    </g>\n    <g id=\"xtick_8\">\n     <g id=\"line2d_8\">\n      <g>\n       <use style=\"stroke:#000000;stroke-width:0.8;\" x=\"329.804399\" xlink:href=\"#mfac89de26c\" y=\"227.709532\"/>\n      </g>\n     </g>\n     <g id=\"text_8\">\n      <!-- 450 -->\n      <g transform=\"translate(320.260649 242.307969)scale(0.1 -0.1)\">\n       <use xlink:href=\"#DejaVuSans-52\"/>\n       <use x=\"63.623047\" xlink:href=\"#DejaVuSans-53\"/>\n       <use x=\"127.246094\" xlink:href=\"#DejaVuSans-48\"/>\n      </g>\n     </g>\n    </g>\n   </g>\n   <g id=\"matplotlib.axis_2\">\n    <g id=\"ytick_1\">\n     <g id=\"line2d_9\">\n      <defs>\n       <path d=\"M 0 0 \nL -3.5 0 \n\" id=\"mf4d34588cd\" style=\"stroke:#000000;stroke-width:0.8;\"/>\n      </defs>\n      <g>\n       <use style=\"stroke:#000000;stroke-width:0.8;\" x=\"26.925\" xlink:href=\"#mf4d34588cd\" y=\"219.043522\"/>\n      </g>\n     </g>\n     <g id=\"text_9\">\n      <!-- 10 -->\n      <g transform=\"translate(7.2 222.84274)scale(0.1 -0.1)\">\n       <use xlink:href=\"#DejaVuSans-49\"/>\n       <use x=\"63.623047\" xlink:href=\"#DejaVuSans-48\"/>\n      </g>\n     </g>\n    </g>\n    <g id=\"ytick_2\">\n     <g id=\"line2d_10\">\n      <g>\n       <use style=\"stroke:#000000;stroke-width:0.8;\" x=\"26.925\" xlink:href=\"#mf4d34588cd\" y=\"177.434661\"/>\n      </g>\n     </g>\n     <g id=\"text_10\">\n      <!-- 15 -->\n      <g transform=\"translate(7.2 181.23388)scale(0.1 -0.1)\">\n       <use xlink:href=\"#DejaVuSans-49\"/>\n       <use x=\"63.623047\" xlink:href=\"#DejaVuSans-53\"/>\n      </g>\n     </g>\n    </g>\n    <g id=\"ytick_3\">\n     <g id=\"line2d_11\">\n      <g>\n       <use style=\"stroke:#000000;stroke-width:0.8;\" x=\"26.925\" xlink:href=\"#mf4d34588cd\" y=\"135.8258\"/>\n      </g>\n     </g>\n     <g id=\"text_11\">\n      <!-- 20 -->\n      <g transform=\"translate(7.2 139.625019)scale(0.1 -0.1)\">\n       <use xlink:href=\"#DejaVuSans-50\"/>\n       <use x=\"63.623047\" xlink:href=\"#DejaVuSans-48\"/>\n      </g>\n     </g>\n    </g>\n    <g id=\"ytick_4\">\n     <g id=\"line2d_12\">\n      <g>\n       <use style=\"stroke:#000000;stroke-width:0.8;\" x=\"26.925\" xlink:href=\"#mf4d34588cd\" y=\"94.21694\"/>\n      </g>\n     </g>\n     <g id=\"text_12\">\n      <!-- 25 -->\n      <g transform=\"translate(7.2 98.016159)scale(0.1 -0.1)\">\n       <use xlink:href=\"#DejaVuSans-50\"/>\n       <use x=\"63.623047\" xlink:href=\"#DejaVuSans-53\"/>\n      </g>\n     </g>\n    </g>\n    <g id=\"ytick_5\">\n     <g id=\"line2d_13\">\n      <g>\n       <use style=\"stroke:#000000;stroke-width:0.8;\" x=\"26.925\" xlink:href=\"#mf4d34588cd\" y=\"52.608079\"/>\n      </g>\n     </g>\n     <g id=\"text_13\">\n      <!-- 30 -->\n      <g transform=\"translate(7.2 56.407298)scale(0.1 -0.1)\">\n       <use xlink:href=\"#DejaVuSans-51\"/>\n       <use x=\"63.623047\" xlink:href=\"#DejaVuSans-48\"/>\n      </g>\n     </g>\n    </g>\n    <g id=\"ytick_6\">\n     <g id=\"line2d_14\">\n      <g>\n       <use style=\"stroke:#000000;stroke-width:0.8;\" x=\"26.925\" xlink:href=\"#mf4d34588cd\" y=\"10.999219\"/>\n      </g>\n     </g>\n     <g id=\"text_14\">\n      <!-- 35 -->\n      <g transform=\"translate(7.2 14.798437)scale(0.1 -0.1)\">\n       <use xlink:href=\"#DejaVuSans-51\"/>\n       <use x=\"63.623047\" xlink:href=\"#DejaVuSans-53\"/>\n      </g>\n     </g>\n    </g>\n   </g>\n   <g id=\"line2d_15\">\n    <path clip-path=\"url(#p5462926bd3)\" d=\"M 109.636141 110.815251 \nL 109.636141 110.815251 \nL 70.157695 92.980143 \nL 184.037828 144.427568 \nL 261.476319 179.411818 \nL 158.984199 133.109135 \nL 261.476319 179.411818 \nL 99.538769 106.253579 \nL 95.059484 104.22998 \nL 115.406068 113.42192 \nL 115.406068 113.42192 \nL 197.551604 150.532663 \nL 197.551604 150.532663 \nL 197.551604 150.532663 \nL 346.506818 217.825895 \nL 337.396408 213.710101 \nL 322.21239 206.850445 \nL 47.913109 82.930746 \nL 45.635506 81.901798 \nL 42.143182 80.324076 \nL 79.344025 97.130235 \nL 229.589881 165.006539 \nL 218.961069 160.204779 \nL 253.88431 175.981989 \nL 291.844354 193.131131 \nL 48.140869 83.033641 \nL 79.495866 97.198832 \nL 60.364003 88.555665 \nL 254.643511 176.324972 \nL 98.248128 105.670508 \nL 216.683466 159.17583 \nL 80.027306 97.43892 \n\" style=\"fill:none;stroke:#ff0000;stroke-linecap:square;stroke-width:1.5;\"/>\n   </g>\n   <g id=\"patch_3\">\n    <path d=\"M 26.925 227.709532 \nL 26.925 10.269532 \n\" style=\"fill:none;stroke:#000000;stroke-linecap:square;stroke-linejoin:miter;stroke-width:0.8;\"/>\n   </g>\n   <g id=\"patch_4\">\n    <path d=\"M 361.725 227.709532 \nL 361.725 10.269532 \n\" style=\"fill:none;stroke:#000000;stroke-linecap:square;stroke-linejoin:miter;stroke-width:0.8;\"/>\n   </g>\n   <g id=\"patch_5\">\n    <path d=\"M 26.925 227.709532 \nL 361.725 227.709532 \n\" style=\"fill:none;stroke:#000000;stroke-linecap:square;stroke-linejoin:miter;stroke-width:0.8;\"/>\n   </g>\n   <g id=\"patch_6\">\n    <path d=\"M 26.925 10.269532 \nL 361.725 10.269532 \n\" style=\"fill:none;stroke:#000000;stroke-linecap:square;stroke-linejoin:miter;stroke-width:0.8;\"/>\n   </g>\n  </g>\n </g>\n <defs>\n  <clipPath id=\"p5462926bd3\">\n   <rect height=\"217.44\" width=\"334.8\" x=\"26.925\" y=\"10.269532\"/>\n  </clipPath>\n </defs>\n</svg>\n",
      "image/png": "[encoded data removed]"
     },
     "metadata": {
      "needs_background": "light"
     }
    }
   ],
   "source": [
    "# Visualizar os resultados\n",
    "plt.scatter(X, y)\n",
    "plt.plot(X, prev, color= 'red')"
   ]
  },
  {
   "cell_type": "code",
   "execution_count": 24,
   "metadata": {},
   "outputs": [],
   "source": [
    "# Visualização dos resíduos:\n",
    "# visu = ResidualsPlot(model)\n",
    "# visu.fit(X, y)\n",
    "# visu.poof()"
   ]
  },
  {
   "cell_type": "code",
   "execution_count": 25,
   "metadata": {},
   "outputs": [
    {
     "output_type": "execute_result",
     "data": {
      "text/plain": [
       "array([21.35683076])"
      ]
     },
     "metadata": {},
     "execution_count": 25
    }
   ],
   "source": [
    "# Previsão de um valor\n",
    "model.predict([[200]])"
   ]
  },
  {
   "cell_type": "code",
   "execution_count": 26,
   "metadata": {},
   "outputs": [
    {
     "output_type": "execute_result",
     "data": {
      "text/plain": [
       "array([[  6. , 160. , 110. ],\n",
       "       [  6. , 160. , 110. ],\n",
       "       [  4. , 108. ,  93. ],\n",
       "       [  6. , 258. , 110. ],\n",
       "       [  8. , 360. , 175. ],\n",
       "       [  6. , 225. , 105. ],\n",
       "       [  8. , 360. , 245. ],\n",
       "       [  4. , 146.7,  62. ],\n",
       "       [  4. , 140.8,  95. ],\n",
       "       [  6. , 167.6, 123. ],\n",
       "       [  6. , 167.6, 123. ],\n",
       "       [  8. , 275.8, 180. ],\n",
       "       [  8. , 275.8, 180. ],\n",
       "       [  8. , 275.8, 180. ],\n",
       "       [  8. , 472. , 205. ],\n",
       "       [  8. , 460. , 215. ],\n",
       "       [  8. , 440. , 230. ],\n",
       "       [  4. ,  78.7,  66. ],\n",
       "       [  4. ,  75.7,  52. ],\n",
       "       [  4. ,  71.1,  65. ],\n",
       "       [  4. , 120.1,  97. ],\n",
       "       [  8. , 318. , 150. ],\n",
       "       [  8. , 304. , 150. ],\n",
       "       [  8. , 350. , 245. ],\n",
       "       [  8. , 400. , 175. ],\n",
       "       [  4. ,  79. ,  66. ],\n",
       "       [  4. , 120.3,  91. ],\n",
       "       [  4. ,  95.1, 113. ],\n",
       "       [  8. , 351. , 264. ],\n",
       "       [  6. , 145. , 175. ],\n",
       "       [  8. , 301. , 335. ],\n",
       "       [  4. , 121. , 109. ]])"
      ]
     },
     "metadata": {},
     "execution_count": 26
    }
   ],
   "source": [
    "# Criação de novas variáveis X1 e Y1 e novo modelo para comparação com o anterior\n",
    "# 3 Variáveis independentes para preever mgp: cyl -> disp -> hp\n",
    "X1 = base.iloc[:, 1:4].values\n",
    "X1 "
   ]
  },
  {
   "cell_type": "code",
   "execution_count": 34,
   "metadata": {},
   "outputs": [
    {
     "output_type": "execute_result",
     "data": {
      "text/plain": [
       "0.7678877440928638"
      ]
     },
     "metadata": {},
     "execution_count": 34
    }
   ],
   "source": [
    "# Trazendo a variável dependente\n",
    "y1 = base.iloc[:, 0].values\n",
    "model2 = LinearRegression()\n",
    "model2.fit(X1, y1)\n",
    "\n",
    "# R²\n",
    "model2.score(X1, y1)"
   ]
  },
  {
   "source": [
    "# Agora criamos o modelo ajustado com os outros atributos (Sendo assim uma regressão linear múltipla)\n",
    "model2_ajustado = sm.ols(formula='mpg ~ cyl + disp + hp', data=base)\n",
    "model2_treinado = model2_ajustado.fit()\n",
    "model2_treinado.summary()"
   ],
   "cell_type": "code",
   "metadata": {},
   "execution_count": 30,
   "outputs": [
    {
     "output_type": "execute_result",
     "data": {
      "text/plain": [
       "<class 'statsmodels.iolib.summary.Summary'>\n",
       "\"\"\"\n",
       "                            OLS Regression Results                            \n",
       "==============================================================================\n",
       "Dep. Variable:                    mpg   R-squared:                       0.768\n",
       "Model:                            OLS   Adj. R-squared:                  0.743\n",
       "Method:                 Least Squares   F-statistic:                     30.88\n",
       "Date:                Sun, 06 Dec 2020   Prob (F-statistic):           5.05e-09\n",
       "Time:                        15:34:23   Log-Likelihood:                -79.009\n",
       "No. Observations:                  32   AIC:                             166.0\n",
       "Df Residuals:                      28   BIC:                             171.9\n",
       "Df Model:                           3                                         \n",
       "Covariance Type:            nonrobust                                         \n",
       "==============================================================================\n",
       "                 coef    std err          t      P>|t|      [0.025      0.975]\n",
       "------------------------------------------------------------------------------\n",
       "Intercept     34.1849      2.591     13.195      0.000      28.878      39.492\n",
       "cyl           -1.2274      0.797     -1.540      0.135      -2.861       0.406\n",
       "disp          -0.0188      0.010     -1.811      0.081      -0.040       0.002\n",
       "hp            -0.0147      0.015     -1.002      0.325      -0.045       0.015\n",
       "==============================================================================\n",
       "Omnibus:                        2.942   Durbin-Watson:                   1.606\n",
       "Prob(Omnibus):                  0.230   Jarque-Bera (JB):                2.558\n",
       "Skew:                           0.675   Prob(JB):                        0.278\n",
       "Kurtosis:                       2.692   Cond. No.                     1.51e+03\n",
       "==============================================================================\n",
       "\n",
       "Warnings:\n",
       "[1] Standard Errors assume that the covariance matrix of the errors is correctly specified.\n",
       "[2] The condition number is large, 1.51e+03. This might indicate that there are\n",
       "strong multicollinearity or other numerical problems.\n",
       "\"\"\""
      ],
      "text/html": "<table class=\"simpletable\">\n<caption>OLS Regression Results</caption>\n<tr>\n  <th>Dep. Variable:</th>           <td>mpg</td>       <th>  R-squared:         </th> <td>   0.768</td>\n</tr>\n<tr>\n  <th>Model:</th>                   <td>OLS</td>       <th>  Adj. R-squared:    </th> <td>   0.743</td>\n</tr>\n<tr>\n  <th>Method:</th>             <td>Least Squares</td>  <th>  F-statistic:       </th> <td>   30.88</td>\n</tr>\n<tr>\n  <th>Date:</th>             <td>Sun, 06 Dec 2020</td> <th>  Prob (F-statistic):</th> <td>5.05e-09</td>\n</tr>\n<tr>\n  <th>Time:</th>                 <td>15:34:23</td>     <th>  Log-Likelihood:    </th> <td> -79.009</td>\n</tr>\n<tr>\n  <th>No. Observations:</th>      <td>    32</td>      <th>  AIC:               </th> <td>   166.0</td>\n</tr>\n<tr>\n  <th>Df Residuals:</th>          <td>    28</td>      <th>  BIC:               </th> <td>   171.9</td>\n</tr>\n<tr>\n  <th>Df Model:</th>              <td>     3</td>      <th>                     </th>     <td> </td>   \n</tr>\n<tr>\n  <th>Covariance Type:</th>      <td>nonrobust</td>    <th>                     </th>     <td> </td>   \n</tr>\n</table>\n<table class=\"simpletable\">\n<tr>\n      <td></td>         <th>coef</th>     <th>std err</th>      <th>t</th>      <th>P>|t|</th>  <th>[0.025</th>    <th>0.975]</th>  \n</tr>\n<tr>\n  <th>Intercept</th> <td>   34.1849</td> <td>    2.591</td> <td>   13.195</td> <td> 0.000</td> <td>   28.878</td> <td>   39.492</td>\n</tr>\n<tr>\n  <th>cyl</th>       <td>   -1.2274</td> <td>    0.797</td> <td>   -1.540</td> <td> 0.135</td> <td>   -2.861</td> <td>    0.406</td>\n</tr>\n<tr>\n  <th>disp</th>      <td>   -0.0188</td> <td>    0.010</td> <td>   -1.811</td> <td> 0.081</td> <td>   -0.040</td> <td>    0.002</td>\n</tr>\n<tr>\n  <th>hp</th>        <td>   -0.0147</td> <td>    0.015</td> <td>   -1.002</td> <td> 0.325</td> <td>   -0.045</td> <td>    0.015</td>\n</tr>\n</table>\n<table class=\"simpletable\">\n<tr>\n  <th>Omnibus:</th>       <td> 2.942</td> <th>  Durbin-Watson:     </th> <td>   1.606</td>\n</tr>\n<tr>\n  <th>Prob(Omnibus):</th> <td> 0.230</td> <th>  Jarque-Bera (JB):  </th> <td>   2.558</td>\n</tr>\n<tr>\n  <th>Skew:</th>          <td> 0.675</td> <th>  Prob(JB):          </th> <td>   0.278</td>\n</tr>\n<tr>\n  <th>Kurtosis:</th>      <td> 2.692</td> <th>  Cond. No.          </th> <td>1.51e+03</td>\n</tr>\n</table><br/><br/>Warnings:<br/>[1] Standard Errors assume that the covariance matrix of the errors is correctly specified.<br/>[2] The condition number is large, 1.51e+03. This might indicate that there are<br/>strong multicollinearity or other numerical problems."
     },
     "metadata": {},
     "execution_count": 30
    }
   ]
  },
  {
   "cell_type": "code",
   "execution_count": 38,
   "metadata": {},
   "outputs": [
    {
     "output_type": "execute_result",
     "data": {
      "text/plain": [
       "array([[  4, 200, 100]])"
      ]
     },
     "metadata": {},
     "execution_count": 38
    }
   ],
   "source": [
    "prever = np.array([4, 200, 100])\n",
    "prever = prever.reshape(1, -1)\n",
    "prever"
   ]
  },
  {
   "cell_type": "code",
   "execution_count": 40,
   "metadata": {},
   "outputs": [
    {
     "output_type": "execute_result",
     "data": {
      "text/plain": [
       "array([24.03968887])"
      ]
     },
     "metadata": {},
     "execution_count": 40
    }
   ],
   "source": [
    "model2.predict(prever)"
   ]
  }
 ]
}