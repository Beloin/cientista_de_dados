{
 "cells": [
  {
   "source": [
    "# Distribuição T de Student \n",
    "* Dados normalmente distribuídos\n",
    "* Não se sabe a DP da população"
   ],
   "cell_type": "markdown",
   "metadata": {}
  },
  {
   "cell_type": "code",
   "execution_count": 1,
   "metadata": {},
   "outputs": [],
   "source": [
    "from scipy.stats import t"
   ]
  },
  {
   "source": [
    "Média dos salários dos Data Scientists = R$ 75/hora, com Amostra de 9 funcionários e desvio padrão = 10 </br>\n",
    "Grau de Liberdade (t) = 8"
   ],
   "cell_type": "markdown",
   "metadata": {}
  },
  {
   "cell_type": "code",
   "execution_count": 5,
   "metadata": {},
   "outputs": [
    {
     "output_type": "execute_result",
     "data": {
      "text/plain": [
       "0.9139983540240443"
      ]
     },
     "metadata": {},
     "execution_count": 5
    }
   ],
   "source": [
    "# < 80/hora\n",
    "# 1.5 é proveniente da tabela e 8 são os graus de liberdade\n",
    "mn80 = t.cdf(1.5, 8)\n",
    "mn80"
   ]
  },
  {
   "cell_type": "code",
   "execution_count": 6,
   "metadata": {},
   "outputs": [
    {
     "output_type": "execute_result",
     "data": {
      "text/plain": [
       "0.08600164597595565"
      ]
     },
     "metadata": {},
     "execution_count": 6
    }
   ],
   "source": [
    "# > 80/hora\n",
    "mr80 = t.sf(1.5, 8)\n",
    "mr80"
   ]
  },
  {
   "cell_type": "code",
   "execution_count": 7,
   "metadata": {},
   "outputs": [
    {
     "output_type": "execute_result",
     "data": {
      "text/plain": [
       "0.9999999999999999"
      ]
     },
     "metadata": {},
     "execution_count": 7
    }
   ],
   "source": [
    "mn80 + mr80 # Aproximadamente 1"
   ]
  },
  {
   "cell_type": "code",
   "execution_count": null,
   "metadata": {},
   "outputs": [],
   "source": []
  }
 ],
 "metadata": {
  "kernelspec": {
   "display_name": "Python 3.8.3 64-bit ('base': conda)",
   "language": "python",
   "name": "python38364bitbasecondaa0f14daa8e6c4b25a9b490fc62b49355"
  },
  "language_info": {
   "codemirror_mode": {
    "name": "ipython",
    "version": 3
   },
   "file_extension": ".py",
   "mimetype": "text/x-python",
   "name": "python",
   "nbconvert_exporter": "python",
   "pygments_lexer": "ipython3",
   "version": "3.8.3-final"
  }
 },
 "nbformat": 4,
 "nbformat_minor": 4
}