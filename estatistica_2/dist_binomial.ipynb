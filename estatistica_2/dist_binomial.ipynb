{
 "metadata": {
  "language_info": {
   "codemirror_mode": {
    "name": "ipython",
    "version": 3
   },
   "file_extension": ".py",
   "mimetype": "text/x-python",
   "name": "python",
   "nbconvert_exporter": "python",
   "pygments_lexer": "ipython3",
   "version": "3.8.3-final"
  },
  "orig_nbformat": 2,
  "kernelspec": {
   "name": "python38364bitbasecondaa0f14daa8e6c4b25a9b490fc62b49355",
   "display_name": "Python 3.8.3 64-bit ('base': conda)"
  }
 },
 "nbformat": 4,
 "nbformat_minor": 2,
 "cells": [
  {
   "source": [
    "# Distribuição Binomial\n",
    "Faz parte da probabilidade discreta\n",
    "* Número fixo de experimentos\n",
    "* Resultados booleanos (Sucesso, fracasso)\n",
    "* As probabilidades de sucesso devem sempre serem as mesmas\n",
    "* Os experimentos são independentes"
   ],
   "cell_type": "markdown",
   "metadata": {}
  },
  {
   "cell_type": "code",
   "execution_count": 2,
   "metadata": {},
   "outputs": [
    {
     "output_type": "execute_result",
     "data": {
      "text/plain": [
       "<scipy.stats._discrete_distns.binom_gen at 0x7f95a96a62b0>"
      ]
     },
     "metadata": {},
     "execution_count": 2
    }
   ],
   "source": [
    "from scipy.stats import binom\n",
    "binom"
   ]
  },
  {
   "source": [
    "Jogar uma moeda 5 vezes, qual a probabilidade de ser cara 3 vezes?"
   ],
   "cell_type": "markdown",
   "metadata": {}
  },
  {
   "cell_type": "code",
   "execution_count": 3,
   "metadata": {},
   "outputs": [
    {
     "output_type": "execute_result",
     "data": {
      "text/plain": [
       "0.3125"
      ]
     },
     "metadata": {},
     "execution_count": 3
    }
   ],
   "source": [
    "prob = binom.pmf(3, 5, 0.5) # Probabilidade pontual\n",
    "prob"
   ]
  },
  {
   "source": [
    "Passar por 4 sinais de 4 tempos, qual a probabilidade de pegar sinal verde, nenhuma, 1, 2, 3 ou 4 vezes seguidas?"
   ],
   "cell_type": "markdown",
   "metadata": {}
  },
  {
   "cell_type": "code",
   "execution_count": 4,
   "metadata": {},
   "outputs": [
    {
     "output_type": "execute_result",
     "data": {
      "text/plain": [
       "1.0000000000000002"
      ]
     },
     "metadata": {},
     "execution_count": 4
    }
   ],
   "source": [
    "prob1 = 0\n",
    "for i in range(5):\n",
    "    prob1 += binom.pmf(i, 4, 1/4)\n",
    "prob1"
   ]
  },
  {
   "cell_type": "code",
   "execution_count": 5,
   "metadata": {},
   "outputs": [
    {
     "output_type": "execute_result",
     "data": {
      "text/plain": [
       "0.4218750000000001"
      ]
     },
     "metadata": {},
     "execution_count": 5
    }
   ],
   "source": [
    "binom.pmf(1, 4, 1/4)"
   ]
  },
  {
   "source": [
    "E se forem de dois tempos?"
   ],
   "cell_type": "markdown",
   "metadata": {}
  },
  {
   "cell_type": "code",
   "execution_count": 6,
   "metadata": {},
   "outputs": [
    {
     "output_type": "execute_result",
     "data": {
      "text/plain": [
       "0.0625"
      ]
     },
     "metadata": {},
     "execution_count": 6
    }
   ],
   "source": [
    "# Todos abertos com dois tempos\n",
    "binom.pmf(4, 4, 0.5)"
   ]
  },
  {
   "cell_type": "code",
   "execution_count": 7,
   "metadata": {},
   "outputs": [
    {
     "output_type": "execute_result",
     "data": {
      "text/plain": [
       "1.0"
      ]
     },
     "metadata": {},
     "execution_count": 7
    }
   ],
   "source": [
    "# Cumulativa, mesma resolução\n",
    "binom.cdf(4, 4, 0.25)"
   ]
  },
  {
   "source": [
    "Concurso com 12 questões, qual a probabilidade de acertar 7 questões considerando que cada questão tem 4 alternativas?"
   ],
   "cell_type": "markdown",
   "metadata": {}
  },
  {
   "cell_type": "code",
   "execution_count": 8,
   "metadata": {},
   "outputs": [
    {
     "output_type": "execute_result",
     "data": {
      "text/plain": [
       "1.1471271514892574"
      ]
     },
     "metadata": {},
     "execution_count": 8
    }
   ],
   "source": [
    "binom.pmf(7, 12, 0.25) * 100"
   ]
  },
  {
   "cell_type": "code",
   "execution_count": 9,
   "metadata": {},
   "outputs": [
    {
     "output_type": "execute_result",
     "data": {
      "text/plain": [
       "5.960464477539072e-08"
      ]
     },
     "metadata": {},
     "execution_count": 9
    }
   ],
   "source": [
    "# Probabilidade de acertar as 12:\n",
    "binom.pmf(12, 12, 0.25)"
   ]
  },
  {
   "cell_type": "code",
   "execution_count": null,
   "metadata": {},
   "outputs": [],
   "source": []
  }
 ]
}