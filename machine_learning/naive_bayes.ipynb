{
 "metadata": {
  "language_info": {
   "codemirror_mode": {
    "name": "ipython",
    "version": 3
   },
   "file_extension": ".py",
   "mimetype": "text/x-python",
   "name": "python",
   "nbconvert_exporter": "python",
   "pygments_lexer": "ipython3",
   "version": "3.8.5-final"
  },
  "orig_nbformat": 2,
  "kernelspec": {
   "name": "python3",
   "display_name": "Python 3.8.5 64-bit ('base': conda)",
   "metadata": {
    "interpreter": {
     "hash": "1f35f486eb6ce23489abc6d8c88052e0ba5c8d36cbbd1fd80ff2953db8759dad"
    }
   }
  }
 },
 "nbformat": 4,
 "nbformat_minor": 2,
 "cells": [
  {
   "source": [
    "Algoritmo Naive Bayes"
   ],
   "cell_type": "markdown",
   "metadata": {}
  },
  {
   "cell_type": "code",
   "execution_count": 2,
   "metadata": {},
   "outputs": [],
   "source": [
    "import pandas as pd\n",
    "from sklearn.model_selection import train_test_split\n",
    "from sklearn.naive_bayes import GaussianNB\n",
    "from sklearn.preprocessing import LabelEncoder\n",
    "from sklearn.metrics import confusion_matrix, accuracy_score\n",
    "from yellowbrick.classifier import ConfusionMatrix"
   ]
  },
  {
   "cell_type": "code",
   "execution_count": 3,
   "metadata": {},
   "outputs": [
    {
     "output_type": "execute_result",
     "data": {
      "text/plain": [
       "(1000, 21)"
      ]
     },
     "metadata": {},
     "execution_count": 3
    }
   ],
   "source": [
    "credit = pd.read_csv('./dados/Credit.csv')\n",
    "credit.shape"
   ]
  },
  {
   "cell_type": "code",
   "execution_count": 4,
   "metadata": {},
   "outputs": [
    {
     "output_type": "execute_result",
     "data": {
      "text/plain": [
       "  checking_status  duration                    credit_history  \\\n",
       "0              <0         6  'critical/other existing credit'   \n",
       "1        0<=X<200        48                   'existing paid'   \n",
       "2   'no checking'        12  'critical/other existing credit'   \n",
       "3              <0        42                   'existing paid'   \n",
       "4              <0        24              'delayed previously'   \n",
       "\n",
       "               purpose  credit_amount      savings_status employment  \\\n",
       "0             radio/tv           1169  'no known savings'        >=7   \n",
       "1             radio/tv           5951                <100     1<=X<4   \n",
       "2            education           2096                <100     4<=X<7   \n",
       "3  furniture/equipment           7882                <100     4<=X<7   \n",
       "4            'new car'           4870                <100     1<=X<4   \n",
       "\n",
       "   installment_commitment       personal_status other_parties  ...  \\\n",
       "0                       4         'male single'          none  ...   \n",
       "1                       2  'female div/dep/mar'          none  ...   \n",
       "2                       2         'male single'          none  ...   \n",
       "3                       2         'male single'     guarantor  ...   \n",
       "4                       3         'male single'          none  ...   \n",
       "\n",
       "    property_magnitude age  other_payment_plans     housing existing_credits  \\\n",
       "0        'real estate'  67                 none         own                2   \n",
       "1        'real estate'  22                 none         own                1   \n",
       "2        'real estate'  49                 none         own                1   \n",
       "3     'life insurance'  45                 none  'for free'                1   \n",
       "4  'no known property'  53                 none  'for free'                2   \n",
       "\n",
       "                    job num_dependents  own_telephone foreign_worker class  \n",
       "0               skilled              1            yes            yes  good  \n",
       "1               skilled              1           none            yes   bad  \n",
       "2  'unskilled resident'              2           none            yes  good  \n",
       "3               skilled              2           none            yes  good  \n",
       "4               skilled              2           none            yes   bad  \n",
       "\n",
       "[5 rows x 21 columns]"
      ],
      "text/html": "<div>\n<style scoped>\n    .dataframe tbody tr th:only-of-type {\n        vertical-align: middle;\n    }\n\n    .dataframe tbody tr th {\n        vertical-align: top;\n    }\n\n    .dataframe thead th {\n        text-align: right;\n    }\n</style>\n<table border=\"1\" class=\"dataframe\">\n  <thead>\n    <tr style=\"text-align: right;\">\n      <th></th>\n      <th>checking_status</th>\n      <th>duration</th>\n      <th>credit_history</th>\n      <th>purpose</th>\n      <th>credit_amount</th>\n      <th>savings_status</th>\n      <th>employment</th>\n      <th>installment_commitment</th>\n      <th>personal_status</th>\n      <th>other_parties</th>\n      <th>...</th>\n      <th>property_magnitude</th>\n      <th>age</th>\n      <th>other_payment_plans</th>\n      <th>housing</th>\n      <th>existing_credits</th>\n      <th>job</th>\n      <th>num_dependents</th>\n      <th>own_telephone</th>\n      <th>foreign_worker</th>\n      <th>class</th>\n    </tr>\n  </thead>\n  <tbody>\n    <tr>\n      <th>0</th>\n      <td>&lt;0</td>\n      <td>6</td>\n      <td>'critical/other existing credit'</td>\n      <td>radio/tv</td>\n      <td>1169</td>\n      <td>'no known savings'</td>\n      <td>&gt;=7</td>\n      <td>4</td>\n      <td>'male single'</td>\n      <td>none</td>\n      <td>...</td>\n      <td>'real estate'</td>\n      <td>67</td>\n      <td>none</td>\n      <td>own</td>\n      <td>2</td>\n      <td>skilled</td>\n      <td>1</td>\n      <td>yes</td>\n      <td>yes</td>\n      <td>good</td>\n    </tr>\n    <tr>\n      <th>1</th>\n      <td>0&lt;=X&lt;200</td>\n      <td>48</td>\n      <td>'existing paid'</td>\n      <td>radio/tv</td>\n      <td>5951</td>\n      <td>&lt;100</td>\n      <td>1&lt;=X&lt;4</td>\n      <td>2</td>\n      <td>'female div/dep/mar'</td>\n      <td>none</td>\n      <td>...</td>\n      <td>'real estate'</td>\n      <td>22</td>\n      <td>none</td>\n      <td>own</td>\n      <td>1</td>\n      <td>skilled</td>\n      <td>1</td>\n      <td>none</td>\n      <td>yes</td>\n      <td>bad</td>\n    </tr>\n    <tr>\n      <th>2</th>\n      <td>'no checking'</td>\n      <td>12</td>\n      <td>'critical/other existing credit'</td>\n      <td>education</td>\n      <td>2096</td>\n      <td>&lt;100</td>\n      <td>4&lt;=X&lt;7</td>\n      <td>2</td>\n      <td>'male single'</td>\n      <td>none</td>\n      <td>...</td>\n      <td>'real estate'</td>\n      <td>49</td>\n      <td>none</td>\n      <td>own</td>\n      <td>1</td>\n      <td>'unskilled resident'</td>\n      <td>2</td>\n      <td>none</td>\n      <td>yes</td>\n      <td>good</td>\n    </tr>\n    <tr>\n      <th>3</th>\n      <td>&lt;0</td>\n      <td>42</td>\n      <td>'existing paid'</td>\n      <td>furniture/equipment</td>\n      <td>7882</td>\n      <td>&lt;100</td>\n      <td>4&lt;=X&lt;7</td>\n      <td>2</td>\n      <td>'male single'</td>\n      <td>guarantor</td>\n      <td>...</td>\n      <td>'life insurance'</td>\n      <td>45</td>\n      <td>none</td>\n      <td>'for free'</td>\n      <td>1</td>\n      <td>skilled</td>\n      <td>2</td>\n      <td>none</td>\n      <td>yes</td>\n      <td>good</td>\n    </tr>\n    <tr>\n      <th>4</th>\n      <td>&lt;0</td>\n      <td>24</td>\n      <td>'delayed previously'</td>\n      <td>'new car'</td>\n      <td>4870</td>\n      <td>&lt;100</td>\n      <td>1&lt;=X&lt;4</td>\n      <td>3</td>\n      <td>'male single'</td>\n      <td>none</td>\n      <td>...</td>\n      <td>'no known property'</td>\n      <td>53</td>\n      <td>none</td>\n      <td>'for free'</td>\n      <td>2</td>\n      <td>skilled</td>\n      <td>2</td>\n      <td>none</td>\n      <td>yes</td>\n      <td>bad</td>\n    </tr>\n  </tbody>\n</table>\n<p>5 rows × 21 columns</p>\n</div>"
     },
     "metadata": {},
     "execution_count": 4
    }
   ],
   "source": [
    "credit.head()"
   ]
  },
  {
   "cell_type": "code",
   "execution_count": 5,
   "metadata": {},
   "outputs": [],
   "source": [
    "previsores = credit.iloc[:,0:20].values\n",
    "classe = credit.iloc[:,20].values"
   ]
  },
  {
   "source": [
    "Vamos tratar os atributos categóricos, transformando-os em numéricos"
   ],
   "cell_type": "markdown",
   "metadata": {}
  },
  {
   "cell_type": "code",
   "execution_count": 6,
   "metadata": {},
   "outputs": [],
   "source": [
    "labelencoder1 = LabelEncoder()\n",
    "previsores[:,0] = labelencoder1.fit_transform(previsores[:,0])\n",
    "\n",
    "labelencoder2 = LabelEncoder()\n",
    "previsores[:,2] = labelencoder2.fit_transform(previsores[:,2])\n",
    "\n",
    "labelencoder3 = LabelEncoder()\n",
    "previsores[:, 3] = labelencoder3.fit_transform(previsores[:, 3])\n",
    "\n",
    "labelencoder4 = LabelEncoder()\n",
    "previsores[:, 5] = labelencoder4.fit_transform(previsores[:, 5])\n",
    "\n",
    "labelencoder5 = LabelEncoder()\n",
    "previsores[:, 6] = labelencoder5.fit_transform(previsores[:, 6])\n",
    "\n",
    "labelencoder6 = LabelEncoder()\n",
    "previsores[:, 8] = labelencoder6.fit_transform(previsores[:, 8])\n",
    "\n",
    "labelencoder7 = LabelEncoder()\n",
    "previsores[:, 9] = labelencoder7.fit_transform(previsores[:, 9])\n",
    "\n",
    "labelencoder8 = LabelEncoder()\n",
    "previsores[:, 11] = labelencoder8.fit_transform(previsores[:, 11])\n",
    "\n",
    "labelencoder9 = LabelEncoder()\n",
    "previsores[:, 13] = labelencoder9.fit_transform(previsores[:, 13])\n",
    "\n",
    "labelencoder10 = LabelEncoder()\n",
    "previsores[:, 14] = labelencoder10.fit_transform(previsores[:, 14])\n",
    "\n",
    "labelencoder11 = LabelEncoder()\n",
    "previsores[:, 16] = labelencoder11.fit_transform(previsores[:, 16])\n",
    "\n",
    "labelencoder12 = LabelEncoder()\n",
    "previsores[:, 18] = labelencoder12.fit_transform(previsores[:, 18])\n",
    "\n",
    "labelencoder13 = LabelEncoder()\n",
    "previsores[:, 19] = labelencoder13.fit_transform(previsores[:, 19])"
   ]
  },
  {
   "cell_type": "code",
   "execution_count": 7,
   "metadata": {},
   "outputs": [],
   "source": [
    "# Divisão do Treino e teste.\n",
    "X_train, X_test, y_train, y_test = train_test_split(previsores, classe, test_size = 0.3, random_state = 0)"
   ]
  },
  {
   "cell_type": "code",
   "execution_count": 8,
   "metadata": {},
   "outputs": [
    {
     "output_type": "execute_result",
     "data": {
      "text/plain": [
       "GaussianNB()"
      ]
     },
     "metadata": {},
     "execution_count": 8
    }
   ],
   "source": [
    "naivebayes = GaussianNB()\n",
    "naivebayes.fit(X_train, y_train)"
   ]
  },
  {
   "cell_type": "code",
   "execution_count": 11,
   "metadata": {},
   "outputs": [
    {
     "output_type": "execute_result",
     "data": {
      "text/plain": [
       "array(['bad', 'good', 'good', 'good', 'bad'], dtype='<U4')"
      ]
     },
     "metadata": {},
     "execution_count": 11
    }
   ],
   "source": [
    "# Previsões de teste:\n",
    "prev = naivebayes.predict(X_test)\n",
    "prev[:5]"
   ]
  },
  {
   "cell_type": "code",
   "execution_count": 12,
   "metadata": {},
   "outputs": [
    {
     "output_type": "execute_result",
     "data": {
      "text/plain": [
       "array([[ 41,  45],\n",
       "       [ 42, 172]])"
      ]
     },
     "metadata": {},
     "execution_count": 12
    }
   ],
   "source": [
    "# Matriz de confusão e cálculo da taxa de acerto/erro\n",
    "conf = confusion_matrix(y_test, prev)\n",
    "conf"
   ]
  },
  {
   "cell_type": "code",
   "execution_count": 13,
   "metadata": {},
   "outputs": [
    {
     "output_type": "execute_result",
     "data": {
      "text/plain": [
       "0.71"
      ]
     },
     "metadata": {},
     "execution_count": 13
    }
   ],
   "source": [
    "taxa_acerto = accuracy_score(y_test, prev)\n",
    "taxa_erro = 1 - taxa_acerto\n",
    "taxa_acerto"
   ]
  },
  {
   "cell_type": "code",
   "execution_count": 22,
   "metadata": {},
   "outputs": [
    {
     "output_type": "display_data",
     "data": {
      "text/plain": "<Figure size 576x396 with 1 Axes>",
      "image/svg+xml": "<?xml version=\"1.0\" encoding=\"utf-8\" standalone=\"no\"?>\n<!DOCTYPE svg PUBLIC \"-//W3C//DTD SVG 1.1//EN\"\n  \"http://www.w3.org/Graphics/SVG/1.1/DTD/svg11.dtd\">\n<!-- Created with matplotlib (https://matplotlib.org/) -->\n<svg height=\"384.622812pt\" version=\"1.1\" viewBox=\"0 0 564.926562 384.622812\" width=\"564.926562pt\" xmlns=\"http://www.w3.org/2000/svg\" xmlns:xlink=\"http://www.w3.org/1999/xlink\">\n <metadata>\n  <rdf:RDF xmlns:cc=\"http://creativecommons.org/ns#\" xmlns:dc=\"http://purl.org/dc/elements/1.1/\" xmlns:rdf=\"http://www.w3.org/1999/02/22-rdf-syntax-ns#\">\n   <cc:Work>\n    <dc:type rdf:resource=\"http://purl.org/dc/dcmitype/StillImage\"/>\n    <dc:date>2021-01-06T18:04:53.257525</dc:date>\n    <dc:format>image/svg+xml</dc:format>\n    <dc:creator>\n     <cc:Agent>\n      <dc:title>Matplotlib v3.3.2, https://matplotlib.org/</dc:title>\n     </cc:Agent>\n    </dc:creator>\n   </cc:Work>\n  </rdf:RDF>\n </metadata>\n <defs>\n  <style type=\"text/css\">*{stroke-linecap:butt;stroke-linejoin:round;}</style>\n </defs>\n <g id=\"figure_1\">\n  <g id=\"patch_1\">\n   <path d=\"M 0 384.622812 \nL 564.926562 384.622812 \nL 564.926562 0 \nL 0 0 \nz\n\" style=\"fill:#ffffff;\"/>\n  </g>\n  <g id=\"axes_1\">\n   <g id=\"patch_2\">\n    <path d=\"M 55.146563 329.47625 \nL 557.726562 329.47625 \nL 557.726562 21.89625 \nL 55.146563 21.89625 \nz\n\" style=\"fill:#ffffff;\"/>\n   </g>\n   <g id=\"matplotlib.axis_1\">\n    <g id=\"xtick_1\">\n     <g id=\"line2d_1\"/>\n     <g id=\"text_1\">\n      <!-- bad -->\n      <g style=\"fill:#262626;\" transform=\"translate(183.894688 356.495625)rotate(-90)scale(0.12 -0.12)\">\n       <defs>\n        <path d=\"M 51.421875 26.65625 \nQ 51.421875 -0.984375 31.984375 -0.984375 \nQ 25.984375 -0.984375 22 1.1875 \nQ 18.015625 3.375 15.53125 8.203125 \nL 15.4375 8.203125 \nQ 15.4375 6.6875 15.234375 3.578125 \nQ 15.046875 0.484375 14.9375 0 \nL 6.453125 0 \nQ 6.734375 2.640625 6.734375 10.890625 \nL 6.734375 72.46875 \nL 15.53125 72.46875 \nL 15.53125 51.8125 \nQ 15.53125 48.640625 15.328125 44.34375 \nL 15.53125 44.34375 \nQ 17.96875 49.421875 22 51.609375 \nQ 26.03125 53.8125 31.984375 53.8125 \nQ 42 53.8125 46.703125 47.0625 \nQ 51.421875 40.328125 51.421875 26.65625 \nz\nM 42.1875 26.375 \nQ 42.1875 37.453125 39.25 42.234375 \nQ 36.328125 47.015625 29.734375 47.015625 \nQ 22.3125 47.015625 18.921875 41.9375 \nQ 15.53125 36.859375 15.53125 25.828125 \nQ 15.53125 15.4375 18.84375 10.46875 \nQ 22.171875 5.515625 29.640625 5.515625 \nQ 36.28125 5.515625 39.234375 10.421875 \nQ 42.1875 15.328125 42.1875 26.375 \nz\n\" id=\"LiberationSans-98\"/>\n        <path d=\"M 20.21875 -0.984375 \nQ 12.25 -0.984375 8.25 3.21875 \nQ 4.25 7.421875 4.25 14.75 \nQ 4.25 22.953125 9.640625 27.34375 \nQ 15.046875 31.734375 27.046875 32.03125 \nL 38.921875 32.234375 \nL 38.921875 35.109375 \nQ 38.921875 41.546875 36.1875 44.328125 \nQ 33.453125 47.125 27.59375 47.125 \nQ 21.6875 47.125 19 45.109375 \nQ 16.3125 43.109375 15.765625 38.71875 \nL 6.59375 39.546875 \nQ 8.84375 53.8125 27.78125 53.8125 \nQ 37.75 53.8125 42.765625 49.234375 \nQ 47.796875 44.671875 47.796875 36.03125 \nL 47.796875 13.28125 \nQ 47.796875 9.375 48.828125 7.390625 \nQ 49.859375 5.421875 52.734375 5.421875 \nQ 54 5.421875 55.609375 5.765625 \nL 55.609375 0.296875 \nQ 52.296875 -0.484375 48.828125 -0.484375 \nQ 43.953125 -0.484375 41.71875 2.078125 \nQ 39.5 4.640625 39.203125 10.109375 \nL 38.921875 10.109375 \nQ 35.546875 4.046875 31.078125 1.53125 \nQ 26.609375 -0.984375 20.21875 -0.984375 \nz\nM 22.21875 5.609375 \nQ 27.046875 5.609375 30.8125 7.8125 \nQ 34.578125 10.015625 36.75 13.84375 \nQ 38.921875 17.671875 38.921875 21.734375 \nL 38.921875 26.078125 \nL 29.296875 25.875 \nQ 23.09375 25.78125 19.890625 24.609375 \nQ 16.703125 23.4375 14.984375 21 \nQ 13.28125 18.5625 13.28125 14.59375 \nQ 13.28125 10.296875 15.59375 7.953125 \nQ 17.921875 5.609375 22.21875 5.609375 \nz\n\" id=\"LiberationSans-97\"/>\n        <path d=\"M 40.09375 8.5 \nQ 37.640625 3.421875 33.609375 1.21875 \nQ 29.59375 -0.984375 23.640625 -0.984375 \nQ 13.625 -0.984375 8.90625 5.75 \nQ 4.203125 12.5 4.203125 26.171875 \nQ 4.203125 53.8125 23.640625 53.8125 \nQ 29.640625 53.8125 33.640625 51.609375 \nQ 37.640625 49.421875 40.09375 44.625 \nL 40.1875 44.625 \nL 40.09375 50.53125 \nL 40.09375 72.46875 \nL 48.875 72.46875 \nL 48.875 10.890625 \nQ 48.875 2.640625 49.171875 0 \nL 40.765625 0 \nQ 40.625 0.78125 40.453125 3.609375 \nQ 40.28125 6.453125 40.28125 8.5 \nz\nM 13.421875 26.46875 \nQ 13.421875 15.375 16.34375 10.59375 \nQ 19.28125 5.8125 25.875 5.8125 \nQ 33.34375 5.8125 36.71875 10.984375 \nQ 40.09375 16.15625 40.09375 27.046875 \nQ 40.09375 37.546875 36.71875 42.421875 \nQ 33.34375 47.3125 25.984375 47.3125 \nQ 19.34375 47.3125 16.375 42.40625 \nQ 13.421875 37.5 13.421875 26.46875 \nz\n\" id=\"LiberationSans-100\"/>\n       </defs>\n       <use xlink:href=\"#LiberationSans-98\"/>\n       <use x=\"55.615234\" xlink:href=\"#LiberationSans-97\"/>\n       <use x=\"111.230469\" xlink:href=\"#LiberationSans-100\"/>\n      </g>\n     </g>\n    </g>\n    <g id=\"xtick_2\">\n     <g id=\"line2d_2\"/>\n     <g id=\"text_2\">\n      <!-- good -->\n      <g style=\"fill:#262626;\" transform=\"translate(435.184687 363.16875)rotate(-90)scale(0.12 -0.12)\">\n       <defs>\n        <path d=\"M 26.765625 -20.75 \nQ 18.109375 -20.75 12.984375 -17.359375 \nQ 7.859375 -13.96875 6.390625 -7.71875 \nL 15.234375 -6.453125 \nQ 16.109375 -10.109375 19.109375 -12.078125 \nQ 22.125 -14.0625 27 -14.0625 \nQ 40.140625 -14.0625 40.140625 1.3125 \nL 40.140625 9.8125 \nL 40.046875 9.8125 \nQ 37.546875 4.734375 33.203125 2.171875 \nQ 28.859375 -0.390625 23.046875 -0.390625 \nQ 13.328125 -0.390625 8.765625 6.046875 \nQ 4.203125 12.5 4.203125 26.3125 \nQ 4.203125 40.328125 9.109375 46.984375 \nQ 14.015625 53.65625 24.03125 53.65625 \nQ 29.640625 53.65625 33.765625 51.09375 \nQ 37.890625 48.53125 40.140625 43.796875 \nL 40.234375 43.796875 \nQ 40.234375 45.265625 40.421875 48.875 \nQ 40.625 52.484375 40.828125 52.828125 \nL 49.171875 52.828125 \nQ 48.875 50.203125 48.875 41.890625 \nL 48.875 1.515625 \nQ 48.875 -20.75 26.765625 -20.75 \nz\nM 40.140625 26.421875 \nQ 40.140625 32.859375 38.375 37.515625 \nQ 36.625 42.1875 33.421875 44.65625 \nQ 30.21875 47.125 26.171875 47.125 \nQ 19.4375 47.125 16.359375 42.234375 \nQ 13.28125 37.359375 13.28125 26.421875 \nQ 13.28125 15.578125 16.15625 10.84375 \nQ 19.046875 6.109375 26.03125 6.109375 \nQ 30.171875 6.109375 33.390625 8.546875 \nQ 36.625 10.984375 38.375 15.546875 \nQ 40.140625 20.125 40.140625 26.421875 \nz\n\" id=\"LiberationSans-103\"/>\n        <path d=\"M 51.421875 26.46875 \nQ 51.421875 12.59375 45.3125 5.796875 \nQ 39.203125 -0.984375 27.59375 -0.984375 \nQ 16.015625 -0.984375 10.109375 6.078125 \nQ 4.203125 13.140625 4.203125 26.46875 \nQ 4.203125 53.8125 27.875 53.8125 \nQ 39.984375 53.8125 45.703125 47.140625 \nQ 51.421875 40.484375 51.421875 26.46875 \nz\nM 42.1875 26.46875 \nQ 42.1875 37.40625 38.9375 42.359375 \nQ 35.6875 47.3125 28.03125 47.3125 \nQ 20.3125 47.3125 16.859375 42.25 \nQ 13.421875 37.203125 13.421875 26.46875 \nQ 13.421875 16.015625 16.8125 10.765625 \nQ 20.21875 5.515625 27.484375 5.515625 \nQ 35.40625 5.515625 38.796875 10.59375 \nQ 42.1875 15.671875 42.1875 26.46875 \nz\n\" id=\"LiberationSans-111\"/>\n       </defs>\n       <use xlink:href=\"#LiberationSans-103\"/>\n       <use x=\"55.615234\" xlink:href=\"#LiberationSans-111\"/>\n       <use x=\"111.230469\" xlink:href=\"#LiberationSans-111\"/>\n       <use x=\"166.845703\" xlink:href=\"#LiberationSans-100\"/>\n      </g>\n     </g>\n    </g>\n    <g id=\"text_3\">\n     <!-- Predicted Class -->\n     <g style=\"fill:#262626;\" transform=\"translate(267.921953 375.140312)scale(0.11 -0.11)\">\n      <defs>\n       <path d=\"M 61.421875 48.09375 \nQ 61.421875 38.328125 55.046875 32.5625 \nQ 48.6875 26.8125 37.75 26.8125 \nL 17.53125 26.8125 \nL 17.53125 0 \nL 8.203125 0 \nL 8.203125 68.796875 \nL 37.15625 68.796875 \nQ 48.734375 68.796875 55.078125 63.375 \nQ 61.421875 57.953125 61.421875 48.09375 \nz\nM 52.046875 48 \nQ 52.046875 61.328125 36.03125 61.328125 \nL 17.53125 61.328125 \nL 17.53125 34.1875 \nL 36.421875 34.1875 \nQ 52.046875 34.1875 52.046875 48 \nz\n\" id=\"LiberationSans-80\"/>\n       <path d=\"M 6.9375 0 \nL 6.9375 40.53125 \nQ 6.9375 46.09375 6.640625 52.828125 \nL 14.9375 52.828125 \nQ 15.328125 43.84375 15.328125 42.046875 \nL 15.53125 42.046875 \nQ 17.625 48.828125 20.359375 51.3125 \nQ 23.09375 53.8125 28.078125 53.8125 \nQ 29.828125 53.8125 31.640625 53.328125 \nL 31.640625 45.265625 \nQ 29.890625 45.75 26.953125 45.75 \nQ 21.484375 45.75 18.59375 41.03125 \nQ 15.71875 36.328125 15.71875 27.546875 \nL 15.71875 0 \nz\n\" id=\"LiberationSans-114\"/>\n       <path d=\"M 13.484375 24.5625 \nQ 13.484375 15.484375 17.234375 10.546875 \nQ 21 5.609375 28.21875 5.609375 \nQ 33.9375 5.609375 37.375 7.90625 \nQ 40.828125 10.203125 42.046875 13.71875 \nL 49.75 11.53125 \nQ 45.015625 -0.984375 28.21875 -0.984375 \nQ 16.5 -0.984375 10.375 6 \nQ 4.25 12.984375 4.25 26.765625 \nQ 4.25 39.84375 10.375 46.828125 \nQ 16.5 53.8125 27.875 53.8125 \nQ 51.171875 53.8125 51.171875 25.734375 \nL 51.171875 24.5625 \nz\nM 42.09375 31.296875 \nQ 41.359375 39.65625 37.84375 43.484375 \nQ 34.328125 47.3125 27.734375 47.3125 \nQ 21.34375 47.3125 17.609375 43.03125 \nQ 13.875 38.765625 13.578125 31.296875 \nz\n\" id=\"LiberationSans-101\"/>\n       <path d=\"M 6.6875 64.0625 \nL 6.6875 72.46875 \nL 15.484375 72.46875 \nL 15.484375 64.0625 \nz\nM 6.6875 0 \nL 6.6875 52.828125 \nL 15.484375 52.828125 \nL 15.484375 0 \nz\n\" id=\"LiberationSans-105\"/>\n       <path d=\"M 13.421875 26.65625 \nQ 13.421875 16.109375 16.734375 11.03125 \nQ 20.0625 5.953125 26.765625 5.953125 \nQ 31.453125 5.953125 34.59375 8.484375 \nQ 37.75 11.03125 38.484375 16.3125 \nL 47.359375 15.71875 \nQ 46.34375 8.109375 40.875 3.5625 \nQ 35.40625 -0.984375 27 -0.984375 \nQ 15.921875 -0.984375 10.078125 6.015625 \nQ 4.25 13.03125 4.25 26.46875 \nQ 4.25 39.796875 10.109375 46.796875 \nQ 15.96875 53.8125 26.90625 53.8125 \nQ 35.015625 53.8125 40.359375 49.609375 \nQ 45.703125 45.40625 47.078125 38.03125 \nL 38.03125 37.359375 \nQ 37.359375 41.75 34.5625 44.328125 \nQ 31.78125 46.921875 26.65625 46.921875 \nQ 19.671875 46.921875 16.546875 42.28125 \nQ 13.421875 37.640625 13.421875 26.65625 \nz\n\" id=\"LiberationSans-99\"/>\n       <path d=\"M 27.046875 0.390625 \nQ 22.703125 -0.78125 18.171875 -0.78125 \nQ 7.625 -0.78125 7.625 11.1875 \nL 7.625 46.4375 \nL 1.515625 46.4375 \nL 1.515625 52.828125 \nL 7.953125 52.828125 \nL 10.546875 64.65625 \nL 16.40625 64.65625 \nL 16.40625 52.828125 \nL 26.171875 52.828125 \nL 26.171875 46.4375 \nL 16.40625 46.4375 \nL 16.40625 13.09375 \nQ 16.40625 9.28125 17.640625 7.734375 \nQ 18.890625 6.203125 21.96875 6.203125 \nQ 23.734375 6.203125 27.046875 6.890625 \nz\n\" id=\"LiberationSans-116\"/>\n       <path id=\"LiberationSans-32\"/>\n       <path d=\"M 38.671875 62.203125 \nQ 27.25 62.203125 20.890625 54.859375 \nQ 14.546875 47.515625 14.546875 34.71875 \nQ 14.546875 22.078125 21.15625 14.375 \nQ 27.78125 6.6875 39.0625 6.6875 \nQ 53.515625 6.6875 60.796875 21 \nL 68.40625 17.1875 \nQ 64.15625 8.296875 56.46875 3.65625 \nQ 48.78125 -0.984375 38.625 -0.984375 \nQ 28.21875 -0.984375 20.625 3.34375 \nQ 13.03125 7.671875 9.046875 15.703125 \nQ 5.078125 23.734375 5.078125 34.71875 \nQ 5.078125 51.171875 13.96875 60.5 \nQ 22.859375 69.828125 38.578125 69.828125 \nQ 49.5625 69.828125 56.9375 65.53125 \nQ 64.3125 61.234375 67.78125 52.78125 \nL 58.9375 49.859375 \nQ 56.546875 55.859375 51.25 59.03125 \nQ 45.953125 62.203125 38.671875 62.203125 \nz\n\" id=\"LiberationSans-67\"/>\n       <path d=\"M 6.734375 0 \nL 6.734375 72.46875 \nL 15.53125 72.46875 \nL 15.53125 0 \nz\n\" id=\"LiberationSans-108\"/>\n       <path d=\"M 46.390625 14.59375 \nQ 46.390625 7.125 40.75 3.0625 \nQ 35.109375 -0.984375 24.953125 -0.984375 \nQ 15.09375 -0.984375 9.734375 2.265625 \nQ 4.390625 5.515625 2.78125 12.40625 \nL 10.546875 13.921875 \nQ 11.671875 9.671875 15.1875 7.6875 \nQ 18.703125 5.71875 24.953125 5.71875 \nQ 31.640625 5.71875 34.734375 7.765625 \nQ 37.84375 9.8125 37.84375 13.921875 \nQ 37.84375 17.046875 35.6875 19 \nQ 33.546875 20.953125 28.765625 22.21875 \nL 22.46875 23.875 \nQ 14.890625 25.828125 11.6875 27.703125 \nQ 8.5 29.59375 6.6875 32.28125 \nQ 4.890625 34.96875 4.890625 38.875 \nQ 4.890625 46.09375 10.03125 49.875 \nQ 15.1875 53.65625 25.046875 53.65625 \nQ 33.796875 53.65625 38.9375 50.578125 \nQ 44.09375 47.515625 45.453125 40.71875 \nL 37.546875 39.75 \nQ 36.8125 43.265625 33.609375 45.140625 \nQ 30.421875 47.015625 25.046875 47.015625 \nQ 19.09375 47.015625 16.25 45.203125 \nQ 13.421875 43.40625 13.421875 39.75 \nQ 13.421875 37.5 14.59375 36.03125 \nQ 15.765625 34.578125 18.0625 33.546875 \nQ 20.359375 32.515625 27.734375 30.71875 \nQ 34.71875 28.953125 37.796875 27.46875 \nQ 40.875 25.984375 42.65625 24.171875 \nQ 44.4375 22.359375 45.40625 19.984375 \nQ 46.390625 17.625 46.390625 14.59375 \nz\n\" id=\"LiberationSans-115\"/>\n      </defs>\n      <use xlink:href=\"#LiberationSans-80\"/>\n      <use x=\"66.699219\" xlink:href=\"#LiberationSans-114\"/>\n      <use x=\"100\" xlink:href=\"#LiberationSans-101\"/>\n      <use x=\"155.615234\" xlink:href=\"#LiberationSans-100\"/>\n      <use x=\"211.230469\" xlink:href=\"#LiberationSans-105\"/>\n      <use x=\"233.447266\" xlink:href=\"#LiberationSans-99\"/>\n      <use x=\"283.447266\" xlink:href=\"#LiberationSans-116\"/>\n      <use x=\"311.230469\" xlink:href=\"#LiberationSans-101\"/>\n      <use x=\"366.845703\" xlink:href=\"#LiberationSans-100\"/>\n      <use x=\"422.460938\" xlink:href=\"#LiberationSans-32\"/>\n      <use x=\"450.244141\" xlink:href=\"#LiberationSans-67\"/>\n      <use x=\"522.460938\" xlink:href=\"#LiberationSans-108\"/>\n      <use x=\"544.677734\" xlink:href=\"#LiberationSans-97\"/>\n      <use x=\"600.292969\" xlink:href=\"#LiberationSans-115\"/>\n      <use x=\"650.292969\" xlink:href=\"#LiberationSans-115\"/>\n     </g>\n    </g>\n   </g>\n   <g id=\"matplotlib.axis_2\">\n    <g id=\"ytick_1\">\n     <g id=\"line2d_3\"/>\n     <g id=\"text_4\">\n      <!-- good -->\n      <g style=\"fill:#262626;\" transform=\"translate(21.454063 256.929375)scale(0.12 -0.12)\">\n       <use xlink:href=\"#LiberationSans-103\"/>\n       <use x=\"55.615234\" xlink:href=\"#LiberationSans-111\"/>\n       <use x=\"111.230469\" xlink:href=\"#LiberationSans-111\"/>\n       <use x=\"166.845703\" xlink:href=\"#LiberationSans-100\"/>\n      </g>\n     </g>\n    </g>\n    <g id=\"ytick_2\">\n     <g id=\"line2d_4\"/>\n     <g id=\"text_5\">\n      <!-- bad -->\n      <g style=\"fill:#262626;\" transform=\"translate(28.127188 103.139375)scale(0.12 -0.12)\">\n       <use xlink:href=\"#LiberationSans-98\"/>\n       <use x=\"55.615234\" xlink:href=\"#LiberationSans-97\"/>\n       <use x=\"111.230469\" xlink:href=\"#LiberationSans-100\"/>\n      </g>\n     </g>\n    </g>\n    <g id=\"text_6\">\n     <!-- True Class -->\n     <g style=\"fill:#262626;\" transform=\"translate(15.171563 202.068203)rotate(-90)scale(0.11 -0.11)\">\n      <defs>\n       <path d=\"M 35.15625 61.1875 \nL 35.15625 0 \nL 25.875 0 \nL 25.875 61.1875 \nL 2.25 61.1875 \nL 2.25 68.796875 \nL 58.796875 68.796875 \nL 58.796875 61.1875 \nz\n\" id=\"LiberationSans-84\"/>\n       <path d=\"M 15.328125 52.828125 \nL 15.328125 19.34375 \nQ 15.328125 14.109375 16.359375 11.21875 \nQ 17.390625 8.34375 19.625 7.078125 \nQ 21.875 5.8125 26.21875 5.8125 \nQ 32.5625 5.8125 36.21875 10.15625 \nQ 39.890625 14.5 39.890625 22.21875 \nL 39.890625 52.828125 \nL 48.6875 52.828125 \nL 48.6875 11.28125 \nQ 48.6875 2.046875 48.96875 0 \nL 40.671875 0 \nQ 40.625 0.25 40.578125 1.3125 \nQ 40.53125 2.390625 40.453125 3.78125 \nQ 40.375 5.171875 40.28125 9.03125 \nL 40.140625 9.03125 \nQ 37.109375 3.5625 33.125 1.28125 \nQ 29.15625 -0.984375 23.25 -0.984375 \nQ 14.546875 -0.984375 10.515625 3.34375 \nQ 6.5 7.671875 6.5 17.625 \nL 6.5 52.828125 \nz\n\" id=\"LiberationSans-117\"/>\n      </defs>\n      <use xlink:href=\"#LiberationSans-84\"/>\n      <use x=\"57.333984\" xlink:href=\"#LiberationSans-114\"/>\n      <use x=\"90.634766\" xlink:href=\"#LiberationSans-117\"/>\n      <use x=\"146.25\" xlink:href=\"#LiberationSans-101\"/>\n      <use x=\"201.865234\" xlink:href=\"#LiberationSans-32\"/>\n      <use x=\"229.648438\" xlink:href=\"#LiberationSans-67\"/>\n      <use x=\"301.865234\" xlink:href=\"#LiberationSans-108\"/>\n      <use x=\"324.082031\" xlink:href=\"#LiberationSans-97\"/>\n      <use x=\"379.697266\" xlink:href=\"#LiberationSans-115\"/>\n      <use x=\"429.697266\" xlink:href=\"#LiberationSans-115\"/>\n     </g>\n    </g>\n   </g>\n   <g id=\"QuadMesh_1\">\n    <path clip-path=\"url(#p6602744deb)\" d=\"M 55.146563 329.47625 \nL 306.436562 329.47625 \nL 306.436562 175.68625 \nL 55.146563 175.68625 \nL 55.146563 329.47625 \n\" style=\"fill:#fed976;stroke:#ffffff;stroke-width:0.01;\"/>\n    <path clip-path=\"url(#p6602744deb)\" d=\"M 306.436562 329.47625 \nL 557.726562 329.47625 \nL 557.726562 175.68625 \nL 306.436562 175.68625 \nL 306.436562 329.47625 \n\" style=\"fill:#800026;stroke:#111111;stroke-width:0.01;\"/>\n    <path clip-path=\"url(#p6602744deb)\" d=\"M 55.146563 175.68625 \nL 306.436562 175.68625 \nL 306.436562 21.89625 \nL 55.146563 21.89625 \nL 55.146563 175.68625 \n\" style=\"fill:#fed976;stroke:#111111;stroke-width:0.01;\"/>\n    <path clip-path=\"url(#p6602744deb)\" d=\"M 306.436562 175.68625 \nL 557.726562 175.68625 \nL 557.726562 21.89625 \nL 306.436562 21.89625 \nL 306.436562 175.68625 \n\" style=\"fill:#fed976;stroke:#ffffff;stroke-width:0.01;\"/>\n   </g>\n   <g id=\"patch_3\">\n    <path d=\"M 55.146563 329.47625 \nL 55.146563 21.89625 \n\" style=\"fill:none;stroke:#cccccc;stroke-linecap:square;stroke-linejoin:miter;stroke-width:1.25;\"/>\n   </g>\n   <g id=\"patch_4\">\n    <path d=\"M 557.726562 329.47625 \nL 557.726562 21.89625 \n\" style=\"fill:none;stroke:#cccccc;stroke-linecap:square;stroke-linejoin:miter;stroke-width:1.25;\"/>\n   </g>\n   <g id=\"patch_5\">\n    <path d=\"M 55.146563 329.47625 \nL 557.726562 329.47625 \n\" style=\"fill:none;stroke:#cccccc;stroke-linecap:square;stroke-linejoin:miter;stroke-width:1.25;\"/>\n   </g>\n   <g id=\"patch_6\">\n    <path d=\"M 55.146563 21.89625 \nL 557.726562 21.89625 \n\" style=\"fill:none;stroke:#cccccc;stroke-linecap:square;stroke-linejoin:miter;stroke-width:1.25;\"/>\n   </g>\n   <g id=\"text_7\">\n    <!-- 42 -->\n    <g transform=\"translate(174.118437 255.684375)scale(0.12 -0.12)\">\n     <defs>\n      <path d=\"M 43.015625 15.578125 \nL 43.015625 0 \nL 34.71875 0 \nL 34.71875 15.578125 \nL 2.296875 15.578125 \nL 2.296875 22.40625 \nL 33.796875 68.796875 \nL 43.015625 68.796875 \nL 43.015625 22.515625 \nL 52.6875 22.515625 \nL 52.6875 15.578125 \nz\nM 34.71875 58.890625 \nQ 34.625 58.59375 33.34375 56.296875 \nQ 32.078125 54 31.453125 53.078125 \nL 13.8125 27.09375 \nL 11.1875 23.484375 \nL 10.40625 22.515625 \nL 34.71875 22.515625 \nz\n\" id=\"LiberationSans-52\"/>\n      <path d=\"M 5.03125 0 \nL 5.03125 6.203125 \nQ 7.515625 11.921875 11.109375 16.28125 \nQ 14.703125 20.65625 18.65625 24.1875 \nQ 22.609375 27.734375 26.484375 30.765625 \nQ 30.375 33.796875 33.5 36.8125 \nQ 36.625 39.84375 38.546875 43.15625 \nQ 40.484375 46.484375 40.484375 50.6875 \nQ 40.484375 56.34375 37.15625 59.46875 \nQ 33.84375 62.59375 27.9375 62.59375 \nQ 22.3125 62.59375 18.671875 59.546875 \nQ 15.046875 56.5 14.40625 50.984375 \nL 5.421875 51.8125 \nQ 6.390625 60.0625 12.421875 64.9375 \nQ 18.453125 69.828125 27.9375 69.828125 \nQ 38.328125 69.828125 43.921875 64.921875 \nQ 49.515625 60.015625 49.515625 50.984375 \nQ 49.515625 46.96875 47.671875 43.015625 \nQ 45.84375 39.0625 42.234375 35.109375 \nQ 38.625 31.15625 28.421875 22.859375 \nQ 22.796875 18.265625 19.46875 14.578125 \nQ 16.15625 10.890625 14.703125 7.46875 \nL 50.59375 7.46875 \nL 50.59375 0 \nz\n\" id=\"LiberationSans-50\"/>\n     </defs>\n     <use xlink:href=\"#LiberationSans-52\"/>\n     <use x=\"55.615234\" xlink:href=\"#LiberationSans-50\"/>\n    </g>\n   </g>\n   <g id=\"text_8\">\n    <!-- 172 -->\n    <g style=\"fill:#ffffff;\" transform=\"translate(422.071875 255.684375)scale(0.12 -0.12)\">\n     <defs>\n      <path d=\"M 7.625 0 \nL 7.625 7.46875 \nL 25.140625 7.46875 \nL 25.140625 60.40625 \nL 9.625 49.3125 \nL 9.625 57.625 \nL 25.875 68.796875 \nL 33.984375 68.796875 \nL 33.984375 7.46875 \nL 50.734375 7.46875 \nL 50.734375 0 \nz\n\" id=\"LiberationSans-49\"/>\n      <path d=\"M 50.59375 61.671875 \nQ 40.046875 45.5625 35.6875 36.421875 \nQ 31.34375 27.296875 29.171875 18.40625 \nQ 27 9.515625 27 0 \nL 17.828125 0 \nQ 17.828125 13.1875 23.40625 27.75 \nQ 29 42.328125 42.09375 61.328125 \nL 5.125 61.328125 \nL 5.125 68.796875 \nL 50.59375 68.796875 \nz\n\" id=\"LiberationSans-55\"/>\n     </defs>\n     <use xlink:href=\"#LiberationSans-49\"/>\n     <use x=\"55.615234\" xlink:href=\"#LiberationSans-55\"/>\n     <use x=\"111.230469\" xlink:href=\"#LiberationSans-50\"/>\n    </g>\n   </g>\n   <g id=\"text_9\">\n    <!-- 41 -->\n    <g transform=\"translate(174.118437 101.894375)scale(0.12 -0.12)\">\n     <use xlink:href=\"#LiberationSans-52\"/>\n     <use x=\"55.615234\" xlink:href=\"#LiberationSans-49\"/>\n    </g>\n   </g>\n   <g id=\"text_10\">\n    <!-- 45 -->\n    <g transform=\"translate(425.408437 101.894375)scale(0.12 -0.12)\">\n     <defs>\n      <path d=\"M 51.421875 22.40625 \nQ 51.421875 11.53125 44.953125 5.265625 \nQ 38.484375 -0.984375 27 -0.984375 \nQ 17.390625 -0.984375 11.46875 3.21875 \nQ 5.5625 7.421875 4 15.375 \nL 12.890625 16.40625 \nQ 15.671875 6.203125 27.203125 6.203125 \nQ 34.28125 6.203125 38.28125 10.46875 \nQ 42.28125 14.75 42.28125 22.21875 \nQ 42.28125 28.71875 38.25 32.71875 \nQ 34.234375 36.71875 27.390625 36.71875 \nQ 23.828125 36.71875 20.75 35.59375 \nQ 17.671875 34.46875 14.59375 31.78125 \nL 6 31.78125 \nL 8.296875 68.796875 \nL 47.40625 68.796875 \nL 47.40625 61.328125 \nL 16.3125 61.328125 \nL 14.984375 39.5 \nQ 20.703125 43.890625 29.203125 43.890625 \nQ 39.359375 43.890625 45.390625 37.9375 \nQ 51.421875 31.984375 51.421875 22.40625 \nz\n\" id=\"LiberationSans-53\"/>\n     </defs>\n     <use xlink:href=\"#LiberationSans-52\"/>\n     <use x=\"55.615234\" xlink:href=\"#LiberationSans-53\"/>\n    </g>\n   </g>\n   <g id=\"text_11\">\n    <!-- GaussianNB Confusion Matrix -->\n    <g style=\"fill:#262626;\" transform=\"translate(226.073125 15.89625)scale(0.12 -0.12)\">\n     <defs>\n      <path d=\"M 5.03125 34.71875 \nQ 5.03125 51.46875 14.015625 60.640625 \nQ 23 69.828125 39.265625 69.828125 \nQ 50.6875 69.828125 57.8125 65.96875 \nQ 64.9375 62.109375 68.796875 53.609375 \nL 59.90625 50.984375 \nQ 56.984375 56.84375 51.828125 59.515625 \nQ 46.6875 62.203125 39.015625 62.203125 \nQ 27.09375 62.203125 20.796875 55 \nQ 14.5 47.796875 14.5 34.71875 \nQ 14.5 21.6875 21.1875 14.140625 \nQ 27.875 6.59375 39.703125 6.59375 \nQ 46.4375 6.59375 52.265625 8.640625 \nQ 58.109375 10.6875 61.71875 14.203125 \nL 61.71875 26.609375 \nL 41.15625 26.609375 \nL 41.15625 34.421875 \nL 70.3125 34.421875 \nL 70.3125 10.6875 \nQ 64.84375 5.125 56.90625 2.0625 \nQ 48.96875 -0.984375 39.703125 -0.984375 \nQ 28.90625 -0.984375 21.09375 3.3125 \nQ 13.28125 7.625 9.15625 15.703125 \nQ 5.03125 23.78125 5.03125 34.71875 \nz\n\" id=\"LiberationSans-71\"/>\n      <path d=\"M 40.28125 0 \nL 40.28125 33.5 \nQ 40.28125 38.71875 39.25 41.59375 \nQ 38.234375 44.484375 35.984375 45.75 \nQ 33.734375 47.015625 29.390625 47.015625 \nQ 23.046875 47.015625 19.375 42.671875 \nQ 15.71875 38.328125 15.71875 30.609375 \nL 15.71875 0 \nL 6.9375 0 \nL 6.9375 41.546875 \nQ 6.9375 50.78125 6.640625 52.828125 \nL 14.9375 52.828125 \nQ 14.984375 52.59375 15.03125 51.515625 \nQ 15.09375 50.4375 15.15625 49.046875 \nQ 15.234375 47.65625 15.328125 43.796875 \nL 15.484375 43.796875 \nQ 18.5 49.265625 22.484375 51.53125 \nQ 26.46875 53.8125 32.375 53.8125 \nQ 41.0625 53.8125 45.09375 49.484375 \nQ 49.125 45.171875 49.125 35.203125 \nL 49.125 0 \nz\n\" id=\"LiberationSans-110\"/>\n      <path d=\"M 52.828125 0 \nL 16.015625 58.59375 \nL 16.265625 53.859375 \nL 16.5 45.703125 \nL 16.5 0 \nL 8.203125 0 \nL 8.203125 68.796875 \nL 19.046875 68.796875 \nL 56.25 9.8125 \nQ 55.671875 19.390625 55.671875 23.6875 \nL 55.671875 68.796875 \nL 64.0625 68.796875 \nL 64.0625 0 \nz\n\" id=\"LiberationSans-78\"/>\n      <path d=\"M 61.421875 19.390625 \nQ 61.421875 10.203125 54.734375 5.09375 \nQ 48.046875 0 36.140625 0 \nL 8.203125 0 \nL 8.203125 68.796875 \nL 33.203125 68.796875 \nQ 57.421875 68.796875 57.421875 52.09375 \nQ 57.421875 46 54 41.84375 \nQ 50.59375 37.703125 44.34375 36.28125 \nQ 52.546875 35.296875 56.984375 30.78125 \nQ 61.421875 26.265625 61.421875 19.390625 \nz\nM 48.046875 50.984375 \nQ 48.046875 56.546875 44.234375 58.9375 \nQ 40.4375 61.328125 33.203125 61.328125 \nL 17.53125 61.328125 \nL 17.53125 39.546875 \nL 33.203125 39.546875 \nQ 40.671875 39.546875 44.359375 42.359375 \nQ 48.046875 45.171875 48.046875 50.984375 \nz\nM 52 20.125 \nQ 52 32.28125 34.90625 32.28125 \nL 17.53125 32.28125 \nL 17.53125 7.46875 \nL 35.640625 7.46875 \nQ 44.1875 7.46875 48.09375 10.640625 \nQ 52 13.8125 52 20.125 \nz\n\" id=\"LiberationSans-66\"/>\n      <path d=\"M 17.625 46.4375 \nL 17.625 0 \nL 8.84375 0 \nL 8.84375 46.4375 \nL 1.421875 46.4375 \nL 1.421875 52.828125 \nL 8.84375 52.828125 \nL 8.84375 58.796875 \nQ 8.84375 66.015625 12.015625 69.1875 \nQ 15.1875 72.359375 21.734375 72.359375 \nQ 25.390625 72.359375 27.9375 71.78125 \nL 27.9375 65.09375 \nQ 25.734375 65.484375 24.03125 65.484375 \nQ 20.65625 65.484375 19.140625 63.765625 \nQ 17.625 62.0625 17.625 57.5625 \nL 17.625 52.828125 \nL 27.9375 52.828125 \nL 27.9375 46.4375 \nz\n\" id=\"LiberationSans-102\"/>\n      <path d=\"M 66.703125 0 \nL 66.703125 45.90625 \nQ 66.703125 53.515625 67.140625 60.546875 \nQ 64.75 51.8125 62.84375 46.875 \nL 45.0625 0 \nL 38.53125 0 \nL 20.515625 46.875 \nL 17.78125 55.171875 \nL 16.15625 60.546875 \nL 16.3125 55.125 \nL 16.5 45.90625 \nL 16.5 0 \nL 8.203125 0 \nL 8.203125 68.796875 \nL 20.453125 68.796875 \nL 38.765625 21.09375 \nQ 39.75 18.21875 40.640625 14.921875 \nQ 41.546875 11.625 41.84375 10.15625 \nQ 42.234375 12.109375 43.484375 16.078125 \nQ 44.734375 20.0625 45.171875 21.09375 \nL 63.140625 68.796875 \nL 75.09375 68.796875 \nL 75.09375 0 \nz\n\" id=\"LiberationSans-77\"/>\n      <path d=\"M 39.109375 0 \nL 24.90625 21.6875 \nL 10.59375 0 \nL 1.125 0 \nL 19.921875 27.15625 \nL 2 52.828125 \nL 11.71875 52.828125 \nL 24.90625 32.28125 \nL 37.984375 52.828125 \nL 47.796875 52.828125 \nL 29.890625 27.25 \nL 48.921875 0 \nz\n\" id=\"LiberationSans-120\"/>\n     </defs>\n     <use xlink:href=\"#LiberationSans-71\"/>\n     <use x=\"77.783203\" xlink:href=\"#LiberationSans-97\"/>\n     <use x=\"133.398438\" xlink:href=\"#LiberationSans-117\"/>\n     <use x=\"189.013672\" xlink:href=\"#LiberationSans-115\"/>\n     <use x=\"239.013672\" xlink:href=\"#LiberationSans-115\"/>\n     <use x=\"289.013672\" xlink:href=\"#LiberationSans-105\"/>\n     <use x=\"311.230469\" xlink:href=\"#LiberationSans-97\"/>\n     <use x=\"366.845703\" xlink:href=\"#LiberationSans-110\"/>\n     <use x=\"422.460938\" xlink:href=\"#LiberationSans-78\"/>\n     <use x=\"494.677734\" xlink:href=\"#LiberationSans-66\"/>\n     <use x=\"561.376953\" xlink:href=\"#LiberationSans-32\"/>\n     <use x=\"589.160156\" xlink:href=\"#LiberationSans-67\"/>\n     <use x=\"661.376953\" xlink:href=\"#LiberationSans-111\"/>\n     <use x=\"716.992188\" xlink:href=\"#LiberationSans-110\"/>\n     <use x=\"772.607422\" xlink:href=\"#LiberationSans-102\"/>\n     <use x=\"800.390625\" xlink:href=\"#LiberationSans-117\"/>\n     <use x=\"856.005859\" xlink:href=\"#LiberationSans-115\"/>\n     <use x=\"906.005859\" xlink:href=\"#LiberationSans-105\"/>\n     <use x=\"928.222656\" xlink:href=\"#LiberationSans-111\"/>\n     <use x=\"983.837891\" xlink:href=\"#LiberationSans-110\"/>\n     <use x=\"1039.453125\" xlink:href=\"#LiberationSans-32\"/>\n     <use x=\"1067.236328\" xlink:href=\"#LiberationSans-77\"/>\n     <use x=\"1150.537109\" xlink:href=\"#LiberationSans-97\"/>\n     <use x=\"1206.152344\" xlink:href=\"#LiberationSans-116\"/>\n     <use x=\"1233.935547\" xlink:href=\"#LiberationSans-114\"/>\n     <use x=\"1267.236328\" xlink:href=\"#LiberationSans-105\"/>\n     <use x=\"1289.453125\" xlink:href=\"#LiberationSans-120\"/>\n    </g>\n   </g>\n  </g>\n </g>\n <defs>\n  <clipPath id=\"p6602744deb\">\n   <rect height=\"307.58\" width=\"502.58\" x=\"55.146563\" y=\"21.89625\"/>\n  </clipPath>\n </defs>\n</svg>\n",
      "image/png": "[encoded data removed]"
     },
     "metadata": {}
    },
    {
     "output_type": "execute_result",
     "data": {
      "text/plain": [
       "<AxesSubplot:title={'center':'GaussianNB Confusion Matrix'}, xlabel='Predicted Class', ylabel='True Class'>"
      ]
     },
     "metadata": {},
     "execution_count": 22
    }
   ],
   "source": [
    "# Visualização da Matriz de confusão\n",
    "v = ConfusionMatrix(GaussianNB())\n",
    "v.fit(X_train, y_train)\n",
    "v.score(X_test, y_test)\n",
    "v.poof()"
   ]
  },
  {
   "source": [
    "Vamos prever agora com o Novo Modelo"
   ],
   "cell_type": "markdown",
   "metadata": {}
  },
  {
   "cell_type": "code",
   "execution_count": 24,
   "metadata": {},
   "outputs": [
    {
     "output_type": "execute_result",
     "data": {
      "text/plain": [
       "  checking_status  duration   credit_history   purpose  credit_amount  \\\n",
       "0   'no checking'        12  'existing paid'  radio/tv            804   \n",
       "\n",
       "  savings_status employment  installment_commitment personal_status  \\\n",
       "0           <100        >=7                       4   'male single'   \n",
       "\n",
       "  other_parties  residence_since property_magnitude  age other_payment_plans  \\\n",
       "0          none                4                car   38                none   \n",
       "\n",
       "  housing  existing_credits      job  num_dependents own_telephone  \\\n",
       "0     own                 1  skilled               1          none   \n",
       "\n",
       "  foreign_worker  \n",
       "0            yes  "
      ],
      "text/html": "<div>\n<style scoped>\n    .dataframe tbody tr th:only-of-type {\n        vertical-align: middle;\n    }\n\n    .dataframe tbody tr th {\n        vertical-align: top;\n    }\n\n    .dataframe thead th {\n        text-align: right;\n    }\n</style>\n<table border=\"1\" class=\"dataframe\">\n  <thead>\n    <tr style=\"text-align: right;\">\n      <th></th>\n      <th>checking_status</th>\n      <th>duration</th>\n      <th>credit_history</th>\n      <th>purpose</th>\n      <th>credit_amount</th>\n      <th>savings_status</th>\n      <th>employment</th>\n      <th>installment_commitment</th>\n      <th>personal_status</th>\n      <th>other_parties</th>\n      <th>residence_since</th>\n      <th>property_magnitude</th>\n      <th>age</th>\n      <th>other_payment_plans</th>\n      <th>housing</th>\n      <th>existing_credits</th>\n      <th>job</th>\n      <th>num_dependents</th>\n      <th>own_telephone</th>\n      <th>foreign_worker</th>\n    </tr>\n  </thead>\n  <tbody>\n    <tr>\n      <th>0</th>\n      <td>'no checking'</td>\n      <td>12</td>\n      <td>'existing paid'</td>\n      <td>radio/tv</td>\n      <td>804</td>\n      <td>&lt;100</td>\n      <td>&gt;=7</td>\n      <td>4</td>\n      <td>'male single'</td>\n      <td>none</td>\n      <td>4</td>\n      <td>car</td>\n      <td>38</td>\n      <td>none</td>\n      <td>own</td>\n      <td>1</td>\n      <td>skilled</td>\n      <td>1</td>\n      <td>none</td>\n      <td>yes</td>\n    </tr>\n  </tbody>\n</table>\n</div>"
     },
     "metadata": {},
     "execution_count": 24
    }
   ],
   "source": [
    "new_credit = pd.read_csv('./dados/NovoCredit.csv')\n",
    "new_credit.head()"
   ]
  },
  {
   "cell_type": "code",
   "execution_count": 25,
   "metadata": {},
   "outputs": [],
   "source": [
    "# Usamos o mesmo objeto que foi criado antes, para manter o padrão dos dados\n",
    "# Chamamos somente o método \"transform\", pois a adaptação aos dados (fit) já foi feita anteriormente\n",
    "new_credit = new_credit.iloc[:,0:20].values\n",
    "new_credit[:,0] = labelencoder1.transform(new_credit[:,0])\n",
    "new_credit[:, 2] = labelencoder2.transform(new_credit[:, 2])\n",
    "new_credit[:, 3] = labelencoder3.transform(new_credit[:, 3])\n",
    "new_credit[:, 5] = labelencoder4.transform(new_credit[:, 5])\n",
    "new_credit[:, 6] = labelencoder5.transform(new_credit[:, 6])\n",
    "new_credit[:, 8] = labelencoder6.transform(new_credit[:, 8])\n",
    "new_credit[:, 9] = labelencoder7.transform(new_credit[:, 9])\n",
    "new_credit[:, 11] = labelencoder8.transform(new_credit[:, 11])\n",
    "new_credit[:, 13] = labelencoder9.transform(new_credit[:, 13])\n",
    "new_credit[:, 14] = labelencoder10.transform(new_credit[:, 14])\n",
    "new_credit[:, 16] = labelencoder11.transform(new_credit[:, 16])\n",
    "new_credit[:, 18] = labelencoder12.transform(new_credit[:, 18])\n",
    "new_credit[:, 19] = labelencoder13.transform(new_credit[:, 19])"
   ]
  },
  {
   "cell_type": "code",
   "execution_count": 26,
   "metadata": {},
   "outputs": [
    {
     "output_type": "execute_result",
     "data": {
      "text/plain": [
       "array(['good'], dtype='<U4')"
      ]
     },
     "metadata": {},
     "execution_count": 26
    }
   ],
   "source": [
    "naivebayes.predict(new_credit)"
   ]
  },
  {
   "cell_type": "code",
   "execution_count": null,
   "metadata": {},
   "outputs": [],
   "source": []
  }
 ]
}