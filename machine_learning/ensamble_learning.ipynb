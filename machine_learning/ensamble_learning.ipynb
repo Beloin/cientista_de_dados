{
 "metadata": {
  "language_info": {
   "codemirror_mode": {
    "name": "ipython",
    "version": 3
   },
   "file_extension": ".py",
   "mimetype": "text/x-python",
   "name": "python",
   "nbconvert_exporter": "python",
   "pygments_lexer": "ipython3",
   "version": "3.8.5-final"
  },
  "orig_nbformat": 2,
  "kernelspec": {
   "name": "python3",
   "display_name": "Python 3.8.5 64-bit ('anaconda3': virtualenv)",
   "metadata": {
    "interpreter": {
     "hash": "1f35f486eb6ce23489abc6d8c88052e0ba5c8d36cbbd1fd80ff2953db8759dad"
    }
   }
  }
 },
 "nbformat": 4,
 "nbformat_minor": 2,
 "cells": [
  {
   "source": [
    "# Ensamble Learning com RandomForest\n",
    "\n",
    "Métodos que agrupam vários algortimos de ML para obter o melhor desempenho."
   ],
   "cell_type": "markdown",
   "metadata": {}
  },
  {
   "cell_type": "code",
   "execution_count": 40,
   "metadata": {},
   "outputs": [],
   "source": [
    "# Importação das bibliotecas\n",
    "import pandas as pd\n",
    "from sklearn.model_selection import train_test_split\n",
    "from sklearn.preprocessing import LabelEncoder\n",
    "from sklearn.metrics import confusion_matrix, accuracy_score\n",
    "from sklearn.ensemble import RandomForestClassifier\n",
    "\n",
    "# Plot\n",
    "from yellowbrick.classifier import ConfusionMatrix"
   ]
  },
  {
   "cell_type": "code",
   "execution_count": 2,
   "metadata": {},
   "outputs": [
    {
     "output_type": "execute_result",
     "data": {
      "text/plain": [
       "  checking_status  duration                    credit_history  \\\n",
       "0              <0         6  'critical/other existing credit'   \n",
       "1        0<=X<200        48                   'existing paid'   \n",
       "2   'no checking'        12  'critical/other existing credit'   \n",
       "3              <0        42                   'existing paid'   \n",
       "4              <0        24              'delayed previously'   \n",
       "\n",
       "               purpose  credit_amount      savings_status employment  \\\n",
       "0             radio/tv           1169  'no known savings'        >=7   \n",
       "1             radio/tv           5951                <100     1<=X<4   \n",
       "2            education           2096                <100     4<=X<7   \n",
       "3  furniture/equipment           7882                <100     4<=X<7   \n",
       "4            'new car'           4870                <100     1<=X<4   \n",
       "\n",
       "   installment_commitment       personal_status other_parties  ...  \\\n",
       "0                       4         'male single'          none  ...   \n",
       "1                       2  'female div/dep/mar'          none  ...   \n",
       "2                       2         'male single'          none  ...   \n",
       "3                       2         'male single'     guarantor  ...   \n",
       "4                       3         'male single'          none  ...   \n",
       "\n",
       "    property_magnitude age  other_payment_plans     housing existing_credits  \\\n",
       "0        'real estate'  67                 none         own                2   \n",
       "1        'real estate'  22                 none         own                1   \n",
       "2        'real estate'  49                 none         own                1   \n",
       "3     'life insurance'  45                 none  'for free'                1   \n",
       "4  'no known property'  53                 none  'for free'                2   \n",
       "\n",
       "                    job num_dependents  own_telephone foreign_worker class  \n",
       "0               skilled              1            yes            yes  good  \n",
       "1               skilled              1           none            yes   bad  \n",
       "2  'unskilled resident'              2           none            yes  good  \n",
       "3               skilled              2           none            yes  good  \n",
       "4               skilled              2           none            yes   bad  \n",
       "\n",
       "[5 rows x 21 columns]"
      ],
      "text/html": "<div>\n<style scoped>\n    .dataframe tbody tr th:only-of-type {\n        vertical-align: middle;\n    }\n\n    .dataframe tbody tr th {\n        vertical-align: top;\n    }\n\n    .dataframe thead th {\n        text-align: right;\n    }\n</style>\n<table border=\"1\" class=\"dataframe\">\n  <thead>\n    <tr style=\"text-align: right;\">\n      <th></th>\n      <th>checking_status</th>\n      <th>duration</th>\n      <th>credit_history</th>\n      <th>purpose</th>\n      <th>credit_amount</th>\n      <th>savings_status</th>\n      <th>employment</th>\n      <th>installment_commitment</th>\n      <th>personal_status</th>\n      <th>other_parties</th>\n      <th>...</th>\n      <th>property_magnitude</th>\n      <th>age</th>\n      <th>other_payment_plans</th>\n      <th>housing</th>\n      <th>existing_credits</th>\n      <th>job</th>\n      <th>num_dependents</th>\n      <th>own_telephone</th>\n      <th>foreign_worker</th>\n      <th>class</th>\n    </tr>\n  </thead>\n  <tbody>\n    <tr>\n      <th>0</th>\n      <td>&lt;0</td>\n      <td>6</td>\n      <td>'critical/other existing credit'</td>\n      <td>radio/tv</td>\n      <td>1169</td>\n      <td>'no known savings'</td>\n      <td>&gt;=7</td>\n      <td>4</td>\n      <td>'male single'</td>\n      <td>none</td>\n      <td>...</td>\n      <td>'real estate'</td>\n      <td>67</td>\n      <td>none</td>\n      <td>own</td>\n      <td>2</td>\n      <td>skilled</td>\n      <td>1</td>\n      <td>yes</td>\n      <td>yes</td>\n      <td>good</td>\n    </tr>\n    <tr>\n      <th>1</th>\n      <td>0&lt;=X&lt;200</td>\n      <td>48</td>\n      <td>'existing paid'</td>\n      <td>radio/tv</td>\n      <td>5951</td>\n      <td>&lt;100</td>\n      <td>1&lt;=X&lt;4</td>\n      <td>2</td>\n      <td>'female div/dep/mar'</td>\n      <td>none</td>\n      <td>...</td>\n      <td>'real estate'</td>\n      <td>22</td>\n      <td>none</td>\n      <td>own</td>\n      <td>1</td>\n      <td>skilled</td>\n      <td>1</td>\n      <td>none</td>\n      <td>yes</td>\n      <td>bad</td>\n    </tr>\n    <tr>\n      <th>2</th>\n      <td>'no checking'</td>\n      <td>12</td>\n      <td>'critical/other existing credit'</td>\n      <td>education</td>\n      <td>2096</td>\n      <td>&lt;100</td>\n      <td>4&lt;=X&lt;7</td>\n      <td>2</td>\n      <td>'male single'</td>\n      <td>none</td>\n      <td>...</td>\n      <td>'real estate'</td>\n      <td>49</td>\n      <td>none</td>\n      <td>own</td>\n      <td>1</td>\n      <td>'unskilled resident'</td>\n      <td>2</td>\n      <td>none</td>\n      <td>yes</td>\n      <td>good</td>\n    </tr>\n    <tr>\n      <th>3</th>\n      <td>&lt;0</td>\n      <td>42</td>\n      <td>'existing paid'</td>\n      <td>furniture/equipment</td>\n      <td>7882</td>\n      <td>&lt;100</td>\n      <td>4&lt;=X&lt;7</td>\n      <td>2</td>\n      <td>'male single'</td>\n      <td>guarantor</td>\n      <td>...</td>\n      <td>'life insurance'</td>\n      <td>45</td>\n      <td>none</td>\n      <td>'for free'</td>\n      <td>1</td>\n      <td>skilled</td>\n      <td>2</td>\n      <td>none</td>\n      <td>yes</td>\n      <td>good</td>\n    </tr>\n    <tr>\n      <th>4</th>\n      <td>&lt;0</td>\n      <td>24</td>\n      <td>'delayed previously'</td>\n      <td>'new car'</td>\n      <td>4870</td>\n      <td>&lt;100</td>\n      <td>1&lt;=X&lt;4</td>\n      <td>3</td>\n      <td>'male single'</td>\n      <td>none</td>\n      <td>...</td>\n      <td>'no known property'</td>\n      <td>53</td>\n      <td>none</td>\n      <td>'for free'</td>\n      <td>2</td>\n      <td>skilled</td>\n      <td>2</td>\n      <td>none</td>\n      <td>yes</td>\n      <td>bad</td>\n    </tr>\n  </tbody>\n</table>\n<p>5 rows × 21 columns</p>\n</div>"
     },
     "metadata": {},
     "execution_count": 2
    }
   ],
   "source": [
    "credit = pd.read_csv('./dados/Credit.csv')\n",
    "credit.head()"
   ]
  },
  {
   "cell_type": "code",
   "execution_count": 27,
   "metadata": {},
   "outputs": [],
   "source": [
    "previsores = credit.iloc[:,:20]\n",
    "classe = credit.iloc[:,20].values"
   ]
  },
  {
   "cell_type": "code",
   "execution_count": 28,
   "metadata": {},
   "outputs": [
    {
     "output_type": "execute_result",
     "data": {
      "text/plain": [
       "['checking_status',\n",
       " 'credit_history',\n",
       " 'purpose',\n",
       " 'savings_status',\n",
       " 'employment',\n",
       " 'personal_status',\n",
       " 'other_parties',\n",
       " 'property_magnitude',\n",
       " 'other_payment_plans',\n",
       " 'housing',\n",
       " 'job',\n",
       " 'own_telephone',\n",
       " 'foreign_worker']"
      ]
     },
     "metadata": {},
     "execution_count": 28
    }
   ],
   "source": [
    "# Pegando atributos categóricos.\n",
    "cat = (credit.dtypes == 'object')\n",
    "object_cols = list(cat[cat].index)\n",
    "del object_cols[-1]\n",
    "object_cols"
   ]
  },
  {
   "cell_type": "code",
   "execution_count": 29,
   "metadata": {},
   "outputs": [],
   "source": [
    "labelencoder = LabelEncoder()\n",
    "for i in object_cols:\n",
    "    previsores[i] = labelencoder.fit_transform(previsores[i])"
   ]
  },
  {
   "cell_type": "code",
   "execution_count": 30,
   "metadata": {},
   "outputs": [],
   "source": [
    "previsores = previsores.values"
   ]
  },
  {
   "cell_type": "code",
   "execution_count": 31,
   "metadata": {},
   "outputs": [],
   "source": [
    "X_train, X_test, y_train, y_test = train_test_split(previsores,\n",
    "                                                    classe,\n",
    "                                                    test_size=0.3,\n",
    "                                                     random_state=0)"
   ]
  },
  {
   "cell_type": "code",
   "execution_count": 33,
   "metadata": {},
   "outputs": [
    {
     "output_type": "execute_result",
     "data": {
      "text/plain": [
       "RandomForestClassifier(n_estimators=1000)"
      ]
     },
     "metadata": {},
     "execution_count": 33
    }
   ],
   "source": [
    "florest = RandomForestClassifier(n_estimators=1000)\n",
    "florest.fit(X_train, y_train)"
   ]
  },
  {
   "cell_type": "code",
   "execution_count": 35,
   "metadata": {},
   "outputs": [
    {
     "output_type": "execute_result",
     "data": {
      "text/plain": [
       "[DecisionTreeClassifier(max_features='auto', random_state=2023154518),\n",
       " DecisionTreeClassifier(max_features='auto', random_state=443321769),\n",
       " DecisionTreeClassifier(max_features='auto', random_state=1588612735),\n",
       " DecisionTreeClassifier(max_features='auto', random_state=1260016042),\n",
       " DecisionTreeClassifier(max_features='auto', random_state=1541580748)]"
      ]
     },
     "metadata": {},
     "execution_count": 35
    }
   ],
   "source": [
    "florest.estimators_[:5]"
   ]
  },
  {
   "cell_type": "code",
   "execution_count": 43,
   "metadata": {},
   "outputs": [],
   "source": [
    "prev = florest.predict(X_test)\n",
    "confusion = confusion_matrix(y_test ,prev)\n",
    "taxa = accuracy_score(y_test, prev)"
   ]
  },
  {
   "cell_type": "code",
   "execution_count": 44,
   "metadata": {},
   "outputs": [
    {
     "output_type": "execute_result",
     "data": {
      "text/plain": [
       "array([[0.588, 0.412],\n",
       "       [0.16 , 0.84 ],\n",
       "       [0.07 , 0.93 ],\n",
       "       [0.228, 0.772],\n",
       "       [0.341, 0.659],\n",
       "       [0.253, 0.747],\n",
       "       [0.468, 0.532],\n",
       "       [0.091, 0.909],\n",
       "       [0.2  , 0.8  ],\n",
       "       [0.557, 0.443],\n",
       "       [0.625, 0.375],\n",
       "       [0.495, 0.505],\n",
       "       [0.293, 0.707],\n",
       "       [0.372, 0.628],\n",
       "       [0.557, 0.443],\n",
       "       [0.341, 0.659],\n",
       "       [0.37 , 0.63 ],\n",
       "       [0.324, 0.676],\n",
       "       [0.568, 0.432],\n",
       "       [0.307, 0.693],\n",
       "       [0.334, 0.666],\n",
       "       [0.504, 0.496],\n",
       "       [0.386, 0.614],\n",
       "       [0.231, 0.769],\n",
       "       [0.106, 0.894],\n",
       "       [0.715, 0.285],\n",
       "       [0.112, 0.888],\n",
       "       [0.287, 0.713],\n",
       "       [0.083, 0.917],\n",
       "       [0.661, 0.339],\n",
       "       [0.244, 0.756],\n",
       "       [0.354, 0.646],\n",
       "       [0.361, 0.639],\n",
       "       [0.414, 0.586],\n",
       "       [0.229, 0.771],\n",
       "       [0.612, 0.388],\n",
       "       [0.166, 0.834],\n",
       "       [0.137, 0.863],\n",
       "       [0.378, 0.622],\n",
       "       [0.186, 0.814],\n",
       "       [0.217, 0.783],\n",
       "       [0.465, 0.535],\n",
       "       [0.234, 0.766],\n",
       "       [0.172, 0.828],\n",
       "       [0.168, 0.832],\n",
       "       [0.64 , 0.36 ],\n",
       "       [0.387, 0.613],\n",
       "       [0.576, 0.424],\n",
       "       [0.405, 0.595],\n",
       "       [0.307, 0.693],\n",
       "       [0.066, 0.934],\n",
       "       [0.677, 0.323],\n",
       "       [0.311, 0.689],\n",
       "       [0.208, 0.792],\n",
       "       [0.431, 0.569],\n",
       "       [0.179, 0.821],\n",
       "       [0.567, 0.433],\n",
       "       [0.148, 0.852],\n",
       "       [0.053, 0.947],\n",
       "       [0.171, 0.829],\n",
       "       [0.741, 0.259],\n",
       "       [0.065, 0.935],\n",
       "       [0.436, 0.564],\n",
       "       [0.209, 0.791],\n",
       "       [0.141, 0.859],\n",
       "       [0.09 , 0.91 ],\n",
       "       [0.13 , 0.87 ],\n",
       "       [0.325, 0.675],\n",
       "       [0.539, 0.461],\n",
       "       [0.155, 0.845],\n",
       "       [0.229, 0.771],\n",
       "       [0.25 , 0.75 ],\n",
       "       [0.535, 0.465],\n",
       "       [0.35 , 0.65 ],\n",
       "       [0.585, 0.415],\n",
       "       [0.103, 0.897],\n",
       "       [0.172, 0.828],\n",
       "       [0.358, 0.642],\n",
       "       [0.311, 0.689],\n",
       "       [0.016, 0.984],\n",
       "       [0.405, 0.595],\n",
       "       [0.12 , 0.88 ],\n",
       "       [0.297, 0.703],\n",
       "       [0.297, 0.703],\n",
       "       [0.197, 0.803],\n",
       "       [0.155, 0.845],\n",
       "       [0.502, 0.498],\n",
       "       [0.5  , 0.5  ],\n",
       "       [0.073, 0.927],\n",
       "       [0.363, 0.637],\n",
       "       [0.253, 0.747],\n",
       "       [0.19 , 0.81 ],\n",
       "       [0.303, 0.697],\n",
       "       [0.206, 0.794],\n",
       "       [0.157, 0.843],\n",
       "       [0.178, 0.822],\n",
       "       [0.345, 0.655],\n",
       "       [0.405, 0.595],\n",
       "       [0.416, 0.584],\n",
       "       [0.408, 0.592],\n",
       "       [0.461, 0.539],\n",
       "       [0.226, 0.774],\n",
       "       [0.231, 0.769],\n",
       "       [0.224, 0.776],\n",
       "       [0.313, 0.687],\n",
       "       [0.138, 0.862],\n",
       "       [0.523, 0.477],\n",
       "       [0.583, 0.417],\n",
       "       [0.558, 0.442],\n",
       "       [0.039, 0.961],\n",
       "       [0.242, 0.758],\n",
       "       [0.546, 0.454],\n",
       "       [0.551, 0.449],\n",
       "       [0.231, 0.769],\n",
       "       [0.27 , 0.73 ],\n",
       "       [0.109, 0.891],\n",
       "       [0.499, 0.501],\n",
       "       [0.375, 0.625],\n",
       "       [0.308, 0.692],\n",
       "       [0.402, 0.598],\n",
       "       [0.384, 0.616],\n",
       "       [0.11 , 0.89 ],\n",
       "       [0.095, 0.905],\n",
       "       [0.473, 0.527],\n",
       "       [0.177, 0.823],\n",
       "       [0.304, 0.696],\n",
       "       [0.161, 0.839],\n",
       "       [0.05 , 0.95 ],\n",
       "       [0.181, 0.819],\n",
       "       [0.094, 0.906],\n",
       "       [0.358, 0.642],\n",
       "       [0.417, 0.583],\n",
       "       [0.812, 0.188],\n",
       "       [0.207, 0.793],\n",
       "       [0.173, 0.827],\n",
       "       [0.378, 0.622],\n",
       "       [0.288, 0.712],\n",
       "       [0.056, 0.944],\n",
       "       [0.264, 0.736],\n",
       "       [0.562, 0.438],\n",
       "       [0.683, 0.317],\n",
       "       [0.583, 0.417],\n",
       "       [0.202, 0.798],\n",
       "       [0.34 , 0.66 ],\n",
       "       [0.112, 0.888],\n",
       "       [0.187, 0.813],\n",
       "       [0.258, 0.742],\n",
       "       [0.586, 0.414],\n",
       "       [0.348, 0.652],\n",
       "       [0.311, 0.689],\n",
       "       [0.051, 0.949],\n",
       "       [0.329, 0.671],\n",
       "       [0.187, 0.813],\n",
       "       [0.13 , 0.87 ],\n",
       "       [0.47 , 0.53 ],\n",
       "       [0.137, 0.863],\n",
       "       [0.246, 0.754],\n",
       "       [0.335, 0.665],\n",
       "       [0.083, 0.917],\n",
       "       [0.092, 0.908],\n",
       "       [0.466, 0.534],\n",
       "       [0.485, 0.515],\n",
       "       [0.132, 0.868],\n",
       "       [0.161, 0.839],\n",
       "       [0.543, 0.457],\n",
       "       [0.68 , 0.32 ],\n",
       "       [0.757, 0.243],\n",
       "       [0.141, 0.859],\n",
       "       [0.23 , 0.77 ],\n",
       "       [0.308, 0.692],\n",
       "       [0.535, 0.465],\n",
       "       [0.172, 0.828],\n",
       "       [0.604, 0.396],\n",
       "       [0.381, 0.619],\n",
       "       [0.099, 0.901],\n",
       "       [0.615, 0.385],\n",
       "       [0.72 , 0.28 ],\n",
       "       [0.602, 0.398],\n",
       "       [0.189, 0.811],\n",
       "       [0.252, 0.748],\n",
       "       [0.066, 0.934],\n",
       "       [0.438, 0.562],\n",
       "       [0.323, 0.677],\n",
       "       [0.552, 0.448],\n",
       "       [0.42 , 0.58 ],\n",
       "       [0.376, 0.624],\n",
       "       [0.221, 0.779],\n",
       "       [0.413, 0.587],\n",
       "       [0.199, 0.801],\n",
       "       [0.158, 0.842],\n",
       "       [0.225, 0.775],\n",
       "       [0.806, 0.194],\n",
       "       [0.104, 0.896],\n",
       "       [0.149, 0.851],\n",
       "       [0.031, 0.969],\n",
       "       [0.171, 0.829],\n",
       "       [0.483, 0.517],\n",
       "       [0.177, 0.823],\n",
       "       [0.27 , 0.73 ],\n",
       "       [0.117, 0.883],\n",
       "       [0.326, 0.674],\n",
       "       [0.508, 0.492],\n",
       "       [0.616, 0.384],\n",
       "       [0.643, 0.357],\n",
       "       [0.167, 0.833],\n",
       "       [0.32 , 0.68 ],\n",
       "       [0.61 , 0.39 ],\n",
       "       [0.095, 0.905],\n",
       "       [0.294, 0.706],\n",
       "       [0.144, 0.856],\n",
       "       [0.341, 0.659],\n",
       "       [0.398, 0.602],\n",
       "       [0.396, 0.604],\n",
       "       [0.071, 0.929],\n",
       "       [0.144, 0.856],\n",
       "       [0.37 , 0.63 ],\n",
       "       [0.28 , 0.72 ],\n",
       "       [0.338, 0.662],\n",
       "       [0.329, 0.671],\n",
       "       [0.558, 0.442],\n",
       "       [0.602, 0.398],\n",
       "       [0.234, 0.766],\n",
       "       [0.347, 0.653],\n",
       "       [0.064, 0.936],\n",
       "       [0.037, 0.963],\n",
       "       [0.365, 0.635],\n",
       "       [0.304, 0.696],\n",
       "       [0.752, 0.248],\n",
       "       [0.699, 0.301],\n",
       "       [0.423, 0.577],\n",
       "       [0.025, 0.975],\n",
       "       [0.134, 0.866],\n",
       "       [0.27 , 0.73 ],\n",
       "       [0.148, 0.852],\n",
       "       [0.616, 0.384],\n",
       "       [0.576, 0.424],\n",
       "       [0.073, 0.927],\n",
       "       [0.064, 0.936],\n",
       "       [0.206, 0.794],\n",
       "       [0.444, 0.556],\n",
       "       [0.377, 0.623],\n",
       "       [0.029, 0.971],\n",
       "       [0.055, 0.945],\n",
       "       [0.405, 0.595],\n",
       "       [0.286, 0.714],\n",
       "       [0.332, 0.668],\n",
       "       [0.058, 0.942],\n",
       "       [0.073, 0.927],\n",
       "       [0.226, 0.774],\n",
       "       [0.107, 0.893],\n",
       "       [0.158, 0.842],\n",
       "       [0.355, 0.645],\n",
       "       [0.171, 0.829],\n",
       "       [0.092, 0.908],\n",
       "       [0.307, 0.693],\n",
       "       [0.075, 0.925],\n",
       "       [0.558, 0.442],\n",
       "       [0.339, 0.661],\n",
       "       [0.114, 0.886],\n",
       "       [0.367, 0.633],\n",
       "       [0.37 , 0.63 ],\n",
       "       [0.225, 0.775],\n",
       "       [0.152, 0.848],\n",
       "       [0.273, 0.727],\n",
       "       [0.737, 0.263],\n",
       "       [0.622, 0.378],\n",
       "       [0.325, 0.675],\n",
       "       [0.292, 0.708],\n",
       "       [0.401, 0.599],\n",
       "       [0.295, 0.705],\n",
       "       [0.521, 0.479],\n",
       "       [0.328, 0.672],\n",
       "       [0.309, 0.691],\n",
       "       [0.139, 0.861],\n",
       "       [0.197, 0.803],\n",
       "       [0.161, 0.839],\n",
       "       [0.127, 0.873],\n",
       "       [0.296, 0.704],\n",
       "       [0.382, 0.618],\n",
       "       [0.43 , 0.57 ],\n",
       "       [0.283, 0.717],\n",
       "       [0.285, 0.715],\n",
       "       [0.069, 0.931],\n",
       "       [0.131, 0.869],\n",
       "       [0.463, 0.537],\n",
       "       [0.345, 0.655],\n",
       "       [0.063, 0.937],\n",
       "       [0.32 , 0.68 ],\n",
       "       [0.175, 0.825],\n",
       "       [0.165, 0.835],\n",
       "       [0.359, 0.641],\n",
       "       [0.028, 0.972],\n",
       "       [0.332, 0.668],\n",
       "       [0.078, 0.922],\n",
       "       [0.135, 0.865],\n",
       "       [0.296, 0.704],\n",
       "       [0.613, 0.387],\n",
       "       [0.117, 0.883],\n",
       "       [0.579, 0.421],\n",
       "       [0.653, 0.347]])"
      ]
     },
     "metadata": {},
     "execution_count": 44
    }
   ],
   "source": [
    "confusion\n",
    "florest.predict_proba(X_test)"
   ]
  },
  {
   "cell_type": "code",
   "execution_count": 37,
   "metadata": {},
   "outputs": [
    {
     "output_type": "execute_result",
     "data": {
      "text/plain": [
       "0.78"
      ]
     },
     "metadata": {},
     "execution_count": 37
    }
   ],
   "source": [
    "taxa"
   ]
  },
  {
   "cell_type": "code",
   "execution_count": 42,
   "metadata": {},
   "outputs": [
    {
     "output_type": "display_data",
     "data": {
      "text/plain": "<Figure size 576x396 with 1 Axes>",
      "image/svg+xml": "<?xml version=\"1.0\" encoding=\"utf-8\" standalone=\"no\"?>\n<!DOCTYPE svg PUBLIC \"-//W3C//DTD SVG 1.1//EN\"\n  \"http://www.w3.org/Graphics/SVG/1.1/DTD/svg11.dtd\">\n<!-- Created with matplotlib (https://matplotlib.org/) -->\n<svg height=\"384.622812pt\" version=\"1.1\" viewBox=\"0 0 564.926562 384.622812\" width=\"564.926562pt\" xmlns=\"http://www.w3.org/2000/svg\" xmlns:xlink=\"http://www.w3.org/1999/xlink\">\n <metadata>\n  <rdf:RDF xmlns:cc=\"http://creativecommons.org/ns#\" xmlns:dc=\"http://purl.org/dc/elements/1.1/\" xmlns:rdf=\"http://www.w3.org/1999/02/22-rdf-syntax-ns#\">\n   <cc:Work>\n    <dc:type rdf:resource=\"http://purl.org/dc/dcmitype/StillImage\"/>\n    <dc:date>2021-01-19T21:50:45.954082</dc:date>\n    <dc:format>image/svg+xml</dc:format>\n    <dc:creator>\n     <cc:Agent>\n      <dc:title>Matplotlib v3.3.2, https://matplotlib.org/</dc:title>\n     </cc:Agent>\n    </dc:creator>\n   </cc:Work>\n  </rdf:RDF>\n </metadata>\n <defs>\n  <style type=\"text/css\">*{stroke-linecap:butt;stroke-linejoin:round;}</style>\n </defs>\n <g id=\"figure_1\">\n  <g id=\"patch_1\">\n   <path d=\"M 0 384.622812 \nL 564.926562 384.622812 \nL 564.926562 0 \nL 0 0 \nz\n\" style=\"fill:#ffffff;\"/>\n  </g>\n  <g id=\"axes_1\">\n   <g id=\"patch_2\">\n    <path d=\"M 55.146563 329.47625 \nL 557.726562 329.47625 \nL 557.726562 21.89625 \nL 55.146563 21.89625 \nz\n\" style=\"fill:#ffffff;\"/>\n   </g>\n   <g id=\"matplotlib.axis_1\">\n    <g id=\"xtick_1\">\n     <g id=\"line2d_1\"/>\n     <g id=\"text_1\">\n      <!-- bad -->\n      <g style=\"fill:#262626;\" transform=\"translate(183.894688 356.495625)rotate(-90)scale(0.12 -0.12)\">\n       <defs>\n        <path d=\"M 51.421875 26.65625 \nQ 51.421875 -0.984375 31.984375 -0.984375 \nQ 25.984375 -0.984375 22 1.1875 \nQ 18.015625 3.375 15.53125 8.203125 \nL 15.4375 8.203125 \nQ 15.4375 6.6875 15.234375 3.578125 \nQ 15.046875 0.484375 14.9375 0 \nL 6.453125 0 \nQ 6.734375 2.640625 6.734375 10.890625 \nL 6.734375 72.46875 \nL 15.53125 72.46875 \nL 15.53125 51.8125 \nQ 15.53125 48.640625 15.328125 44.34375 \nL 15.53125 44.34375 \nQ 17.96875 49.421875 22 51.609375 \nQ 26.03125 53.8125 31.984375 53.8125 \nQ 42 53.8125 46.703125 47.0625 \nQ 51.421875 40.328125 51.421875 26.65625 \nz\nM 42.1875 26.375 \nQ 42.1875 37.453125 39.25 42.234375 \nQ 36.328125 47.015625 29.734375 47.015625 \nQ 22.3125 47.015625 18.921875 41.9375 \nQ 15.53125 36.859375 15.53125 25.828125 \nQ 15.53125 15.4375 18.84375 10.46875 \nQ 22.171875 5.515625 29.640625 5.515625 \nQ 36.28125 5.515625 39.234375 10.421875 \nQ 42.1875 15.328125 42.1875 26.375 \nz\n\" id=\"LiberationSans-98\"/>\n        <path d=\"M 20.21875 -0.984375 \nQ 12.25 -0.984375 8.25 3.21875 \nQ 4.25 7.421875 4.25 14.75 \nQ 4.25 22.953125 9.640625 27.34375 \nQ 15.046875 31.734375 27.046875 32.03125 \nL 38.921875 32.234375 \nL 38.921875 35.109375 \nQ 38.921875 41.546875 36.1875 44.328125 \nQ 33.453125 47.125 27.59375 47.125 \nQ 21.6875 47.125 19 45.109375 \nQ 16.3125 43.109375 15.765625 38.71875 \nL 6.59375 39.546875 \nQ 8.84375 53.8125 27.78125 53.8125 \nQ 37.75 53.8125 42.765625 49.234375 \nQ 47.796875 44.671875 47.796875 36.03125 \nL 47.796875 13.28125 \nQ 47.796875 9.375 48.828125 7.390625 \nQ 49.859375 5.421875 52.734375 5.421875 \nQ 54 5.421875 55.609375 5.765625 \nL 55.609375 0.296875 \nQ 52.296875 -0.484375 48.828125 -0.484375 \nQ 43.953125 -0.484375 41.71875 2.078125 \nQ 39.5 4.640625 39.203125 10.109375 \nL 38.921875 10.109375 \nQ 35.546875 4.046875 31.078125 1.53125 \nQ 26.609375 -0.984375 20.21875 -0.984375 \nz\nM 22.21875 5.609375 \nQ 27.046875 5.609375 30.8125 7.8125 \nQ 34.578125 10.015625 36.75 13.84375 \nQ 38.921875 17.671875 38.921875 21.734375 \nL 38.921875 26.078125 \nL 29.296875 25.875 \nQ 23.09375 25.78125 19.890625 24.609375 \nQ 16.703125 23.4375 14.984375 21 \nQ 13.28125 18.5625 13.28125 14.59375 \nQ 13.28125 10.296875 15.59375 7.953125 \nQ 17.921875 5.609375 22.21875 5.609375 \nz\n\" id=\"LiberationSans-97\"/>\n        <path d=\"M 40.09375 8.5 \nQ 37.640625 3.421875 33.609375 1.21875 \nQ 29.59375 -0.984375 23.640625 -0.984375 \nQ 13.625 -0.984375 8.90625 5.75 \nQ 4.203125 12.5 4.203125 26.171875 \nQ 4.203125 53.8125 23.640625 53.8125 \nQ 29.640625 53.8125 33.640625 51.609375 \nQ 37.640625 49.421875 40.09375 44.625 \nL 40.1875 44.625 \nL 40.09375 50.53125 \nL 40.09375 72.46875 \nL 48.875 72.46875 \nL 48.875 10.890625 \nQ 48.875 2.640625 49.171875 0 \nL 40.765625 0 \nQ 40.625 0.78125 40.453125 3.609375 \nQ 40.28125 6.453125 40.28125 8.5 \nz\nM 13.421875 26.46875 \nQ 13.421875 15.375 16.34375 10.59375 \nQ 19.28125 5.8125 25.875 5.8125 \nQ 33.34375 5.8125 36.71875 10.984375 \nQ 40.09375 16.15625 40.09375 27.046875 \nQ 40.09375 37.546875 36.71875 42.421875 \nQ 33.34375 47.3125 25.984375 47.3125 \nQ 19.34375 47.3125 16.375 42.40625 \nQ 13.421875 37.5 13.421875 26.46875 \nz\n\" id=\"LiberationSans-100\"/>\n       </defs>\n       <use xlink:href=\"#LiberationSans-98\"/>\n       <use x=\"55.615234\" xlink:href=\"#LiberationSans-97\"/>\n       <use x=\"111.230469\" xlink:href=\"#LiberationSans-100\"/>\n      </g>\n     </g>\n    </g>\n    <g id=\"xtick_2\">\n     <g id=\"line2d_2\"/>\n     <g id=\"text_2\">\n      <!-- good -->\n      <g style=\"fill:#262626;\" transform=\"translate(435.184687 363.16875)rotate(-90)scale(0.12 -0.12)\">\n       <defs>\n        <path d=\"M 26.765625 -20.75 \nQ 18.109375 -20.75 12.984375 -17.359375 \nQ 7.859375 -13.96875 6.390625 -7.71875 \nL 15.234375 -6.453125 \nQ 16.109375 -10.109375 19.109375 -12.078125 \nQ 22.125 -14.0625 27 -14.0625 \nQ 40.140625 -14.0625 40.140625 1.3125 \nL 40.140625 9.8125 \nL 40.046875 9.8125 \nQ 37.546875 4.734375 33.203125 2.171875 \nQ 28.859375 -0.390625 23.046875 -0.390625 \nQ 13.328125 -0.390625 8.765625 6.046875 \nQ 4.203125 12.5 4.203125 26.3125 \nQ 4.203125 40.328125 9.109375 46.984375 \nQ 14.015625 53.65625 24.03125 53.65625 \nQ 29.640625 53.65625 33.765625 51.09375 \nQ 37.890625 48.53125 40.140625 43.796875 \nL 40.234375 43.796875 \nQ 40.234375 45.265625 40.421875 48.875 \nQ 40.625 52.484375 40.828125 52.828125 \nL 49.171875 52.828125 \nQ 48.875 50.203125 48.875 41.890625 \nL 48.875 1.515625 \nQ 48.875 -20.75 26.765625 -20.75 \nz\nM 40.140625 26.421875 \nQ 40.140625 32.859375 38.375 37.515625 \nQ 36.625 42.1875 33.421875 44.65625 \nQ 30.21875 47.125 26.171875 47.125 \nQ 19.4375 47.125 16.359375 42.234375 \nQ 13.28125 37.359375 13.28125 26.421875 \nQ 13.28125 15.578125 16.15625 10.84375 \nQ 19.046875 6.109375 26.03125 6.109375 \nQ 30.171875 6.109375 33.390625 8.546875 \nQ 36.625 10.984375 38.375 15.546875 \nQ 40.140625 20.125 40.140625 26.421875 \nz\n\" id=\"LiberationSans-103\"/>\n        <path d=\"M 51.421875 26.46875 \nQ 51.421875 12.59375 45.3125 5.796875 \nQ 39.203125 -0.984375 27.59375 -0.984375 \nQ 16.015625 -0.984375 10.109375 6.078125 \nQ 4.203125 13.140625 4.203125 26.46875 \nQ 4.203125 53.8125 27.875 53.8125 \nQ 39.984375 53.8125 45.703125 47.140625 \nQ 51.421875 40.484375 51.421875 26.46875 \nz\nM 42.1875 26.46875 \nQ 42.1875 37.40625 38.9375 42.359375 \nQ 35.6875 47.3125 28.03125 47.3125 \nQ 20.3125 47.3125 16.859375 42.25 \nQ 13.421875 37.203125 13.421875 26.46875 \nQ 13.421875 16.015625 16.8125 10.765625 \nQ 20.21875 5.515625 27.484375 5.515625 \nQ 35.40625 5.515625 38.796875 10.59375 \nQ 42.1875 15.671875 42.1875 26.46875 \nz\n\" id=\"LiberationSans-111\"/>\n       </defs>\n       <use xlink:href=\"#LiberationSans-103\"/>\n       <use x=\"55.615234\" xlink:href=\"#LiberationSans-111\"/>\n       <use x=\"111.230469\" xlink:href=\"#LiberationSans-111\"/>\n       <use x=\"166.845703\" xlink:href=\"#LiberationSans-100\"/>\n      </g>\n     </g>\n    </g>\n    <g id=\"text_3\">\n     <!-- Predicted Class -->\n     <g style=\"fill:#262626;\" transform=\"translate(267.921953 375.140312)scale(0.11 -0.11)\">\n      <defs>\n       <path d=\"M 61.421875 48.09375 \nQ 61.421875 38.328125 55.046875 32.5625 \nQ 48.6875 26.8125 37.75 26.8125 \nL 17.53125 26.8125 \nL 17.53125 0 \nL 8.203125 0 \nL 8.203125 68.796875 \nL 37.15625 68.796875 \nQ 48.734375 68.796875 55.078125 63.375 \nQ 61.421875 57.953125 61.421875 48.09375 \nz\nM 52.046875 48 \nQ 52.046875 61.328125 36.03125 61.328125 \nL 17.53125 61.328125 \nL 17.53125 34.1875 \nL 36.421875 34.1875 \nQ 52.046875 34.1875 52.046875 48 \nz\n\" id=\"LiberationSans-80\"/>\n       <path d=\"M 6.9375 0 \nL 6.9375 40.53125 \nQ 6.9375 46.09375 6.640625 52.828125 \nL 14.9375 52.828125 \nQ 15.328125 43.84375 15.328125 42.046875 \nL 15.53125 42.046875 \nQ 17.625 48.828125 20.359375 51.3125 \nQ 23.09375 53.8125 28.078125 53.8125 \nQ 29.828125 53.8125 31.640625 53.328125 \nL 31.640625 45.265625 \nQ 29.890625 45.75 26.953125 45.75 \nQ 21.484375 45.75 18.59375 41.03125 \nQ 15.71875 36.328125 15.71875 27.546875 \nL 15.71875 0 \nz\n\" id=\"LiberationSans-114\"/>\n       <path d=\"M 13.484375 24.5625 \nQ 13.484375 15.484375 17.234375 10.546875 \nQ 21 5.609375 28.21875 5.609375 \nQ 33.9375 5.609375 37.375 7.90625 \nQ 40.828125 10.203125 42.046875 13.71875 \nL 49.75 11.53125 \nQ 45.015625 -0.984375 28.21875 -0.984375 \nQ 16.5 -0.984375 10.375 6 \nQ 4.25 12.984375 4.25 26.765625 \nQ 4.25 39.84375 10.375 46.828125 \nQ 16.5 53.8125 27.875 53.8125 \nQ 51.171875 53.8125 51.171875 25.734375 \nL 51.171875 24.5625 \nz\nM 42.09375 31.296875 \nQ 41.359375 39.65625 37.84375 43.484375 \nQ 34.328125 47.3125 27.734375 47.3125 \nQ 21.34375 47.3125 17.609375 43.03125 \nQ 13.875 38.765625 13.578125 31.296875 \nz\n\" id=\"LiberationSans-101\"/>\n       <path d=\"M 6.6875 64.0625 \nL 6.6875 72.46875 \nL 15.484375 72.46875 \nL 15.484375 64.0625 \nz\nM 6.6875 0 \nL 6.6875 52.828125 \nL 15.484375 52.828125 \nL 15.484375 0 \nz\n\" id=\"LiberationSans-105\"/>\n       <path d=\"M 13.421875 26.65625 \nQ 13.421875 16.109375 16.734375 11.03125 \nQ 20.0625 5.953125 26.765625 5.953125 \nQ 31.453125 5.953125 34.59375 8.484375 \nQ 37.75 11.03125 38.484375 16.3125 \nL 47.359375 15.71875 \nQ 46.34375 8.109375 40.875 3.5625 \nQ 35.40625 -0.984375 27 -0.984375 \nQ 15.921875 -0.984375 10.078125 6.015625 \nQ 4.25 13.03125 4.25 26.46875 \nQ 4.25 39.796875 10.109375 46.796875 \nQ 15.96875 53.8125 26.90625 53.8125 \nQ 35.015625 53.8125 40.359375 49.609375 \nQ 45.703125 45.40625 47.078125 38.03125 \nL 38.03125 37.359375 \nQ 37.359375 41.75 34.5625 44.328125 \nQ 31.78125 46.921875 26.65625 46.921875 \nQ 19.671875 46.921875 16.546875 42.28125 \nQ 13.421875 37.640625 13.421875 26.65625 \nz\n\" id=\"LiberationSans-99\"/>\n       <path d=\"M 27.046875 0.390625 \nQ 22.703125 -0.78125 18.171875 -0.78125 \nQ 7.625 -0.78125 7.625 11.1875 \nL 7.625 46.4375 \nL 1.515625 46.4375 \nL 1.515625 52.828125 \nL 7.953125 52.828125 \nL 10.546875 64.65625 \nL 16.40625 64.65625 \nL 16.40625 52.828125 \nL 26.171875 52.828125 \nL 26.171875 46.4375 \nL 16.40625 46.4375 \nL 16.40625 13.09375 \nQ 16.40625 9.28125 17.640625 7.734375 \nQ 18.890625 6.203125 21.96875 6.203125 \nQ 23.734375 6.203125 27.046875 6.890625 \nz\n\" id=\"LiberationSans-116\"/>\n       <path id=\"LiberationSans-32\"/>\n       <path d=\"M 38.671875 62.203125 \nQ 27.25 62.203125 20.890625 54.859375 \nQ 14.546875 47.515625 14.546875 34.71875 \nQ 14.546875 22.078125 21.15625 14.375 \nQ 27.78125 6.6875 39.0625 6.6875 \nQ 53.515625 6.6875 60.796875 21 \nL 68.40625 17.1875 \nQ 64.15625 8.296875 56.46875 3.65625 \nQ 48.78125 -0.984375 38.625 -0.984375 \nQ 28.21875 -0.984375 20.625 3.34375 \nQ 13.03125 7.671875 9.046875 15.703125 \nQ 5.078125 23.734375 5.078125 34.71875 \nQ 5.078125 51.171875 13.96875 60.5 \nQ 22.859375 69.828125 38.578125 69.828125 \nQ 49.5625 69.828125 56.9375 65.53125 \nQ 64.3125 61.234375 67.78125 52.78125 \nL 58.9375 49.859375 \nQ 56.546875 55.859375 51.25 59.03125 \nQ 45.953125 62.203125 38.671875 62.203125 \nz\n\" id=\"LiberationSans-67\"/>\n       <path d=\"M 6.734375 0 \nL 6.734375 72.46875 \nL 15.53125 72.46875 \nL 15.53125 0 \nz\n\" id=\"LiberationSans-108\"/>\n       <path d=\"M 46.390625 14.59375 \nQ 46.390625 7.125 40.75 3.0625 \nQ 35.109375 -0.984375 24.953125 -0.984375 \nQ 15.09375 -0.984375 9.734375 2.265625 \nQ 4.390625 5.515625 2.78125 12.40625 \nL 10.546875 13.921875 \nQ 11.671875 9.671875 15.1875 7.6875 \nQ 18.703125 5.71875 24.953125 5.71875 \nQ 31.640625 5.71875 34.734375 7.765625 \nQ 37.84375 9.8125 37.84375 13.921875 \nQ 37.84375 17.046875 35.6875 19 \nQ 33.546875 20.953125 28.765625 22.21875 \nL 22.46875 23.875 \nQ 14.890625 25.828125 11.6875 27.703125 \nQ 8.5 29.59375 6.6875 32.28125 \nQ 4.890625 34.96875 4.890625 38.875 \nQ 4.890625 46.09375 10.03125 49.875 \nQ 15.1875 53.65625 25.046875 53.65625 \nQ 33.796875 53.65625 38.9375 50.578125 \nQ 44.09375 47.515625 45.453125 40.71875 \nL 37.546875 39.75 \nQ 36.8125 43.265625 33.609375 45.140625 \nQ 30.421875 47.015625 25.046875 47.015625 \nQ 19.09375 47.015625 16.25 45.203125 \nQ 13.421875 43.40625 13.421875 39.75 \nQ 13.421875 37.5 14.59375 36.03125 \nQ 15.765625 34.578125 18.0625 33.546875 \nQ 20.359375 32.515625 27.734375 30.71875 \nQ 34.71875 28.953125 37.796875 27.46875 \nQ 40.875 25.984375 42.65625 24.171875 \nQ 44.4375 22.359375 45.40625 19.984375 \nQ 46.390625 17.625 46.390625 14.59375 \nz\n\" id=\"LiberationSans-115\"/>\n      </defs>\n      <use xlink:href=\"#LiberationSans-80\"/>\n      <use x=\"66.699219\" xlink:href=\"#LiberationSans-114\"/>\n      <use x=\"100\" xlink:href=\"#LiberationSans-101\"/>\n      <use x=\"155.615234\" xlink:href=\"#LiberationSans-100\"/>\n      <use x=\"211.230469\" xlink:href=\"#LiberationSans-105\"/>\n      <use x=\"233.447266\" xlink:href=\"#LiberationSans-99\"/>\n      <use x=\"283.447266\" xlink:href=\"#LiberationSans-116\"/>\n      <use x=\"311.230469\" xlink:href=\"#LiberationSans-101\"/>\n      <use x=\"366.845703\" xlink:href=\"#LiberationSans-100\"/>\n      <use x=\"422.460938\" xlink:href=\"#LiberationSans-32\"/>\n      <use x=\"450.244141\" xlink:href=\"#LiberationSans-67\"/>\n      <use x=\"522.460938\" xlink:href=\"#LiberationSans-108\"/>\n      <use x=\"544.677734\" xlink:href=\"#LiberationSans-97\"/>\n      <use x=\"600.292969\" xlink:href=\"#LiberationSans-115\"/>\n      <use x=\"650.292969\" xlink:href=\"#LiberationSans-115\"/>\n     </g>\n    </g>\n   </g>\n   <g id=\"matplotlib.axis_2\">\n    <g id=\"ytick_1\">\n     <g id=\"line2d_3\"/>\n     <g id=\"text_4\">\n      <!-- good -->\n      <g style=\"fill:#262626;\" transform=\"translate(21.454063 256.929375)scale(0.12 -0.12)\">\n       <use xlink:href=\"#LiberationSans-103\"/>\n       <use x=\"55.615234\" xlink:href=\"#LiberationSans-111\"/>\n       <use x=\"111.230469\" xlink:href=\"#LiberationSans-111\"/>\n       <use x=\"166.845703\" xlink:href=\"#LiberationSans-100\"/>\n      </g>\n     </g>\n    </g>\n    <g id=\"ytick_2\">\n     <g id=\"line2d_4\"/>\n     <g id=\"text_5\">\n      <!-- bad -->\n      <g style=\"fill:#262626;\" transform=\"translate(28.127188 103.139375)scale(0.12 -0.12)\">\n       <use xlink:href=\"#LiberationSans-98\"/>\n       <use x=\"55.615234\" xlink:href=\"#LiberationSans-97\"/>\n       <use x=\"111.230469\" xlink:href=\"#LiberationSans-100\"/>\n      </g>\n     </g>\n    </g>\n    <g id=\"text_6\">\n     <!-- True Class -->\n     <g style=\"fill:#262626;\" transform=\"translate(15.171563 202.068203)rotate(-90)scale(0.11 -0.11)\">\n      <defs>\n       <path d=\"M 35.15625 61.1875 \nL 35.15625 0 \nL 25.875 0 \nL 25.875 61.1875 \nL 2.25 61.1875 \nL 2.25 68.796875 \nL 58.796875 68.796875 \nL 58.796875 61.1875 \nz\n\" id=\"LiberationSans-84\"/>\n       <path d=\"M 15.328125 52.828125 \nL 15.328125 19.34375 \nQ 15.328125 14.109375 16.359375 11.21875 \nQ 17.390625 8.34375 19.625 7.078125 \nQ 21.875 5.8125 26.21875 5.8125 \nQ 32.5625 5.8125 36.21875 10.15625 \nQ 39.890625 14.5 39.890625 22.21875 \nL 39.890625 52.828125 \nL 48.6875 52.828125 \nL 48.6875 11.28125 \nQ 48.6875 2.046875 48.96875 0 \nL 40.671875 0 \nQ 40.625 0.25 40.578125 1.3125 \nQ 40.53125 2.390625 40.453125 3.78125 \nQ 40.375 5.171875 40.28125 9.03125 \nL 40.140625 9.03125 \nQ 37.109375 3.5625 33.125 1.28125 \nQ 29.15625 -0.984375 23.25 -0.984375 \nQ 14.546875 -0.984375 10.515625 3.34375 \nQ 6.5 7.671875 6.5 17.625 \nL 6.5 52.828125 \nz\n\" id=\"LiberationSans-117\"/>\n      </defs>\n      <use xlink:href=\"#LiberationSans-84\"/>\n      <use x=\"57.333984\" xlink:href=\"#LiberationSans-114\"/>\n      <use x=\"90.634766\" xlink:href=\"#LiberationSans-117\"/>\n      <use x=\"146.25\" xlink:href=\"#LiberationSans-101\"/>\n      <use x=\"201.865234\" xlink:href=\"#LiberationSans-32\"/>\n      <use x=\"229.648438\" xlink:href=\"#LiberationSans-67\"/>\n      <use x=\"301.865234\" xlink:href=\"#LiberationSans-108\"/>\n      <use x=\"324.082031\" xlink:href=\"#LiberationSans-97\"/>\n      <use x=\"379.697266\" xlink:href=\"#LiberationSans-115\"/>\n      <use x=\"429.697266\" xlink:href=\"#LiberationSans-115\"/>\n     </g>\n    </g>\n   </g>\n   <g id=\"QuadMesh_1\">\n    <path clip-path=\"url(#p68dd713c73)\" d=\"M 55.146563 329.47625 \nL 306.436562 329.47625 \nL 306.436562 175.68625 \nL 55.146563 175.68625 \nL 55.146563 329.47625 \n\" style=\"fill:#ffffcc;stroke:#ffffff;stroke-width:0.01;\"/>\n    <path clip-path=\"url(#p68dd713c73)\" d=\"M 306.436562 329.47625 \nL 557.726562 329.47625 \nL 557.726562 175.68625 \nL 306.436562 175.68625 \nL 306.436562 329.47625 \n\" style=\"fill:#800026;stroke:#111111;stroke-width:0.01;\"/>\n    <path clip-path=\"url(#p68dd713c73)\" d=\"M 55.146563 175.68625 \nL 306.436562 175.68625 \nL 306.436562 21.89625 \nL 55.146563 21.89625 \nL 55.146563 175.68625 \n\" style=\"fill:#ffeda0;stroke:#111111;stroke-width:0.01;\"/>\n    <path clip-path=\"url(#p68dd713c73)\" d=\"M 306.436562 175.68625 \nL 557.726562 175.68625 \nL 557.726562 21.89625 \nL 306.436562 21.89625 \nL 306.436562 175.68625 \n\" style=\"fill:#fed976;stroke:#ffffff;stroke-width:0.01;\"/>\n   </g>\n   <g id=\"patch_3\">\n    <path d=\"M 55.146563 329.47625 \nL 55.146563 21.89625 \n\" style=\"fill:none;stroke:#cccccc;stroke-linecap:square;stroke-linejoin:miter;stroke-width:1.25;\"/>\n   </g>\n   <g id=\"patch_4\">\n    <path d=\"M 557.726562 329.47625 \nL 557.726562 21.89625 \n\" style=\"fill:none;stroke:#cccccc;stroke-linecap:square;stroke-linejoin:miter;stroke-width:1.25;\"/>\n   </g>\n   <g id=\"patch_5\">\n    <path d=\"M 55.146563 329.47625 \nL 557.726562 329.47625 \n\" style=\"fill:none;stroke:#cccccc;stroke-linecap:square;stroke-linejoin:miter;stroke-width:1.25;\"/>\n   </g>\n   <g id=\"patch_6\">\n    <path d=\"M 55.146563 21.89625 \nL 557.726562 21.89625 \n\" style=\"fill:none;stroke:#cccccc;stroke-linecap:square;stroke-linejoin:miter;stroke-width:1.25;\"/>\n   </g>\n   <g id=\"text_7\">\n    <!-- 18 -->\n    <g transform=\"translate(174.118437 255.684375)scale(0.12 -0.12)\">\n     <defs>\n      <path d=\"M 7.625 0 \nL 7.625 7.46875 \nL 25.140625 7.46875 \nL 25.140625 60.40625 \nL 9.625 49.3125 \nL 9.625 57.625 \nL 25.875 68.796875 \nL 33.984375 68.796875 \nL 33.984375 7.46875 \nL 50.734375 7.46875 \nL 50.734375 0 \nz\n\" id=\"LiberationSans-49\"/>\n      <path d=\"M 51.265625 19.1875 \nQ 51.265625 9.671875 45.203125 4.34375 \nQ 39.15625 -0.984375 27.828125 -0.984375 \nQ 16.796875 -0.984375 10.5625 4.234375 \nQ 4.34375 9.46875 4.34375 19.09375 \nQ 4.34375 25.828125 8.203125 30.421875 \nQ 12.0625 35.015625 18.0625 35.984375 \nL 18.0625 36.1875 \nQ 12.453125 37.5 9.203125 41.890625 \nQ 5.953125 46.296875 5.953125 52.203125 \nQ 5.953125 60.0625 11.828125 64.9375 \nQ 17.71875 69.828125 27.640625 69.828125 \nQ 37.796875 69.828125 43.671875 65.03125 \nQ 49.5625 60.25 49.5625 52.09375 \nQ 49.5625 46.1875 46.28125 41.796875 \nQ 43.015625 37.40625 37.359375 36.28125 \nL 37.359375 36.078125 \nQ 43.953125 35.015625 47.609375 30.5 \nQ 51.265625 25.984375 51.265625 19.1875 \nz\nM 40.4375 51.609375 \nQ 40.4375 63.28125 27.640625 63.28125 \nQ 21.4375 63.28125 18.1875 60.34375 \nQ 14.9375 57.421875 14.9375 51.609375 \nQ 14.9375 45.703125 18.28125 42.59375 \nQ 21.625 39.5 27.734375 39.5 \nQ 33.9375 39.5 37.1875 42.359375 \nQ 40.4375 45.21875 40.4375 51.609375 \nz\nM 42.140625 20.015625 \nQ 42.140625 26.421875 38.328125 29.65625 \nQ 34.515625 32.90625 27.640625 32.90625 \nQ 20.953125 32.90625 17.1875 29.40625 \nQ 13.421875 25.921875 13.421875 19.828125 \nQ 13.421875 5.609375 27.9375 5.609375 \nQ 35.109375 5.609375 38.625 9.046875 \nQ 42.140625 12.5 42.140625 20.015625 \nz\n\" id=\"LiberationSans-56\"/>\n     </defs>\n     <use xlink:href=\"#LiberationSans-49\"/>\n     <use x=\"55.615234\" xlink:href=\"#LiberationSans-56\"/>\n    </g>\n   </g>\n   <g id=\"text_8\">\n    <!-- 196 -->\n    <g style=\"fill:#ffffff;\" transform=\"translate(422.071875 255.684375)scale(0.12 -0.12)\">\n     <defs>\n      <path d=\"M 50.875 35.796875 \nQ 50.875 18.0625 44.40625 8.53125 \nQ 37.9375 -0.984375 25.984375 -0.984375 \nQ 17.921875 -0.984375 13.0625 2.40625 \nQ 8.203125 5.8125 6.109375 13.375 \nL 14.5 14.703125 \nQ 17.140625 6.109375 26.125 6.109375 \nQ 33.6875 6.109375 37.84375 13.140625 \nQ 42 20.171875 42.1875 33.203125 \nQ 40.234375 28.8125 35.5 26.140625 \nQ 30.765625 23.484375 25.09375 23.484375 \nQ 15.828125 23.484375 10.25 29.828125 \nQ 4.6875 36.1875 4.6875 46.6875 \nQ 4.6875 57.46875 10.734375 63.640625 \nQ 16.796875 69.828125 27.59375 69.828125 \nQ 39.0625 69.828125 44.96875 61.328125 \nQ 50.875 52.828125 50.875 35.796875 \nz\nM 41.3125 44.28125 \nQ 41.3125 52.59375 37.5 57.640625 \nQ 33.6875 62.703125 27.296875 62.703125 \nQ 20.953125 62.703125 17.28125 58.375 \nQ 13.625 54.046875 13.625 46.6875 \nQ 13.625 39.15625 17.28125 34.78125 \nQ 20.953125 30.421875 27.203125 30.421875 \nQ 31 30.421875 34.265625 32.15625 \nQ 37.546875 33.890625 39.421875 37.0625 \nQ 41.3125 40.234375 41.3125 44.28125 \nz\n\" id=\"LiberationSans-57\"/>\n      <path d=\"M 51.21875 22.515625 \nQ 51.21875 11.625 45.3125 5.3125 \nQ 39.40625 -0.984375 29 -0.984375 \nQ 17.390625 -0.984375 11.234375 7.65625 \nQ 5.078125 16.3125 5.078125 32.8125 \nQ 5.078125 50.6875 11.46875 60.25 \nQ 17.875 69.828125 29.6875 69.828125 \nQ 45.265625 69.828125 49.3125 55.8125 \nL 40.921875 54.296875 \nQ 38.328125 62.703125 29.59375 62.703125 \nQ 22.078125 62.703125 17.9375 55.6875 \nQ 13.8125 48.6875 13.8125 35.40625 \nQ 16.21875 39.84375 20.5625 42.15625 \nQ 24.90625 44.484375 30.515625 44.484375 \nQ 40.046875 44.484375 45.625 38.515625 \nQ 51.21875 32.5625 51.21875 22.515625 \nz\nM 42.28125 22.125 \nQ 42.28125 29.59375 38.625 33.640625 \nQ 34.96875 37.703125 28.421875 37.703125 \nQ 22.265625 37.703125 18.484375 34.109375 \nQ 14.703125 30.515625 14.703125 24.21875 \nQ 14.703125 16.265625 18.625 11.1875 \nQ 22.5625 6.109375 28.71875 6.109375 \nQ 35.0625 6.109375 38.671875 10.375 \nQ 42.28125 14.65625 42.28125 22.125 \nz\n\" id=\"LiberationSans-54\"/>\n     </defs>\n     <use xlink:href=\"#LiberationSans-49\"/>\n     <use x=\"55.615234\" xlink:href=\"#LiberationSans-57\"/>\n     <use x=\"111.230469\" xlink:href=\"#LiberationSans-54\"/>\n    </g>\n   </g>\n   <g id=\"text_9\">\n    <!-- 38 -->\n    <g transform=\"translate(174.118437 101.894375)scale(0.12 -0.12)\">\n     <defs>\n      <path d=\"M 51.21875 19 \nQ 51.21875 9.46875 45.15625 4.234375 \nQ 39.109375 -0.984375 27.875 -0.984375 \nQ 17.4375 -0.984375 11.203125 3.734375 \nQ 4.984375 8.453125 3.8125 17.671875 \nL 12.890625 18.5 \nQ 14.65625 6.296875 27.875 6.296875 \nQ 34.515625 6.296875 38.296875 9.5625 \nQ 42.09375 12.84375 42.09375 19.28125 \nQ 42.09375 24.90625 37.765625 28.046875 \nQ 33.453125 31.203125 25.296875 31.203125 \nL 20.3125 31.203125 \nL 20.3125 38.8125 \nL 25.09375 38.8125 \nQ 32.328125 38.8125 36.296875 41.96875 \nQ 40.28125 45.125 40.28125 50.6875 \nQ 40.28125 56.203125 37.03125 59.390625 \nQ 33.796875 62.59375 27.390625 62.59375 \nQ 21.578125 62.59375 17.984375 59.609375 \nQ 14.40625 56.640625 13.8125 51.21875 \nL 4.984375 51.90625 \nQ 5.953125 60.359375 11.984375 65.09375 \nQ 18.015625 69.828125 27.484375 69.828125 \nQ 37.84375 69.828125 43.578125 65.015625 \nQ 49.3125 60.203125 49.3125 51.609375 \nQ 49.3125 45.015625 45.625 40.890625 \nQ 41.9375 36.765625 34.90625 35.296875 \nL 34.90625 35.109375 \nQ 42.625 34.28125 46.921875 29.9375 \nQ 51.21875 25.59375 51.21875 19 \nz\n\" id=\"LiberationSans-51\"/>\n     </defs>\n     <use xlink:href=\"#LiberationSans-51\"/>\n     <use x=\"55.615234\" xlink:href=\"#LiberationSans-56\"/>\n    </g>\n   </g>\n   <g id=\"text_10\">\n    <!-- 48 -->\n    <g transform=\"translate(425.408437 101.894375)scale(0.12 -0.12)\">\n     <defs>\n      <path d=\"M 43.015625 15.578125 \nL 43.015625 0 \nL 34.71875 0 \nL 34.71875 15.578125 \nL 2.296875 15.578125 \nL 2.296875 22.40625 \nL 33.796875 68.796875 \nL 43.015625 68.796875 \nL 43.015625 22.515625 \nL 52.6875 22.515625 \nL 52.6875 15.578125 \nz\nM 34.71875 58.890625 \nQ 34.625 58.59375 33.34375 56.296875 \nQ 32.078125 54 31.453125 53.078125 \nL 13.8125 27.09375 \nL 11.1875 23.484375 \nL 10.40625 22.515625 \nL 34.71875 22.515625 \nz\n\" id=\"LiberationSans-52\"/>\n     </defs>\n     <use xlink:href=\"#LiberationSans-52\"/>\n     <use x=\"55.615234\" xlink:href=\"#LiberationSans-56\"/>\n    </g>\n   </g>\n   <g id=\"text_11\">\n    <!-- RandomForestClassifier Confusion Matrix -->\n    <g style=\"fill:#262626;\" transform=\"translate(195.404687 15.89625)scale(0.12 -0.12)\">\n     <defs>\n      <path d=\"M 56.84375 0 \nL 38.96875 28.5625 \nL 17.53125 28.5625 \nL 17.53125 0 \nL 8.203125 0 \nL 8.203125 68.796875 \nL 40.578125 68.796875 \nQ 52.203125 68.796875 58.515625 63.59375 \nQ 64.84375 58.40625 64.84375 49.125 \nQ 64.84375 41.453125 60.375 36.21875 \nQ 55.90625 31 48.046875 29.640625 \nL 67.578125 0 \nz\nM 55.46875 49.03125 \nQ 55.46875 55.03125 51.390625 58.171875 \nQ 47.3125 61.328125 39.65625 61.328125 \nL 17.53125 61.328125 \nL 17.53125 35.9375 \nL 40.046875 35.9375 \nQ 47.40625 35.9375 51.4375 39.375 \nQ 55.46875 42.828125 55.46875 49.03125 \nz\n\" id=\"LiberationSans-82\"/>\n      <path d=\"M 40.28125 0 \nL 40.28125 33.5 \nQ 40.28125 38.71875 39.25 41.59375 \nQ 38.234375 44.484375 35.984375 45.75 \nQ 33.734375 47.015625 29.390625 47.015625 \nQ 23.046875 47.015625 19.375 42.671875 \nQ 15.71875 38.328125 15.71875 30.609375 \nL 15.71875 0 \nL 6.9375 0 \nL 6.9375 41.546875 \nQ 6.9375 50.78125 6.640625 52.828125 \nL 14.9375 52.828125 \nQ 14.984375 52.59375 15.03125 51.515625 \nQ 15.09375 50.4375 15.15625 49.046875 \nQ 15.234375 47.65625 15.328125 43.796875 \nL 15.484375 43.796875 \nQ 18.5 49.265625 22.484375 51.53125 \nQ 26.46875 53.8125 32.375 53.8125 \nQ 41.0625 53.8125 45.09375 49.484375 \nQ 49.125 45.171875 49.125 35.203125 \nL 49.125 0 \nz\n\" id=\"LiberationSans-110\"/>\n      <path d=\"M 37.5 0 \nL 37.5 33.5 \nQ 37.5 41.15625 35.390625 44.078125 \nQ 33.296875 47.015625 27.828125 47.015625 \nQ 22.21875 47.015625 18.9375 42.71875 \nQ 15.671875 38.421875 15.671875 30.609375 \nL 15.671875 0 \nL 6.9375 0 \nL 6.9375 41.546875 \nQ 6.9375 50.78125 6.640625 52.828125 \nL 14.9375 52.828125 \nQ 14.984375 52.59375 15.03125 51.515625 \nQ 15.09375 50.4375 15.15625 49.046875 \nQ 15.234375 47.65625 15.328125 43.796875 \nL 15.484375 43.796875 \nQ 18.3125 49.421875 21.96875 51.609375 \nQ 25.640625 53.8125 30.90625 53.8125 \nQ 36.921875 53.8125 40.40625 51.421875 \nQ 43.890625 49.03125 45.265625 43.796875 \nL 45.40625 43.796875 \nQ 48.140625 49.125 52.015625 51.46875 \nQ 55.90625 53.8125 61.421875 53.8125 \nQ 69.4375 53.8125 73.0625 49.46875 \nQ 76.703125 45.125 76.703125 35.203125 \nL 76.703125 0 \nL 68.015625 0 \nL 68.015625 33.5 \nQ 68.015625 41.15625 65.90625 44.078125 \nQ 63.8125 47.015625 58.34375 47.015625 \nQ 52.59375 47.015625 49.390625 42.75 \nQ 46.1875 38.484375 46.1875 30.609375 \nL 46.1875 0 \nz\n\" id=\"LiberationSans-109\"/>\n      <path d=\"M 17.53125 61.1875 \nL 17.53125 35.59375 \nL 55.90625 35.59375 \nL 55.90625 27.875 \nL 17.53125 27.875 \nL 17.53125 0 \nL 8.203125 0 \nL 8.203125 68.796875 \nL 57.078125 68.796875 \nL 57.078125 61.1875 \nz\n\" id=\"LiberationSans-70\"/>\n      <path d=\"M 17.625 46.4375 \nL 17.625 0 \nL 8.84375 0 \nL 8.84375 46.4375 \nL 1.421875 46.4375 \nL 1.421875 52.828125 \nL 8.84375 52.828125 \nL 8.84375 58.796875 \nQ 8.84375 66.015625 12.015625 69.1875 \nQ 15.1875 72.359375 21.734375 72.359375 \nQ 25.390625 72.359375 27.9375 71.78125 \nL 27.9375 65.09375 \nQ 25.734375 65.484375 24.03125 65.484375 \nQ 20.65625 65.484375 19.140625 63.765625 \nQ 17.625 62.0625 17.625 57.5625 \nL 17.625 52.828125 \nL 27.9375 52.828125 \nL 27.9375 46.4375 \nz\n\" id=\"LiberationSans-102\"/>\n      <path d=\"M 66.703125 0 \nL 66.703125 45.90625 \nQ 66.703125 53.515625 67.140625 60.546875 \nQ 64.75 51.8125 62.84375 46.875 \nL 45.0625 0 \nL 38.53125 0 \nL 20.515625 46.875 \nL 17.78125 55.171875 \nL 16.15625 60.546875 \nL 16.3125 55.125 \nL 16.5 45.90625 \nL 16.5 0 \nL 8.203125 0 \nL 8.203125 68.796875 \nL 20.453125 68.796875 \nL 38.765625 21.09375 \nQ 39.75 18.21875 40.640625 14.921875 \nQ 41.546875 11.625 41.84375 10.15625 \nQ 42.234375 12.109375 43.484375 16.078125 \nQ 44.734375 20.0625 45.171875 21.09375 \nL 63.140625 68.796875 \nL 75.09375 68.796875 \nL 75.09375 0 \nz\n\" id=\"LiberationSans-77\"/>\n      <path d=\"M 39.109375 0 \nL 24.90625 21.6875 \nL 10.59375 0 \nL 1.125 0 \nL 19.921875 27.15625 \nL 2 52.828125 \nL 11.71875 52.828125 \nL 24.90625 32.28125 \nL 37.984375 52.828125 \nL 47.796875 52.828125 \nL 29.890625 27.25 \nL 48.921875 0 \nz\n\" id=\"LiberationSans-120\"/>\n     </defs>\n     <use xlink:href=\"#LiberationSans-82\"/>\n     <use x=\"72.216797\" xlink:href=\"#LiberationSans-97\"/>\n     <use x=\"127.832031\" xlink:href=\"#LiberationSans-110\"/>\n     <use x=\"183.447266\" xlink:href=\"#LiberationSans-100\"/>\n     <use x=\"239.0625\" xlink:href=\"#LiberationSans-111\"/>\n     <use x=\"294.677734\" xlink:href=\"#LiberationSans-109\"/>\n     <use x=\"377.978516\" xlink:href=\"#LiberationSans-70\"/>\n     <use x=\"439.0625\" xlink:href=\"#LiberationSans-111\"/>\n     <use x=\"494.677734\" xlink:href=\"#LiberationSans-114\"/>\n     <use x=\"527.978516\" xlink:href=\"#LiberationSans-101\"/>\n     <use x=\"583.59375\" xlink:href=\"#LiberationSans-115\"/>\n     <use x=\"633.59375\" xlink:href=\"#LiberationSans-116\"/>\n     <use x=\"661.376953\" xlink:href=\"#LiberationSans-67\"/>\n     <use x=\"733.59375\" xlink:href=\"#LiberationSans-108\"/>\n     <use x=\"755.810547\" xlink:href=\"#LiberationSans-97\"/>\n     <use x=\"811.425781\" xlink:href=\"#LiberationSans-115\"/>\n     <use x=\"861.425781\" xlink:href=\"#LiberationSans-115\"/>\n     <use x=\"911.425781\" xlink:href=\"#LiberationSans-105\"/>\n     <use x=\"933.642578\" xlink:href=\"#LiberationSans-102\"/>\n     <use x=\"961.425781\" xlink:href=\"#LiberationSans-105\"/>\n     <use x=\"983.642578\" xlink:href=\"#LiberationSans-101\"/>\n     <use x=\"1039.257812\" xlink:href=\"#LiberationSans-114\"/>\n     <use x=\"1072.558594\" xlink:href=\"#LiberationSans-32\"/>\n     <use x=\"1100.341797\" xlink:href=\"#LiberationSans-67\"/>\n     <use x=\"1172.558594\" xlink:href=\"#LiberationSans-111\"/>\n     <use x=\"1228.173828\" xlink:href=\"#LiberationSans-110\"/>\n     <use x=\"1283.789062\" xlink:href=\"#LiberationSans-102\"/>\n     <use x=\"1311.572266\" xlink:href=\"#LiberationSans-117\"/>\n     <use x=\"1367.1875\" xlink:href=\"#LiberationSans-115\"/>\n     <use x=\"1417.1875\" xlink:href=\"#LiberationSans-105\"/>\n     <use x=\"1439.404297\" xlink:href=\"#LiberationSans-111\"/>\n     <use x=\"1495.019531\" xlink:href=\"#LiberationSans-110\"/>\n     <use x=\"1550.634766\" xlink:href=\"#LiberationSans-32\"/>\n     <use x=\"1578.417969\" xlink:href=\"#LiberationSans-77\"/>\n     <use x=\"1661.71875\" xlink:href=\"#LiberationSans-97\"/>\n     <use x=\"1717.333984\" xlink:href=\"#LiberationSans-116\"/>\n     <use x=\"1745.117188\" xlink:href=\"#LiberationSans-114\"/>\n     <use x=\"1778.417969\" xlink:href=\"#LiberationSans-105\"/>\n     <use x=\"1800.634766\" xlink:href=\"#LiberationSans-120\"/>\n    </g>\n   </g>\n  </g>\n </g>\n <defs>\n  <clipPath id=\"p68dd713c73\">\n   <rect height=\"307.58\" width=\"502.58\" x=\"55.146563\" y=\"21.89625\"/>\n  </clipPath>\n </defs>\n</svg>\n",
      "image/png": "[encoded data removed]"
     },
     "metadata": {}
    },
    {
     "output_type": "execute_result",
     "data": {
      "text/plain": [
       "<AxesSubplot:title={'center':'RandomForestClassifier Confusion Matrix'}, xlabel='Predicted Class', ylabel='True Class'>"
      ]
     },
     "metadata": {},
     "execution_count": 42
    }
   ],
   "source": [
    "# Visualização da Matriz de confusão\n",
    "v = ConfusionMatrix(florest)\n",
    "v.fit(X_train, y_train)\n",
    "v.score(X_test, y_test)\n",
    "v.poof()"
   ]
  },
  {
   "cell_type": "code",
   "execution_count": null,
   "metadata": {},
   "outputs": [],
   "source": []
  }
 ]
}