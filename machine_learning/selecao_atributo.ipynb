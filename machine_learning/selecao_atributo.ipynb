{
 "metadata": {
  "language_info": {
   "codemirror_mode": {
    "name": "ipython",
    "version": 3
   },
   "file_extension": ".py",
   "mimetype": "text/x-python",
   "name": "python",
   "nbconvert_exporter": "python",
   "pygments_lexer": "ipython3",
   "version": "3.8.5-final"
  },
  "orig_nbformat": 2,
  "kernelspec": {
   "name": "python3",
   "display_name": "Python 3.8.5 64-bit ('base': conda)",
   "metadata": {
    "interpreter": {
     "hash": "1f35f486eb6ce23489abc6d8c88052e0ba5c8d36cbbd1fd80ff2953db8759dad"
    }
   }
  }
 },
 "nbformat": 4,
 "nbformat_minor": 2,
 "cells": [
  {
   "source": [
    "## Seleção de atributos\n",
    "\n",
    "Fazendo uma analise com créditos pegando apenas os atributos que fazem sentido para nosso dataset"
   ],
   "cell_type": "markdown",
   "metadata": {}
  },
  {
   "cell_type": "code",
   "execution_count": 3,
   "metadata": {},
   "outputs": [],
   "source": [
    "# Importação das bibliotecas\n",
    "import pandas as pd\n",
    "from sklearn.model_selection import train_test_split\n",
    "from sklearn.preprocessing import LabelEncoder\n",
    "from sklearn.metrics import confusion_matrix, accuracy_score\n",
    "from sklearn.svm import SVC\n",
    "from sklearn.ensemble import ExtraTreesClassifier"
   ]
  },
  {
   "cell_type": "code",
   "execution_count": 5,
   "metadata": {},
   "outputs": [
    {
     "output_type": "execute_result",
     "data": {
      "text/plain": [
       "  checking_status  duration                    credit_history  \\\n",
       "0              <0         6  'critical/other existing credit'   \n",
       "1        0<=X<200        48                   'existing paid'   \n",
       "2   'no checking'        12  'critical/other existing credit'   \n",
       "3              <0        42                   'existing paid'   \n",
       "4              <0        24              'delayed previously'   \n",
       "\n",
       "               purpose  credit_amount      savings_status employment  \\\n",
       "0             radio/tv           1169  'no known savings'        >=7   \n",
       "1             radio/tv           5951                <100     1<=X<4   \n",
       "2            education           2096                <100     4<=X<7   \n",
       "3  furniture/equipment           7882                <100     4<=X<7   \n",
       "4            'new car'           4870                <100     1<=X<4   \n",
       "\n",
       "   installment_commitment       personal_status other_parties  ...  \\\n",
       "0                       4         'male single'          none  ...   \n",
       "1                       2  'female div/dep/mar'          none  ...   \n",
       "2                       2         'male single'          none  ...   \n",
       "3                       2         'male single'     guarantor  ...   \n",
       "4                       3         'male single'          none  ...   \n",
       "\n",
       "    property_magnitude age  other_payment_plans     housing existing_credits  \\\n",
       "0        'real estate'  67                 none         own                2   \n",
       "1        'real estate'  22                 none         own                1   \n",
       "2        'real estate'  49                 none         own                1   \n",
       "3     'life insurance'  45                 none  'for free'                1   \n",
       "4  'no known property'  53                 none  'for free'                2   \n",
       "\n",
       "                    job num_dependents  own_telephone foreign_worker class  \n",
       "0               skilled              1            yes            yes  good  \n",
       "1               skilled              1           none            yes   bad  \n",
       "2  'unskilled resident'              2           none            yes  good  \n",
       "3               skilled              2           none            yes  good  \n",
       "4               skilled              2           none            yes   bad  \n",
       "\n",
       "[5 rows x 21 columns]"
      ],
      "text/html": "<div>\n<style scoped>\n    .dataframe tbody tr th:only-of-type {\n        vertical-align: middle;\n    }\n\n    .dataframe tbody tr th {\n        vertical-align: top;\n    }\n\n    .dataframe thead th {\n        text-align: right;\n    }\n</style>\n<table border=\"1\" class=\"dataframe\">\n  <thead>\n    <tr style=\"text-align: right;\">\n      <th></th>\n      <th>checking_status</th>\n      <th>duration</th>\n      <th>credit_history</th>\n      <th>purpose</th>\n      <th>credit_amount</th>\n      <th>savings_status</th>\n      <th>employment</th>\n      <th>installment_commitment</th>\n      <th>personal_status</th>\n      <th>other_parties</th>\n      <th>...</th>\n      <th>property_magnitude</th>\n      <th>age</th>\n      <th>other_payment_plans</th>\n      <th>housing</th>\n      <th>existing_credits</th>\n      <th>job</th>\n      <th>num_dependents</th>\n      <th>own_telephone</th>\n      <th>foreign_worker</th>\n      <th>class</th>\n    </tr>\n  </thead>\n  <tbody>\n    <tr>\n      <th>0</th>\n      <td>&lt;0</td>\n      <td>6</td>\n      <td>'critical/other existing credit'</td>\n      <td>radio/tv</td>\n      <td>1169</td>\n      <td>'no known savings'</td>\n      <td>&gt;=7</td>\n      <td>4</td>\n      <td>'male single'</td>\n      <td>none</td>\n      <td>...</td>\n      <td>'real estate'</td>\n      <td>67</td>\n      <td>none</td>\n      <td>own</td>\n      <td>2</td>\n      <td>skilled</td>\n      <td>1</td>\n      <td>yes</td>\n      <td>yes</td>\n      <td>good</td>\n    </tr>\n    <tr>\n      <th>1</th>\n      <td>0&lt;=X&lt;200</td>\n      <td>48</td>\n      <td>'existing paid'</td>\n      <td>radio/tv</td>\n      <td>5951</td>\n      <td>&lt;100</td>\n      <td>1&lt;=X&lt;4</td>\n      <td>2</td>\n      <td>'female div/dep/mar'</td>\n      <td>none</td>\n      <td>...</td>\n      <td>'real estate'</td>\n      <td>22</td>\n      <td>none</td>\n      <td>own</td>\n      <td>1</td>\n      <td>skilled</td>\n      <td>1</td>\n      <td>none</td>\n      <td>yes</td>\n      <td>bad</td>\n    </tr>\n    <tr>\n      <th>2</th>\n      <td>'no checking'</td>\n      <td>12</td>\n      <td>'critical/other existing credit'</td>\n      <td>education</td>\n      <td>2096</td>\n      <td>&lt;100</td>\n      <td>4&lt;=X&lt;7</td>\n      <td>2</td>\n      <td>'male single'</td>\n      <td>none</td>\n      <td>...</td>\n      <td>'real estate'</td>\n      <td>49</td>\n      <td>none</td>\n      <td>own</td>\n      <td>1</td>\n      <td>'unskilled resident'</td>\n      <td>2</td>\n      <td>none</td>\n      <td>yes</td>\n      <td>good</td>\n    </tr>\n    <tr>\n      <th>3</th>\n      <td>&lt;0</td>\n      <td>42</td>\n      <td>'existing paid'</td>\n      <td>furniture/equipment</td>\n      <td>7882</td>\n      <td>&lt;100</td>\n      <td>4&lt;=X&lt;7</td>\n      <td>2</td>\n      <td>'male single'</td>\n      <td>guarantor</td>\n      <td>...</td>\n      <td>'life insurance'</td>\n      <td>45</td>\n      <td>none</td>\n      <td>'for free'</td>\n      <td>1</td>\n      <td>skilled</td>\n      <td>2</td>\n      <td>none</td>\n      <td>yes</td>\n      <td>good</td>\n    </tr>\n    <tr>\n      <th>4</th>\n      <td>&lt;0</td>\n      <td>24</td>\n      <td>'delayed previously'</td>\n      <td>'new car'</td>\n      <td>4870</td>\n      <td>&lt;100</td>\n      <td>1&lt;=X&lt;4</td>\n      <td>3</td>\n      <td>'male single'</td>\n      <td>none</td>\n      <td>...</td>\n      <td>'no known property'</td>\n      <td>53</td>\n      <td>none</td>\n      <td>'for free'</td>\n      <td>2</td>\n      <td>skilled</td>\n      <td>2</td>\n      <td>none</td>\n      <td>yes</td>\n      <td>bad</td>\n    </tr>\n  </tbody>\n</table>\n<p>5 rows × 21 columns</p>\n</div>"
     },
     "metadata": {},
     "execution_count": 5
    }
   ],
   "source": [
    "# Carregamento da base de dados e criação dos previsores (variáveis independentes - X) e da classe (variável dependente - y)\n",
    "credito = pd.read_csv('./dados/Credit.csv')\n",
    "credito.head()"
   ]
  },
  {
   "cell_type": "code",
   "execution_count": 6,
   "metadata": {},
   "outputs": [],
   "source": [
    "previsores = credito.iloc[:,0:20].values\n",
    "classe = credito.iloc[:,20].values"
   ]
  },
  {
   "cell_type": "code",
   "execution_count": 7,
   "metadata": {},
   "outputs": [],
   "source": [
    "# Transformação dos atributos categóricos em atributos numéricos, passando o índice de cada atributo categórico\n",
    "labelencoder = LabelEncoder()\n",
    "previsores[:,0] = labelencoder.fit_transform(previsores[:,0])\n",
    "previsores[:,2] = labelencoder.fit_transform(previsores[:,2])\n",
    "previsores[:, 3] = labelencoder.fit_transform(previsores[:, 3])\n",
    "previsores[:, 5] = labelencoder.fit_transform(previsores[:, 5])\n",
    "previsores[:, 6] = labelencoder.fit_transform(previsores[:, 6])\n",
    "previsores[:, 8] = labelencoder.fit_transform(previsores[:, 8])\n",
    "previsores[:, 9] = labelencoder.fit_transform(previsores[:, 9])\n",
    "previsores[:, 11] = labelencoder.fit_transform(previsores[:, 11])\n",
    "previsores[:, 13] = labelencoder.fit_transform(previsores[:, 13])\n",
    "previsores[:, 14] = labelencoder.fit_transform(previsores[:, 14])\n",
    "previsores[:, 16] = labelencoder.fit_transform(previsores[:, 16])\n",
    "previsores[:, 18] = labelencoder.fit_transform(previsores[:, 18])\n",
    "previsores[:, 19] = labelencoder.fit_transform(previsores[:, 19])"
   ]
  },
  {
   "cell_type": "code",
   "execution_count": 8,
   "metadata": {},
   "outputs": [],
   "source": [
    "# Divisão da base de dados entre treinamento e teste (30% para testar e 70% para treinar)\n",
    "X_train, X_test, y_train, y_test = train_test_split(previsores,\n",
    "                                                                  classe,\n",
    "                                                                  test_size = 0.3,\n",
    "                                                                  random_state = 1)"
   ]
  },
  {
   "cell_type": "code",
   "execution_count": 13,
   "metadata": {},
   "outputs": [
    {
     "output_type": "execute_result",
     "data": {
      "text/plain": [
       "SVC()"
      ]
     },
     "metadata": {},
     "execution_count": 13
    }
   ],
   "source": [
    "# Criação do modelo, treinamento, obtenção das previsões e da taxa de acerto\n",
    "svm = SVC()\n",
    "svm.fit(X_train, y_train)\n",
    "(svm)"
   ]
  },
  {
   "cell_type": "code",
   "execution_count": 17,
   "metadata": {},
   "outputs": [
    {
     "output_type": "execute_result",
     "data": {
      "text/plain": [
       "array(['good', 'bad', 'good', 'good', 'good', 'good', 'good', 'good',\n",
       "       'good', 'good', 'good', 'good', 'good', 'good', 'good', 'good',\n",
       "       'good', 'good', 'good', 'good', 'good', 'good', 'good', 'good',\n",
       "       'good', 'good', 'good', 'good', 'good', 'bad', 'good', 'good',\n",
       "       'bad', 'good', 'good', 'bad', 'good', 'good', 'good', 'good',\n",
       "       'good', 'good', 'good', 'good', 'good', 'good', 'good', 'good',\n",
       "       'good', 'good', 'good', 'good', 'good', 'good', 'good', 'good',\n",
       "       'good', 'good', 'good', 'good', 'good', 'good', 'bad', 'good',\n",
       "       'good', 'good', 'good', 'good', 'good', 'good', 'good', 'good',\n",
       "       'good', 'good', 'good', 'good', 'good', 'good', 'good', 'good',\n",
       "       'good', 'good', 'good', 'good', 'good', 'good', 'good', 'good',\n",
       "       'good', 'good', 'good', 'good', 'good', 'good', 'good', 'good',\n",
       "       'good', 'good', 'good', 'good', 'good', 'good', 'good', 'good',\n",
       "       'good', 'good', 'good', 'good', 'bad', 'good', 'good', 'good',\n",
       "       'good', 'good', 'good', 'good', 'good', 'good', 'good', 'good',\n",
       "       'good', 'good', 'good', 'good', 'good', 'good', 'good', 'good',\n",
       "       'good', 'good', 'good', 'good', 'good', 'good', 'good', 'good',\n",
       "       'good', 'good', 'good', 'good', 'good', 'good', 'good', 'good',\n",
       "       'good', 'good', 'good', 'good', 'good', 'good', 'good', 'good',\n",
       "       'good', 'good', 'good', 'good', 'good', 'good', 'good', 'good',\n",
       "       'good', 'good', 'good', 'good', 'bad', 'good', 'good', 'good',\n",
       "       'good', 'good', 'good', 'good', 'good', 'good', 'good', 'good',\n",
       "       'good', 'good', 'good', 'good', 'good', 'good', 'good', 'good',\n",
       "       'good', 'good', 'good', 'good', 'good', 'good', 'good', 'good',\n",
       "       'good', 'good', 'good', 'good', 'good', 'good', 'good', 'good',\n",
       "       'good', 'good', 'good', 'good', 'good', 'good', 'good', 'good',\n",
       "       'good', 'good', 'good', 'good', 'good', 'good', 'good', 'good',\n",
       "       'good', 'good', 'good', 'good', 'good', 'good', 'good', 'good',\n",
       "       'good', 'good', 'good', 'good', 'good', 'good', 'good', 'good',\n",
       "       'good', 'good', 'good', 'good', 'good', 'good', 'good', 'good',\n",
       "       'good', 'good', 'good', 'good', 'good', 'good', 'good', 'good',\n",
       "       'good', 'good', 'good', 'good', 'good', 'good', 'good', 'good',\n",
       "       'good', 'good', 'good', 'good', 'good', 'good', 'good', 'good',\n",
       "       'good', 'good', 'good', 'good', 'good', 'good', 'good', 'good',\n",
       "       'good', 'good', 'good', 'good', 'good', 'good', 'good', 'good',\n",
       "       'good', 'good', 'good', 'good', 'good', 'good', 'good', 'good',\n",
       "       'good', 'good', 'good', 'good', 'good', 'good', 'good', 'good',\n",
       "       'good', 'good', 'good', 'good'], dtype=object)"
      ]
     },
     "metadata": {},
     "execution_count": 17
    }
   ],
   "source": [
    "#previsoes\n",
    "previsoes = svm.predict(X_test)\n",
    "previsoes"
   ]
  },
  {
   "cell_type": "code",
   "execution_count": 19,
   "metadata": {},
   "outputs": [
    {
     "output_type": "execute_result",
     "data": {
      "text/plain": [
       "0.7166666666666667"
      ]
     },
     "metadata": {},
     "execution_count": 19
    }
   ],
   "source": [
    "taxa_acerto = accuracy_score(y_test, previsoes)\n",
    "taxa_acerto"
   ]
  },
  {
   "cell_type": "code",
   "execution_count": 21,
   "metadata": {},
   "outputs": [
    {
     "output_type": "execute_result",
     "data": {
      "text/plain": [
       "array([0.09919447, 0.08300116, 0.07019275, 0.05864644, 0.07900827,\n",
       "       0.05221448, 0.05301075, 0.05659787, 0.04525834, 0.02782055,\n",
       "       0.04793659, 0.04769721, 0.06831655, 0.04332885, 0.03578198,\n",
       "       0.03224661, 0.04021841, 0.02149147, 0.03078634, 0.00725091])"
      ]
     },
     "metadata": {},
     "execution_count": 21
    }
   ],
   "source": [
    "# Utilização do algoritmo ExtraTreesClassifier para extrair as características mais importantes\n",
    "forest = ExtraTreesClassifier()\n",
    "forest.fit(X_train, y_train)\n",
    "importancias = forest.feature_importances_\n",
    "importancias"
   ]
  },
  {
   "cell_type": "code",
   "execution_count": 23,
   "metadata": {},
   "outputs": [],
   "source": [
    "# Criação de nova base de dados utilizando somente os atributos mais importantes\n",
    "X_train2 = X_train[:,[0,1,2,3]]\n",
    "X_test2 = X_test[:,[0,1,2,3]]"
   ]
  },
  {
   "cell_type": "code",
   "execution_count": 28,
   "metadata": {},
   "outputs": [
    {
     "output_type": "execute_result",
     "data": {
      "text/plain": [
       "0.7233333333333334"
      ]
     },
     "metadata": {},
     "execution_count": 28
    }
   ],
   "source": [
    "# Criar de outro modelo com a base de dados reduzida, treinamento e obtençaão das previsões e taxa de acerto\n",
    "svm2 = SVC()\n",
    "svm2.fit(X_train2, y_train)\n",
    "previsoes2 = svm2.predict(X_test2)\n",
    "taxa_acerto = accuracy_score(y_test, previsoes2)\n",
    "taxa_acerto"
   ]
  },
  {
   "cell_type": "code",
   "execution_count": null,
   "metadata": {},
   "outputs": [],
   "source": []
  },
  {
   "cell_type": "code",
   "execution_count": null,
   "metadata": {},
   "outputs": [],
   "source": []
  }
 ]
}